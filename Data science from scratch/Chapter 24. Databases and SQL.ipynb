{
 "cells": [
  {
   "cell_type": "code",
   "execution_count": 1,
   "id": "d14cd789",
   "metadata": {},
   "outputs": [
    {
     "data": {
      "text/plain": [
       "['D:\\\\books\\\\python\\\\0.Data Science from Scratch- First Principles with Python',\n",
       " 'D:/books/python/0.Data Science from Scratch- First Principles with Python/data-science-from-scratch/scratch/',\n",
       " 'C:\\\\Users\\\\lidan\\\\miniconda3\\\\python38.zip',\n",
       " 'C:\\\\Users\\\\lidan\\\\miniconda3\\\\DLLs',\n",
       " 'C:\\\\Users\\\\lidan\\\\miniconda3\\\\lib',\n",
       " 'C:\\\\Users\\\\lidan\\\\miniconda3',\n",
       " '',\n",
       " 'C:\\\\Users\\\\lidan\\\\AppData\\\\Roaming\\\\Python\\\\Python38\\\\site-packages',\n",
       " 'C:\\\\Users\\\\lidan\\\\miniconda3\\\\lib\\\\site-packages',\n",
       " 'C:\\\\Users\\\\lidan\\\\miniconda3\\\\lib\\\\site-packages\\\\magic_impute-2.0.4-py3.8.egg',\n",
       " 'C:\\\\Users\\\\lidan\\\\miniconda3\\\\lib\\\\site-packages\\\\seqc-0.2.0-py3.8.egg',\n",
       " 'C:\\\\Users\\\\lidan\\\\miniconda3\\\\lib\\\\site-packages\\\\weasyprint-56.1-py3.8.egg',\n",
       " 'C:\\\\Users\\\\lidan\\\\miniconda3\\\\lib\\\\site-packages\\\\cairocffi-1.3.0-py3.8.egg',\n",
       " 'C:\\\\Users\\\\lidan\\\\miniconda3\\\\lib\\\\site-packages\\\\win32',\n",
       " 'C:\\\\Users\\\\lidan\\\\miniconda3\\\\lib\\\\site-packages\\\\win32\\\\lib',\n",
       " 'C:\\\\Users\\\\lidan\\\\miniconda3\\\\lib\\\\site-packages\\\\Pythonwin']"
      ]
     },
     "execution_count": 1,
     "metadata": {},
     "output_type": "execute_result"
    }
   ],
   "source": [
    "from __future__ import annotations\n",
    "import sys\n",
    "    # caution: path[0] is reserved for script path (or '' in REPL)\n",
    "sys.path.insert(1, 'D:/books/python/0.Data Science from Scratch- First Principles with Python/data-science-from-scratch/scratch/')\n",
    "sys.path"
   ]
  },
  {
   "cell_type": "code",
   "execution_count": 2,
   "id": "82954b84",
   "metadata": {},
   "outputs": [],
   "source": [
    "users = [[0, \"Hero\", 0],\n",
    "         [1, \"Dunn\", 2],\n",
    "         [2, \"Sue\", 3],\n",
    "         [3, \"Chi\", 3]]"
   ]
  },
  {
   "cell_type": "code",
   "execution_count": 3,
   "id": "fb090220",
   "metadata": {},
   "outputs": [],
   "source": [
    "from typing import Tuple, Sequence, List, Any, Callable, Dict, Iterator\n",
    "from collections import defaultdict\n",
    "\n",
    "# A few type aliases we'll use later\n",
    "Row = Dict[str, Any]                        # A database row\n",
    "WhereClause = Callable[[Row], bool]         # Predicate for a single row\n",
    "HavingClause = Callable[[List[Row]], bool]  # Predicate over multiple rows"
   ]
  },
  {
   "cell_type": "code",
   "execution_count": 4,
   "id": "26b6cfc4",
   "metadata": {},
   "outputs": [],
   "source": [
    "class Table:\n",
    "    def __init__(self, columns: List[str], types: List[type]) -> None:\n",
    "        assert len(columns) == len(types), \"# of columns must == # of types\"\n",
    "\n",
    "        self.columns = columns         # Names of columns\n",
    "        self.types = types             # Data types of columns\n",
    "        self.rows: List[Row] = []      # (no data yet)\n",
    "\n",
    "    def col2type(self, col: str) -> type:\n",
    "        idx = self.columns.index(col)      # Find the index of the column,\n",
    "        return self.types[idx]             # and return its type.\n",
    "\n",
    "    def insert(self, values: list) -> None:\n",
    "        # Check for right # of values\n",
    "        if len(values) != len(self.types):\n",
    "            raise ValueError(f\"You need to provide {len(self.types)} values\")\n",
    "\n",
    "        # Check for right types of values\n",
    "        for value, typ3 in zip(values, self.types):\n",
    "            if not isinstance(value, typ3) and value is not None:\n",
    "                raise TypeError(f\"Expected type {typ3} but got {value}\")\n",
    "\n",
    "        # Add the corresponding dict as a \"row\"\n",
    "        self.rows.append(dict(zip(self.columns, values)))\n",
    "\n",
    "    def __getitem__(self, idx: int) -> Row:\n",
    "        return self.rows[idx]\n",
    "\n",
    "    def __iter__(self) -> Iterator[Row]:\n",
    "        return iter(self.rows)\n",
    "\n",
    "    def __len__(self) -> int:\n",
    "        return len(self.rows)\n",
    "\n",
    "    def __repr__(self):\n",
    "        \"\"\"Pretty representation of the table: columns then rows\"\"\"\n",
    "        rows = \"\\n\".join(str(row) for row in self.rows)\n",
    "\n",
    "        return f\"{self.columns}\\n{rows}\"\n",
    "\n",
    "    def update(self,\n",
    "               updates: Dict[str, Any],\n",
    "               predicate: WhereClause = lambda row: True):\n",
    "        # First make sure the updates have valid names and types\n",
    "        for column, new_value in updates.items():\n",
    "            if column not in self.columns:\n",
    "                raise ValueError(f\"invalid column: {column}\")\n",
    "\n",
    "            typ3 = self.col2type(column)\n",
    "            if not isinstance(new_value, typ3) and new_value is not None:\n",
    "                raise TypeError(f\"expected type {typ3}, but got {new_value}\")\n",
    "\n",
    "        # Now update\n",
    "        for row in self.rows:\n",
    "            if predicate(row):\n",
    "                for column, new_value in updates.items():\n",
    "                    row[column] = new_value\n",
    "\n",
    "    def delete(self, predicate: WhereClause = lambda row: True) -> None:\n",
    "        \"\"\"Delete all rows matching predicate\"\"\"\n",
    "        self.rows = [row for row in self.rows if not predicate(row)]\n",
    "\n",
    "    def select(self,\n",
    "               keep_columns: List[str] = None,\n",
    "               additional_columns: Dict[str, Callable] = None) -> 'Table':\n",
    "\n",
    "        if keep_columns is None:         # If no columns specified,\n",
    "            keep_columns = self.columns  # return all columns\n",
    "\n",
    "        if additional_columns is None:\n",
    "            additional_columns = {}\n",
    "\n",
    "        # New column names and types\n",
    "        new_columns = keep_columns + list(additional_columns.keys())\n",
    "        keep_types = [self.col2type(col) for col in keep_columns]\n",
    "\n",
    "        # This is how to get the return type from a type annotation.\n",
    "        # It will crash if `calculation` doesn't have a return type.\n",
    "        add_types = [calculation.__annotations__['return']\n",
    "                     for calculation in additional_columns.values()]\n",
    "\n",
    "        # Create a new table for results\n",
    "        new_table = Table(new_columns, keep_types + add_types)\n",
    "\n",
    "        for row in self.rows:\n",
    "            new_row = [row[column] for column in keep_columns]\n",
    "            for column_name, calculation in additional_columns.items():\n",
    "                new_row.append(calculation(row))\n",
    "            new_table.insert(new_row)\n",
    "\n",
    "        return new_table\n",
    "\n",
    "    def where(self, predicate: WhereClause = lambda row: True) -> 'Table':\n",
    "        \"\"\"Return only the rows that satisfy the supplied predicate\"\"\"\n",
    "        where_table = Table(self.columns, self.types)\n",
    "        for row in self.rows:\n",
    "            if predicate(row):\n",
    "                values = [row[column] for column in self.columns]\n",
    "                where_table.insert(values)\n",
    "        return where_table\n",
    "\n",
    "    def limit(self, num_rows: int) -> 'Table':\n",
    "        \"\"\"Return only the first `num_rows` rows\"\"\"\n",
    "        limit_table = Table(self.columns, self.types)\n",
    "        for i, row in enumerate(self.rows):\n",
    "            if i >= num_rows:\n",
    "                break\n",
    "            values = [row[column] for column in self.columns]\n",
    "            limit_table.insert(values)\n",
    "        return limit_table\n",
    "\n",
    "    def group_by(self,\n",
    "                 group_by_columns: List[str],\n",
    "                 aggregates: Dict[str, Callable],\n",
    "                 having: HavingClause = lambda group: True) -> 'Table':\n",
    "\n",
    "        grouped_rows = defaultdict(list)\n",
    "\n",
    "        # Populate groups\n",
    "        for row in self.rows:\n",
    "            key = tuple(row[column] for column in group_by_columns)\n",
    "            grouped_rows[key].append(row)\n",
    "\n",
    "        # Result table consists of group_by columns and aggregates\n",
    "        new_columns = group_by_columns + list(aggregates.keys())\n",
    "        group_by_types = [self.col2type(col) for col in group_by_columns]\n",
    "        aggregate_types = [agg.__annotations__['return']\n",
    "                           for agg in aggregates.values()]\n",
    "        result_table = Table(new_columns, group_by_types + aggregate_types)\n",
    "\n",
    "        for key, rows in grouped_rows.items():\n",
    "            if having(rows):\n",
    "                new_row = list(key)\n",
    "                for aggregate_name, aggregate_fn in aggregates.items():\n",
    "                    new_row.append(aggregate_fn(rows))\n",
    "                result_table.insert(new_row)\n",
    "\n",
    "        return result_table\n",
    "\n",
    "    def order_by(self, order: Callable[[Row], Any]) -> 'Table':\n",
    "        new_table = self.select()       # make a copy\n",
    "        new_table.rows.sort(key=order)\n",
    "        return new_table\n",
    "\n",
    "    def join(self, other_table: 'Table', left_join: bool = False) -> 'Table':\n",
    "\n",
    "        join_on_columns = [c for c in self.columns           # columns in\n",
    "                           if c in other_table.columns]      # both tables\n",
    "\n",
    "        additional_columns = [c for c in other_table.columns # columns only\n",
    "                              if c not in join_on_columns]   # in right table\n",
    "\n",
    "        # all columns from left table + additional_columns from right table\n",
    "        new_columns = self.columns + additional_columns\n",
    "        new_types = self.types + [other_table.col2type(col)\n",
    "                                  for col in additional_columns]\n",
    "\n",
    "        join_table = Table(new_columns, new_types)\n",
    "\n",
    "        for row in self.rows:\n",
    "            def is_join(other_row):\n",
    "                return all(other_row[c] == row[c] for c in join_on_columns)\n",
    "\n",
    "            other_rows = other_table.where(is_join).rows\n",
    "\n",
    "            # Each other row that matches this one produces a result row.\n",
    "            for other_row in other_rows:\n",
    "                join_table.insert([row[c] for c in self.columns] +\n",
    "                                  [other_row[c] for c in additional_columns])\n",
    "\n",
    "            # If no rows match and it's a left join, output with Nones.\n",
    "            if left_join and not other_rows:\n",
    "                join_table.insert([row[c] for c in self.columns] +\n",
    "                                  [None for c in additional_columns])\n",
    "\n",
    "        return join_table"
   ]
  },
  {
   "cell_type": "code",
   "execution_count": 5,
   "id": "b16006e1",
   "metadata": {},
   "outputs": [
    {
     "data": {
      "text/plain": [
       "['user_id', 'name', 'num_friends']"
      ]
     },
     "execution_count": 5,
     "metadata": {},
     "output_type": "execute_result"
    }
   ],
   "source": [
    "# Constructor requires column names and types\n",
    "users = Table(['user_id', 'name', 'num_friends'], [int, str, int])\n",
    "users"
   ]
  },
  {
   "cell_type": "code",
   "execution_count": 6,
   "id": "30857d1c",
   "metadata": {},
   "outputs": [
    {
     "data": {
      "text/plain": [
       "['user_id', 'name', 'num_friends']\n",
       "{'user_id': 0, 'name': 'Hero', 'num_friends': 0}\n",
       "{'user_id': 1, 'name': 'Dunn', 'num_friends': 2}\n",
       "{'user_id': 2, 'name': 'Sue', 'num_friends': 3}\n",
       "{'user_id': 3, 'name': 'Chi', 'num_friends': 3}\n",
       "{'user_id': 4, 'name': 'Thor', 'num_friends': 3}\n",
       "{'user_id': 5, 'name': 'Clive', 'num_friends': 2}\n",
       "{'user_id': 6, 'name': 'Hicks', 'num_friends': 3}\n",
       "{'user_id': 7, 'name': 'Devin', 'num_friends': 2}\n",
       "{'user_id': 8, 'name': 'Kate', 'num_friends': 2}\n",
       "{'user_id': 9, 'name': 'Klein', 'num_friends': 3}\n",
       "{'user_id': 10, 'name': 'Jen', 'num_friends': 1}"
      ]
     },
     "execution_count": 6,
     "metadata": {},
     "output_type": "execute_result"
    }
   ],
   "source": [
    "users.insert([0, \"Hero\", 0])\n",
    "users.insert([1, \"Dunn\", 2])\n",
    "users.insert([2, \"Sue\", 3])\n",
    "users.insert([3, \"Chi\", 3])\n",
    "users.insert([4, \"Thor\", 3])\n",
    "users.insert([5, \"Clive\", 2])\n",
    "users.insert([6, \"Hicks\", 3])\n",
    "users.insert([7, \"Devin\", 2])\n",
    "users.insert([8, \"Kate\", 2])\n",
    "users.insert([9, \"Klein\", 3])\n",
    "users.insert([10, \"Jen\", 1])\n",
    "users"
   ]
  },
  {
   "cell_type": "code",
   "execution_count": 7,
   "id": "1c656742",
   "metadata": {},
   "outputs": [],
   "source": [
    "assert len(users) == 11\n",
    "assert users[1]['name'] == 'Dunn'\n",
    "assert users[1]['num_friends'] == 2             # Original value"
   ]
  },
  {
   "cell_type": "code",
   "execution_count": 8,
   "id": "2733caf3",
   "metadata": {},
   "outputs": [
    {
     "data": {
      "text/plain": [
       "['user_id', 'name', 'num_friends']\n",
       "{'user_id': 0, 'name': 'Hero', 'num_friends': 0}\n",
       "{'user_id': 1, 'name': 'Dunn', 'num_friends': 3}\n",
       "{'user_id': 2, 'name': 'Sue', 'num_friends': 3}\n",
       "{'user_id': 3, 'name': 'Chi', 'num_friends': 3}\n",
       "{'user_id': 4, 'name': 'Thor', 'num_friends': 3}\n",
       "{'user_id': 5, 'name': 'Clive', 'num_friends': 2}\n",
       "{'user_id': 6, 'name': 'Hicks', 'num_friends': 3}\n",
       "{'user_id': 7, 'name': 'Devin', 'num_friends': 2}\n",
       "{'user_id': 8, 'name': 'Kate', 'num_friends': 2}\n",
       "{'user_id': 9, 'name': 'Klein', 'num_friends': 3}\n",
       "{'user_id': 10, 'name': 'Jen', 'num_friends': 1}"
      ]
     },
     "execution_count": 8,
     "metadata": {},
     "output_type": "execute_result"
    }
   ],
   "source": [
    "users.update({'num_friends' : 3},               # Set num_friends = 3\n",
    "             lambda row: row['user_id'] == 1)   # in rows where user_id == 1\n",
    "users"
   ]
  },
  {
   "cell_type": "code",
   "execution_count": 9,
   "id": "21c4726e",
   "metadata": {},
   "outputs": [],
   "source": [
    "assert users[1]['num_friends'] == 3             # Updated value"
   ]
  },
  {
   "cell_type": "code",
   "execution_count": 10,
   "id": "8599e444",
   "metadata": {},
   "outputs": [],
   "source": [
    "# SELECT * FROM users;\n",
    "all_users = users.select()\n",
    "assert len(all_users) == 11"
   ]
  },
  {
   "cell_type": "code",
   "execution_count": 11,
   "id": "1e87c78d",
   "metadata": {},
   "outputs": [],
   "source": [
    "# SELECT * FROM users LIMIT 2;\n",
    "two_users = users.limit(2)\n",
    "assert len(two_users) == 2"
   ]
  },
  {
   "cell_type": "code",
   "execution_count": 12,
   "id": "a4e40d28",
   "metadata": {},
   "outputs": [],
   "source": [
    "# SELECT user_id FROM users;\n",
    "just_ids = users.select(keep_columns=[\"user_id\"])\n",
    "assert just_ids.columns == ['user_id']"
   ]
  },
  {
   "cell_type": "code",
   "execution_count": 13,
   "id": "5ea0263d",
   "metadata": {},
   "outputs": [],
   "source": [
    "# SELECT user_id FROM users WHERE name = 'Dunn';\n",
    "dunn_ids = (\n",
    "        users\n",
    "        .where(lambda row: row[\"name\"] == \"Dunn\")\n",
    "        .select(keep_columns=[\"user_id\"])\n",
    ")\n",
    "assert len(dunn_ids) == 1\n",
    "assert dunn_ids[0] == {\"user_id\": 1}"
   ]
  },
  {
   "cell_type": "code",
   "execution_count": 19,
   "id": "ce230823",
   "metadata": {},
   "outputs": [
    {
     "ename": "ValueError",
     "evalue": "0 is not in list",
     "output_type": "error",
     "traceback": [
      "\u001b[1;31m---------------------------------------------------------------------------\u001b[0m",
      "\u001b[1;31mValueError\u001b[0m                                Traceback (most recent call last)",
      "Input \u001b[1;32mIn [19]\u001b[0m, in \u001b[0;36m<cell line: 4>\u001b[1;34m()\u001b[0m\n\u001b[0;32m      1\u001b[0m \u001b[38;5;66;03m# SELECT LENGTH(name) AS name_length FROM users;\u001b[39;00m\n\u001b[0;32m      2\u001b[0m \u001b[38;5;28;01mdef\u001b[39;00m \u001b[38;5;21mname_length\u001b[39m(row) \u001b[38;5;241m-\u001b[39m\u001b[38;5;241m>\u001b[39m \u001b[38;5;28mint\u001b[39m: \u001b[38;5;28;01mreturn\u001b[39;00m \u001b[38;5;28mlen\u001b[39m(row[\u001b[38;5;124m\"\u001b[39m\u001b[38;5;124mname\u001b[39m\u001b[38;5;124m\"\u001b[39m])\n\u001b[1;32m----> 4\u001b[0m name_lengths \u001b[38;5;241m=\u001b[39m \u001b[43musers\u001b[49m\u001b[38;5;241;43m.\u001b[39;49m\u001b[43mselect\u001b[49m\u001b[43m(\u001b[49m\u001b[43mkeep_columns\u001b[49m\u001b[38;5;241;43m=\u001b[39;49m\u001b[43m[\u001b[49m\u001b[38;5;241;43m0\u001b[39;49m\u001b[43m]\u001b[49m\u001b[43m,\u001b[49m\n\u001b[0;32m      5\u001b[0m \u001b[43m                            \u001b[49m\u001b[43madditional_columns\u001b[49m\u001b[43m \u001b[49m\u001b[38;5;241;43m=\u001b[39;49m\u001b[43m \u001b[49m\u001b[43m{\u001b[49m\u001b[38;5;124;43m\"\u001b[39;49m\u001b[38;5;124;43mname_length\u001b[39;49m\u001b[38;5;124;43m\"\u001b[39;49m\u001b[43m:\u001b[49m\u001b[43m \u001b[49m\u001b[43mname_length\u001b[49m\u001b[43m}\u001b[49m\u001b[43m)\u001b[49m\n\u001b[0;32m      6\u001b[0m \u001b[38;5;28;01massert\u001b[39;00m name_lengths[\u001b[38;5;241m0\u001b[39m][\u001b[38;5;124m'\u001b[39m\u001b[38;5;124mname_length\u001b[39m\u001b[38;5;124m'\u001b[39m] \u001b[38;5;241m==\u001b[39m \u001b[38;5;28mlen\u001b[39m(\u001b[38;5;124m\"\u001b[39m\u001b[38;5;124mHero\u001b[39m\u001b[38;5;124m\"\u001b[39m)\n",
      "Input \u001b[1;32mIn [4]\u001b[0m, in \u001b[0;36mTable.select\u001b[1;34m(self, keep_columns, additional_columns)\u001b[0m\n\u001b[0;32m     73\u001b[0m \u001b[38;5;66;03m# New column names and types\u001b[39;00m\n\u001b[0;32m     74\u001b[0m new_columns \u001b[38;5;241m=\u001b[39m keep_columns \u001b[38;5;241m+\u001b[39m \u001b[38;5;28mlist\u001b[39m(additional_columns\u001b[38;5;241m.\u001b[39mkeys())\n\u001b[1;32m---> 75\u001b[0m keep_types \u001b[38;5;241m=\u001b[39m [\u001b[38;5;28mself\u001b[39m\u001b[38;5;241m.\u001b[39mcol2type(col) \u001b[38;5;28;01mfor\u001b[39;00m col \u001b[38;5;129;01min\u001b[39;00m keep_columns]\n\u001b[0;32m     77\u001b[0m \u001b[38;5;66;03m# This is how to get the return type from a type annotation.\u001b[39;00m\n\u001b[0;32m     78\u001b[0m \u001b[38;5;66;03m# It will crash if `calculation` doesn't have a return type.\u001b[39;00m\n\u001b[0;32m     79\u001b[0m add_types \u001b[38;5;241m=\u001b[39m [calculation\u001b[38;5;241m.\u001b[39m\u001b[38;5;18m__annotations__\u001b[39m[\u001b[38;5;124m'\u001b[39m\u001b[38;5;124mreturn\u001b[39m\u001b[38;5;124m'\u001b[39m]\n\u001b[0;32m     80\u001b[0m              \u001b[38;5;28;01mfor\u001b[39;00m calculation \u001b[38;5;129;01min\u001b[39;00m additional_columns\u001b[38;5;241m.\u001b[39mvalues()]\n",
      "Input \u001b[1;32mIn [4]\u001b[0m, in \u001b[0;36m<listcomp>\u001b[1;34m(.0)\u001b[0m\n\u001b[0;32m     73\u001b[0m \u001b[38;5;66;03m# New column names and types\u001b[39;00m\n\u001b[0;32m     74\u001b[0m new_columns \u001b[38;5;241m=\u001b[39m keep_columns \u001b[38;5;241m+\u001b[39m \u001b[38;5;28mlist\u001b[39m(additional_columns\u001b[38;5;241m.\u001b[39mkeys())\n\u001b[1;32m---> 75\u001b[0m keep_types \u001b[38;5;241m=\u001b[39m [\u001b[38;5;28;43mself\u001b[39;49m\u001b[38;5;241;43m.\u001b[39;49m\u001b[43mcol2type\u001b[49m\u001b[43m(\u001b[49m\u001b[43mcol\u001b[49m\u001b[43m)\u001b[49m \u001b[38;5;28;01mfor\u001b[39;00m col \u001b[38;5;129;01min\u001b[39;00m keep_columns]\n\u001b[0;32m     77\u001b[0m \u001b[38;5;66;03m# This is how to get the return type from a type annotation.\u001b[39;00m\n\u001b[0;32m     78\u001b[0m \u001b[38;5;66;03m# It will crash if `calculation` doesn't have a return type.\u001b[39;00m\n\u001b[0;32m     79\u001b[0m add_types \u001b[38;5;241m=\u001b[39m [calculation\u001b[38;5;241m.\u001b[39m\u001b[38;5;18m__annotations__\u001b[39m[\u001b[38;5;124m'\u001b[39m\u001b[38;5;124mreturn\u001b[39m\u001b[38;5;124m'\u001b[39m]\n\u001b[0;32m     80\u001b[0m              \u001b[38;5;28;01mfor\u001b[39;00m calculation \u001b[38;5;129;01min\u001b[39;00m additional_columns\u001b[38;5;241m.\u001b[39mvalues()]\n",
      "Input \u001b[1;32mIn [4]\u001b[0m, in \u001b[0;36mTable.col2type\u001b[1;34m(self, col)\u001b[0m\n\u001b[0;32m      9\u001b[0m \u001b[38;5;28;01mdef\u001b[39;00m \u001b[38;5;21mcol2type\u001b[39m(\u001b[38;5;28mself\u001b[39m, col: \u001b[38;5;28mstr\u001b[39m) \u001b[38;5;241m-\u001b[39m\u001b[38;5;241m>\u001b[39m \u001b[38;5;28mtype\u001b[39m:\n\u001b[1;32m---> 10\u001b[0m     idx \u001b[38;5;241m=\u001b[39m \u001b[38;5;28;43mself\u001b[39;49m\u001b[38;5;241;43m.\u001b[39;49m\u001b[43mcolumns\u001b[49m\u001b[38;5;241;43m.\u001b[39;49m\u001b[43mindex\u001b[49m\u001b[43m(\u001b[49m\u001b[43mcol\u001b[49m\u001b[43m)\u001b[49m      \u001b[38;5;66;03m# Find the index of the column,\u001b[39;00m\n\u001b[0;32m     11\u001b[0m     \u001b[38;5;28;01mreturn\u001b[39;00m \u001b[38;5;28mself\u001b[39m\u001b[38;5;241m.\u001b[39mtypes[idx]\n",
      "\u001b[1;31mValueError\u001b[0m: 0 is not in list"
     ]
    }
   ],
   "source": [
    "# SELECT LENGTH(name) AS name_length FROM users;\n",
    "def name_length(row) -> int: return len(row[\"name\"])\n",
    "    \n",
    "name_lengths = users.select(keep_columns=[],\n",
    "                            additional_columns = {\"name_length\": name_length})\n",
    "assert name_lengths[0]['name_length'] == len(\"Hero\")"
   ]
  },
  {
   "cell_type": "code",
   "execution_count": 18,
   "id": "6f0f1258",
   "metadata": {},
   "outputs": [
    {
     "ename": "TypeError",
     "evalue": "isinstance() arg 2 must be a type or tuple of types",
     "output_type": "error",
     "traceback": [
      "\u001b[1;31m---------------------------------------------------------------------------\u001b[0m",
      "\u001b[1;31mTypeError\u001b[0m                                 Traceback (most recent call last)",
      "Input \u001b[1;32mIn [18]\u001b[0m, in \u001b[0;36m<cell line: 8>\u001b[1;34m()\u001b[0m\n\u001b[0;32m      4\u001b[0m \u001b[38;5;28;01mdef\u001b[39;00m \u001b[38;5;21mlength\u001b[39m(rows) \u001b[38;5;241m-\u001b[39m\u001b[38;5;241m>\u001b[39m \u001b[38;5;28mint\u001b[39m:\n\u001b[0;32m      5\u001b[0m     \u001b[38;5;28;01mreturn\u001b[39;00m \u001b[38;5;28mlen\u001b[39m(rows)\n\u001b[0;32m      7\u001b[0m stats_by_length \u001b[38;5;241m=\u001b[39m (\n\u001b[1;32m----> 8\u001b[0m         \u001b[43musers\u001b[49m\n\u001b[0;32m      9\u001b[0m \u001b[43m        \u001b[49m\u001b[38;5;241;43m.\u001b[39;49m\u001b[43mselect\u001b[49m\u001b[43m(\u001b[49m\u001b[43madditional_columns\u001b[49m\u001b[38;5;241;43m=\u001b[39;49m\u001b[43m{\u001b[49m\u001b[38;5;124;43m\"\u001b[39;49m\u001b[38;5;124;43mname_length\u001b[39;49m\u001b[38;5;124;43m\"\u001b[39;49m\u001b[43m \u001b[49m\u001b[43m:\u001b[49m\u001b[43m \u001b[49m\u001b[43mname_length\u001b[49m\u001b[43m}\u001b[49m\u001b[43m)\u001b[49m\n\u001b[0;32m     10\u001b[0m         \u001b[38;5;241m.\u001b[39mgroup_by(group_by_columns\u001b[38;5;241m=\u001b[39m[\u001b[38;5;124m\"\u001b[39m\u001b[38;5;124mname_length\u001b[39m\u001b[38;5;124m\"\u001b[39m],\n\u001b[0;32m     11\u001b[0m                   aggregates\u001b[38;5;241m=\u001b[39m{\u001b[38;5;124m\"\u001b[39m\u001b[38;5;124mmin_user_id\u001b[39m\u001b[38;5;124m\"\u001b[39m : min_user_id,\n\u001b[0;32m     12\u001b[0m                               \u001b[38;5;124m\"\u001b[39m\u001b[38;5;124mnum_users\u001b[39m\u001b[38;5;124m\"\u001b[39m : length})\n\u001b[0;32m     13\u001b[0m )\n",
      "Input \u001b[1;32mIn [4]\u001b[0m, in \u001b[0;36mTable.select\u001b[1;34m(self, keep_columns, additional_columns)\u001b[0m\n\u001b[0;32m     87\u001b[0m     \u001b[38;5;28;01mfor\u001b[39;00m column_name, calculation \u001b[38;5;129;01min\u001b[39;00m additional_columns\u001b[38;5;241m.\u001b[39mitems():\n\u001b[0;32m     88\u001b[0m         new_row\u001b[38;5;241m.\u001b[39mappend(calculation(row))\n\u001b[1;32m---> 89\u001b[0m     \u001b[43mnew_table\u001b[49m\u001b[38;5;241;43m.\u001b[39;49m\u001b[43minsert\u001b[49m\u001b[43m(\u001b[49m\u001b[43mnew_row\u001b[49m\u001b[43m)\u001b[49m\n\u001b[0;32m     91\u001b[0m \u001b[38;5;28;01mreturn\u001b[39;00m new_table\n",
      "Input \u001b[1;32mIn [4]\u001b[0m, in \u001b[0;36mTable.insert\u001b[1;34m(self, values)\u001b[0m\n\u001b[0;32m     18\u001b[0m \u001b[38;5;66;03m# Check for right types of values\u001b[39;00m\n\u001b[0;32m     19\u001b[0m \u001b[38;5;28;01mfor\u001b[39;00m value, typ3 \u001b[38;5;129;01min\u001b[39;00m \u001b[38;5;28mzip\u001b[39m(values, \u001b[38;5;28mself\u001b[39m\u001b[38;5;241m.\u001b[39mtypes):\n\u001b[1;32m---> 20\u001b[0m     \u001b[38;5;28;01mif\u001b[39;00m \u001b[38;5;129;01mnot\u001b[39;00m \u001b[38;5;28;43misinstance\u001b[39;49m\u001b[43m(\u001b[49m\u001b[43mvalue\u001b[49m\u001b[43m,\u001b[49m\u001b[43m \u001b[49m\u001b[43mtyp3\u001b[49m\u001b[43m)\u001b[49m \u001b[38;5;129;01mand\u001b[39;00m value \u001b[38;5;129;01mis\u001b[39;00m \u001b[38;5;129;01mnot\u001b[39;00m \u001b[38;5;28;01mNone\u001b[39;00m:\n\u001b[0;32m     21\u001b[0m         \u001b[38;5;28;01mraise\u001b[39;00m \u001b[38;5;167;01mTypeError\u001b[39;00m(\u001b[38;5;124mf\u001b[39m\u001b[38;5;124m\"\u001b[39m\u001b[38;5;124mExpected type \u001b[39m\u001b[38;5;132;01m{\u001b[39;00mtyp3\u001b[38;5;132;01m}\u001b[39;00m\u001b[38;5;124m but got \u001b[39m\u001b[38;5;132;01m{\u001b[39;00mvalue\u001b[38;5;132;01m}\u001b[39;00m\u001b[38;5;124m\"\u001b[39m)\n\u001b[0;32m     23\u001b[0m \u001b[38;5;66;03m# Add the corresponding dict as a \"row\"\u001b[39;00m\n",
      "\u001b[1;31mTypeError\u001b[0m: isinstance() arg 2 must be a type or tuple of types"
     ]
    }
   ],
   "source": [
    "def min_user_id(rows) -> int:\n",
    "    return min(row[\"user_id\"] for row in rows)\n",
    "    \n",
    "def length(rows) -> int:\n",
    "    return len(rows)\n",
    "    \n",
    "stats_by_length = (\n",
    "        users\n",
    "        .select(additional_columns={\"name_length\" : name_length})\n",
    "        .group_by(group_by_columns=[\"name_length\"],\n",
    "                  aggregates={\"min_user_id\" : min_user_id,\n",
    "                              \"num_users\" : length})\n",
    ")  "
   ]
  },
  {
   "cell_type": "code",
   "execution_count": 20,
   "id": "0a130193",
   "metadata": {},
   "outputs": [
    {
     "ename": "NameError",
     "evalue": "name 'stats_by_length' is not defined",
     "output_type": "error",
     "traceback": [
      "\u001b[1;31m---------------------------------------------------------------------------\u001b[0m",
      "\u001b[1;31mNameError\u001b[0m                                 Traceback (most recent call last)",
      "Input \u001b[1;32mIn [20]\u001b[0m, in \u001b[0;36m<cell line: 1>\u001b[1;34m()\u001b[0m\n\u001b[1;32m----> 1\u001b[0m \u001b[38;5;28;01massert\u001b[39;00m \u001b[38;5;28mlen\u001b[39m(\u001b[43mstats_by_length\u001b[49m) \u001b[38;5;241m==\u001b[39m \u001b[38;5;241m3\u001b[39m\n\u001b[0;32m      2\u001b[0m \u001b[38;5;28;01massert\u001b[39;00m stats_by_length\u001b[38;5;241m.\u001b[39mcolumns \u001b[38;5;241m==\u001b[39m [\u001b[38;5;124m\"\u001b[39m\u001b[38;5;124mname_length\u001b[39m\u001b[38;5;124m\"\u001b[39m, \u001b[38;5;124m\"\u001b[39m\u001b[38;5;124mmin_user_id\u001b[39m\u001b[38;5;124m\"\u001b[39m, \u001b[38;5;124m\"\u001b[39m\u001b[38;5;124mnum_users\u001b[39m\u001b[38;5;124m\"\u001b[39m]\n",
      "\u001b[1;31mNameError\u001b[0m: name 'stats_by_length' is not defined"
     ]
    }
   ],
   "source": [
    "assert len(stats_by_length) == 3\n",
    "assert stats_by_length.columns == [\"name_length\", \"min_user_id\", \"num_users\"]"
   ]
  },
  {
   "cell_type": "code",
   "execution_count": 21,
   "id": "c7ece5ab",
   "metadata": {},
   "outputs": [
    {
     "ename": "TypeError",
     "evalue": "isinstance() arg 2 must be a type or tuple of types",
     "output_type": "error",
     "traceback": [
      "\u001b[1;31m---------------------------------------------------------------------------\u001b[0m",
      "\u001b[1;31mTypeError\u001b[0m                                 Traceback (most recent call last)",
      "Input \u001b[1;32mIn [21]\u001b[0m, in \u001b[0;36m<cell line: 107>\u001b[1;34m()\u001b[0m\n\u001b[0;32m     93\u001b[0m     (\n\u001b[0;32m     94\u001b[0m         user_interests\n\u001b[0;32m     95\u001b[0m         \u001b[38;5;241m.\u001b[39mwhere(\u001b[38;5;28;01mlambda\u001b[39;00m row: row[\u001b[38;5;124m\"\u001b[39m\u001b[38;5;124minterest\u001b[39m\u001b[38;5;124m\"\u001b[39m] \u001b[38;5;241m==\u001b[39m \u001b[38;5;124m\"\u001b[39m\u001b[38;5;124mSQL\u001b[39m\u001b[38;5;124m\"\u001b[39m)\n\u001b[0;32m     96\u001b[0m         \u001b[38;5;241m.\u001b[39mjoin(users)\n\u001b[0;32m     97\u001b[0m         \u001b[38;5;241m.\u001b[39mselect([\u001b[38;5;124m\"\u001b[39m\u001b[38;5;124mname\u001b[39m\u001b[38;5;124m\"\u001b[39m])\n\u001b[0;32m     98\u001b[0m     )\n\u001b[0;32m    100\u001b[0m     (\n\u001b[0;32m    101\u001b[0m         user_interests\n\u001b[0;32m    102\u001b[0m         \u001b[38;5;241m.\u001b[39mjoin(users)\n\u001b[0;32m    103\u001b[0m         \u001b[38;5;241m.\u001b[39mwhere(\u001b[38;5;28;01mlambda\u001b[39;00m row: row[\u001b[38;5;124m\"\u001b[39m\u001b[38;5;124minterest\u001b[39m\u001b[38;5;124m\"\u001b[39m] \u001b[38;5;241m==\u001b[39m \u001b[38;5;124m\"\u001b[39m\u001b[38;5;124mSQL\u001b[39m\u001b[38;5;124m\"\u001b[39m)\n\u001b[0;32m    104\u001b[0m         \u001b[38;5;241m.\u001b[39mselect([\u001b[38;5;124m\"\u001b[39m\u001b[38;5;124mname\u001b[39m\u001b[38;5;124m\"\u001b[39m])\n\u001b[0;32m    105\u001b[0m     )\n\u001b[1;32m--> 107\u001b[0m \u001b[38;5;28;01mif\u001b[39;00m \u001b[38;5;18m__name__\u001b[39m \u001b[38;5;241m==\u001b[39m \u001b[38;5;124m\"\u001b[39m\u001b[38;5;124m__main__\u001b[39m\u001b[38;5;124m\"\u001b[39m: main()\n",
      "Input \u001b[1;32mIn [21]\u001b[0m, in \u001b[0;36mmain\u001b[1;34m()\u001b[0m\n\u001b[0;32m      9\u001b[0m \u001b[38;5;28;01mdef\u001b[39;00m \u001b[38;5;21menough_friends\u001b[39m(rows: List[Row]) \u001b[38;5;241m-\u001b[39m\u001b[38;5;241m>\u001b[39m \u001b[38;5;28mbool\u001b[39m:\n\u001b[0;32m     10\u001b[0m     \u001b[38;5;28;01mreturn\u001b[39;00m average_num_friends(rows) \u001b[38;5;241m>\u001b[39m \u001b[38;5;241m1\u001b[39m\n\u001b[0;32m     12\u001b[0m avg_friends_by_letter \u001b[38;5;241m=\u001b[39m (\n\u001b[1;32m---> 13\u001b[0m     \u001b[43musers\u001b[49m\n\u001b[0;32m     14\u001b[0m \u001b[43m    \u001b[49m\u001b[38;5;241;43m.\u001b[39;49m\u001b[43mselect\u001b[49m\u001b[43m(\u001b[49m\u001b[43madditional_columns\u001b[49m\u001b[38;5;241;43m=\u001b[39;49m\u001b[43m{\u001b[49m\u001b[38;5;124;43m'\u001b[39;49m\u001b[38;5;124;43mfirst_letter\u001b[39;49m\u001b[38;5;124;43m'\u001b[39;49m\u001b[43m \u001b[49m\u001b[43m:\u001b[49m\u001b[43m \u001b[49m\u001b[43mfirst_letter_of_name\u001b[49m\u001b[43m}\u001b[49m\u001b[43m)\u001b[49m\n\u001b[0;32m     15\u001b[0m     \u001b[38;5;241m.\u001b[39mgroup_by(group_by_columns\u001b[38;5;241m=\u001b[39m[\u001b[38;5;124m'\u001b[39m\u001b[38;5;124mfirst_letter\u001b[39m\u001b[38;5;124m'\u001b[39m],\n\u001b[0;32m     16\u001b[0m               aggregates\u001b[38;5;241m=\u001b[39m{\u001b[38;5;124m\"\u001b[39m\u001b[38;5;124mavg_num_friends\u001b[39m\u001b[38;5;124m\"\u001b[39m : average_num_friends},\n\u001b[0;32m     17\u001b[0m               having\u001b[38;5;241m=\u001b[39menough_friends)\n\u001b[0;32m     18\u001b[0m )\n\u001b[0;32m     21\u001b[0m \u001b[38;5;28;01massert\u001b[39;00m \u001b[38;5;28mlen\u001b[39m(avg_friends_by_letter) \u001b[38;5;241m==\u001b[39m \u001b[38;5;241m6\u001b[39m\n\u001b[0;32m     22\u001b[0m \u001b[38;5;28;01massert\u001b[39;00m {row[\u001b[38;5;124m'\u001b[39m\u001b[38;5;124mfirst_letter\u001b[39m\u001b[38;5;124m'\u001b[39m] \u001b[38;5;28;01mfor\u001b[39;00m row \u001b[38;5;129;01min\u001b[39;00m avg_friends_by_letter} \u001b[38;5;241m==\u001b[39m \\\n\u001b[0;32m     23\u001b[0m        {\u001b[38;5;124m\"\u001b[39m\u001b[38;5;124mH\u001b[39m\u001b[38;5;124m\"\u001b[39m, \u001b[38;5;124m\"\u001b[39m\u001b[38;5;124mD\u001b[39m\u001b[38;5;124m\"\u001b[39m, \u001b[38;5;124m\"\u001b[39m\u001b[38;5;124mS\u001b[39m\u001b[38;5;124m\"\u001b[39m, \u001b[38;5;124m\"\u001b[39m\u001b[38;5;124mC\u001b[39m\u001b[38;5;124m\"\u001b[39m, \u001b[38;5;124m\"\u001b[39m\u001b[38;5;124mT\u001b[39m\u001b[38;5;124m\"\u001b[39m, \u001b[38;5;124m\"\u001b[39m\u001b[38;5;124mK\u001b[39m\u001b[38;5;124m\"\u001b[39m}\n",
      "Input \u001b[1;32mIn [4]\u001b[0m, in \u001b[0;36mTable.select\u001b[1;34m(self, keep_columns, additional_columns)\u001b[0m\n\u001b[0;32m     87\u001b[0m     \u001b[38;5;28;01mfor\u001b[39;00m column_name, calculation \u001b[38;5;129;01min\u001b[39;00m additional_columns\u001b[38;5;241m.\u001b[39mitems():\n\u001b[0;32m     88\u001b[0m         new_row\u001b[38;5;241m.\u001b[39mappend(calculation(row))\n\u001b[1;32m---> 89\u001b[0m     \u001b[43mnew_table\u001b[49m\u001b[38;5;241;43m.\u001b[39;49m\u001b[43minsert\u001b[49m\u001b[43m(\u001b[49m\u001b[43mnew_row\u001b[49m\u001b[43m)\u001b[49m\n\u001b[0;32m     91\u001b[0m \u001b[38;5;28;01mreturn\u001b[39;00m new_table\n",
      "Input \u001b[1;32mIn [4]\u001b[0m, in \u001b[0;36mTable.insert\u001b[1;34m(self, values)\u001b[0m\n\u001b[0;32m     18\u001b[0m \u001b[38;5;66;03m# Check for right types of values\u001b[39;00m\n\u001b[0;32m     19\u001b[0m \u001b[38;5;28;01mfor\u001b[39;00m value, typ3 \u001b[38;5;129;01min\u001b[39;00m \u001b[38;5;28mzip\u001b[39m(values, \u001b[38;5;28mself\u001b[39m\u001b[38;5;241m.\u001b[39mtypes):\n\u001b[1;32m---> 20\u001b[0m     \u001b[38;5;28;01mif\u001b[39;00m \u001b[38;5;129;01mnot\u001b[39;00m \u001b[38;5;28;43misinstance\u001b[39;49m\u001b[43m(\u001b[49m\u001b[43mvalue\u001b[49m\u001b[43m,\u001b[49m\u001b[43m \u001b[49m\u001b[43mtyp3\u001b[49m\u001b[43m)\u001b[49m \u001b[38;5;129;01mand\u001b[39;00m value \u001b[38;5;129;01mis\u001b[39;00m \u001b[38;5;129;01mnot\u001b[39;00m \u001b[38;5;28;01mNone\u001b[39;00m:\n\u001b[0;32m     21\u001b[0m         \u001b[38;5;28;01mraise\u001b[39;00m \u001b[38;5;167;01mTypeError\u001b[39;00m(\u001b[38;5;124mf\u001b[39m\u001b[38;5;124m\"\u001b[39m\u001b[38;5;124mExpected type \u001b[39m\u001b[38;5;132;01m{\u001b[39;00mtyp3\u001b[38;5;132;01m}\u001b[39;00m\u001b[38;5;124m but got \u001b[39m\u001b[38;5;132;01m{\u001b[39;00mvalue\u001b[38;5;132;01m}\u001b[39;00m\u001b[38;5;124m\"\u001b[39m)\n\u001b[0;32m     23\u001b[0m \u001b[38;5;66;03m# Add the corresponding dict as a \"row\"\u001b[39;00m\n",
      "\u001b[1;31mTypeError\u001b[0m: isinstance() arg 2 must be a type or tuple of types"
     ]
    }
   ],
   "source": [
    "def main():    \n",
    "    \n",
    "    def first_letter_of_name(row: Row) -> str:\n",
    "        return row[\"name\"][0] if row[\"name\"] else \"\"\n",
    "    \n",
    "    def average_num_friends(rows: List[Row]) -> float:\n",
    "        return sum(row[\"num_friends\"] for row in rows) / len(rows)\n",
    "    \n",
    "    def enough_friends(rows: List[Row]) -> bool:\n",
    "        return average_num_friends(rows) > 1\n",
    "    \n",
    "    avg_friends_by_letter = (\n",
    "        users\n",
    "        .select(additional_columns={'first_letter' : first_letter_of_name})\n",
    "        .group_by(group_by_columns=['first_letter'],\n",
    "                  aggregates={\"avg_num_friends\" : average_num_friends},\n",
    "                  having=enough_friends)\n",
    "    )\n",
    "    \n",
    "    \n",
    "    assert len(avg_friends_by_letter) == 6\n",
    "    assert {row['first_letter'] for row in avg_friends_by_letter} == \\\n",
    "           {\"H\", \"D\", \"S\", \"C\", \"T\", \"K\"}\n",
    "    \n",
    "    def sum_user_ids(rows: List[Row]) -> int:\n",
    "        return sum(row[\"user_id\"] for row in rows)\n",
    "    \n",
    "    user_id_sum = (\n",
    "        users\n",
    "        .where(lambda row: row[\"user_id\"] > 1)\n",
    "        .group_by(group_by_columns=[],\n",
    "                  aggregates={ \"user_id_sum\" : sum_user_ids })\n",
    "    )\n",
    "    \n",
    "    \n",
    "    \n",
    "    assert len(user_id_sum) == 1\n",
    "    assert user_id_sum[0][\"user_id_sum\"] == 54\n",
    "    \n",
    "    friendliest_letters = (\n",
    "        avg_friends_by_letter\n",
    "        .order_by(lambda row: -row[\"avg_num_friends\"])\n",
    "        .limit(4)\n",
    "    )\n",
    "    \n",
    "    \n",
    "    assert len(friendliest_letters) == 4\n",
    "    assert friendliest_letters[0]['first_letter'] in ['S', 'T']\n",
    "    \n",
    "    user_interests = Table(['user_id', 'interest'], [int, str])\n",
    "    user_interests.insert([0, \"SQL\"])\n",
    "    user_interests.insert([0, \"NoSQL\"])\n",
    "    user_interests.insert([2, \"SQL\"])\n",
    "    user_interests.insert([2, \"MySQL\"])\n",
    "    \n",
    "    sql_users = (\n",
    "        users\n",
    "        .join(user_interests)\n",
    "        .where(lambda row: row[\"interest\"] == \"SQL\")\n",
    "        .select(keep_columns=[\"name\"])\n",
    "    )\n",
    "    \n",
    "    \n",
    "    \n",
    "    assert len(sql_users) == 2\n",
    "    sql_user_names = {row[\"name\"] for row in sql_users}\n",
    "    assert sql_user_names == {\"Hero\", \"Sue\"}\n",
    "    \n",
    "    def count_interests(rows: List[Row]) -> int:\n",
    "        \"\"\"counts how many rows have non-None interests\"\"\"\n",
    "        return len([row for row in rows if row[\"interest\"] is not None])\n",
    "    \n",
    "    user_interest_counts = (\n",
    "        users\n",
    "        .join(user_interests, left_join=True)\n",
    "        .group_by(group_by_columns=[\"user_id\"],\n",
    "                  aggregates={\"num_interests\" : count_interests })\n",
    "    )\n",
    "    \n",
    "    likes_sql_user_ids = (\n",
    "        user_interests\n",
    "        .where(lambda row: row[\"interest\"] == \"SQL\")\n",
    "        .select(keep_columns=['user_id'])\n",
    "    )\n",
    "    \n",
    "    likes_sql_user_ids.group_by(group_by_columns=[],\n",
    "                                aggregates={ \"min_user_id\" : min_user_id })\n",
    "    \n",
    "    \n",
    "    \n",
    "    assert len(likes_sql_user_ids) == 2\n",
    "    \n",
    "    (\n",
    "        user_interests\n",
    "        .where(lambda row: row[\"interest\"] == \"SQL\")\n",
    "        .join(users)\n",
    "        .select([\"name\"])\n",
    "    )\n",
    "    \n",
    "    (\n",
    "        user_interests\n",
    "        .join(users)\n",
    "        .where(lambda row: row[\"interest\"] == \"SQL\")\n",
    "        .select([\"name\"])\n",
    "    )\n",
    "    \n",
    "if __name__ == \"__main__\": main()"
   ]
  }
 ],
 "metadata": {
  "kernelspec": {
   "display_name": "Python 3 (ipykernel)",
   "language": "python",
   "name": "python3"
  },
  "language_info": {
   "codemirror_mode": {
    "name": "ipython",
    "version": 3
   },
   "file_extension": ".py",
   "mimetype": "text/x-python",
   "name": "python",
   "nbconvert_exporter": "python",
   "pygments_lexer": "ipython3",
   "version": "3.8.13"
  }
 },
 "nbformat": 4,
 "nbformat_minor": 5
}
