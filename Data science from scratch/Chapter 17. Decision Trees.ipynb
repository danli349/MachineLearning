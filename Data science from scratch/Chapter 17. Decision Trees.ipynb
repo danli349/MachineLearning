{
 "cells": [
  {
   "cell_type": "code",
   "execution_count": 1,
   "id": "2c345db6",
   "metadata": {},
   "outputs": [
    {
     "data": {
      "text/plain": [
       "['D:\\\\books\\\\python\\\\0.Data Science from Scratch- First Principles with Python',\n",
       " 'D:/books/python/0.Data Science from Scratch- First Principles with Python/data-science-from-scratch/scratch/',\n",
       " 'C:\\\\Users\\\\lidan\\\\miniconda3\\\\python38.zip',\n",
       " 'C:\\\\Users\\\\lidan\\\\miniconda3\\\\DLLs',\n",
       " 'C:\\\\Users\\\\lidan\\\\miniconda3\\\\lib',\n",
       " 'C:\\\\Users\\\\lidan\\\\miniconda3',\n",
       " '',\n",
       " 'C:\\\\Users\\\\lidan\\\\AppData\\\\Roaming\\\\Python\\\\Python38\\\\site-packages',\n",
       " 'C:\\\\Users\\\\lidan\\\\miniconda3\\\\lib\\\\site-packages',\n",
       " 'C:\\\\Users\\\\lidan\\\\miniconda3\\\\lib\\\\site-packages\\\\magic_impute-2.0.4-py3.8.egg',\n",
       " 'C:\\\\Users\\\\lidan\\\\miniconda3\\\\lib\\\\site-packages\\\\seqc-0.2.0-py3.8.egg',\n",
       " 'C:\\\\Users\\\\lidan\\\\miniconda3\\\\lib\\\\site-packages\\\\weasyprint-56.1-py3.8.egg',\n",
       " 'C:\\\\Users\\\\lidan\\\\miniconda3\\\\lib\\\\site-packages\\\\cairocffi-1.3.0-py3.8.egg',\n",
       " 'C:\\\\Users\\\\lidan\\\\miniconda3\\\\lib\\\\site-packages\\\\win32',\n",
       " 'C:\\\\Users\\\\lidan\\\\miniconda3\\\\lib\\\\site-packages\\\\win32\\\\lib',\n",
       " 'C:\\\\Users\\\\lidan\\\\miniconda3\\\\lib\\\\site-packages\\\\Pythonwin']"
      ]
     },
     "execution_count": 1,
     "metadata": {},
     "output_type": "execute_result"
    }
   ],
   "source": [
    "from __future__ import annotations\n",
    "import sys\n",
    "    # caution: path[0] is reserved for script path (or '' in REPL)\n",
    "sys.path.insert(1, 'D:/books/python/0.Data Science from Scratch- First Principles with Python/data-science-from-scratch/scratch/')\n",
    "sys.path"
   ]
  },
  {
   "cell_type": "code",
   "execution_count": 2,
   "id": "df4183d8",
   "metadata": {},
   "outputs": [
    {
     "data": {
      "text/plain": [
       "1.0"
      ]
     },
     "execution_count": 2,
     "metadata": {},
     "output_type": "execute_result"
    }
   ],
   "source": [
    "import math\n",
    "-0.5 * math.log(0.5, 2) -0.5 * math.log(0.5, 2)"
   ]
  },
  {
   "cell_type": "code",
   "execution_count": 3,
   "id": "66932172",
   "metadata": {},
   "outputs": [
    {
     "data": {
      "text/plain": [
       "-1.0"
      ]
     },
     "execution_count": 3,
     "metadata": {},
     "output_type": "execute_result"
    }
   ],
   "source": [
    "math.log(0.5, 2) "
   ]
  },
  {
   "cell_type": "code",
   "execution_count": 4,
   "id": "9c15b1f3",
   "metadata": {},
   "outputs": [],
   "source": [
    "from typing import List\n",
    "import math\n",
    "\n",
    "def entropy(class_probabilities: List[float]) -> float:\n",
    "    \"\"\"Given a list of class probabilities, compute the entropy\"\"\"\n",
    "    return sum(-p * math.log(p, 2)\n",
    "               for p in class_probabilities\n",
    "               if p > 0)                     # ignore zero probabilities\n",
    "\n",
    "assert entropy([1.0]) == 0\n",
    "assert entropy([0.5, 0.5]) == 1\n",
    "assert 0.81 < entropy([0.25, 0.75]) < 0.82"
   ]
  },
  {
   "cell_type": "code",
   "execution_count": 5,
   "id": "7981a24a",
   "metadata": {},
   "outputs": [],
   "source": [
    "from typing import Any\n",
    "from collections import Counter\n",
    "\n",
    "def class_probabilities(labels: List[Any]) -> List[float]:\n",
    "    total_count = len(labels)\n",
    "    return [count / total_count\n",
    "            for count in Counter(labels).values()]\n",
    "\n",
    "def data_entropy(labels: List[Any]) -> float:\n",
    "    return entropy(class_probabilities(labels))\n",
    "\n",
    "assert data_entropy(['a']) == 0\n",
    "assert data_entropy([True, False]) == 1 == entropy([0.5, 0.5])\n",
    "assert data_entropy([3, 4, 4, 4]) == entropy([0.25, 0.75])"
   ]
  },
  {
   "cell_type": "code",
   "execution_count": 6,
   "id": "34d65456",
   "metadata": {},
   "outputs": [
    {
     "data": {
      "text/plain": [
       "1.0"
      ]
     },
     "execution_count": 6,
     "metadata": {},
     "output_type": "execute_result"
    }
   ],
   "source": [
    "entropy([0.5, 0.5])"
   ]
  },
  {
   "cell_type": "code",
   "execution_count": 7,
   "id": "b7cdd01c",
   "metadata": {},
   "outputs": [
    {
     "data": {
      "text/plain": [
       "0.8112781244591328"
      ]
     },
     "execution_count": 7,
     "metadata": {},
     "output_type": "execute_result"
    }
   ],
   "source": [
    "entropy([0.25, 0.75])"
   ]
  },
  {
   "cell_type": "code",
   "execution_count": 8,
   "id": "0a1d4d00",
   "metadata": {},
   "outputs": [
    {
     "data": {
      "image/png": "[encoded data removed]",
      "text/plain": [
       "<Figure size 640x480 with 1 Axes>"
      ]
     },
     "metadata": {},
     "output_type": "display_data"
    }
   ],
   "source": [
    "import numpy as np\n",
    "from matplotlib import pyplot as plt\n",
    "\n",
    "xs = np.linspace(0.001, 1.000, 1000)\n",
    "ys = [-p * math.log(p, 2) for p in xs]\n",
    "plt.plot(xs, ys, c = 'blue')\n",
    "plt.xlim(0.0, 1.0)\n",
    "plt.ylim(0, 0.55)\n",
    "#plt.legend()\n",
    "plt.title('A graph of -p log p')\n",
    "plt.xlabel('p')\n",
    "plt.ylabel('-p log p')\n",
    "plt.show()"
   ]
  },
  {
   "cell_type": "code",
   "execution_count": 45,
   "id": "250c1da7",
   "metadata": {},
   "outputs": [
    {
     "data": {
      "text/plain": [
       "1.0"
      ]
     },
     "execution_count": 45,
     "metadata": {},
     "output_type": "execute_result"
    }
   ],
   "source": [
    "import math\n",
    "sum([-math.log(0.5, 2)*0.5, -math.log(0.5, 2)*0.5])"
   ]
  },
  {
   "cell_type": "code",
   "execution_count": 46,
   "id": "c4e34896",
   "metadata": {},
   "outputs": [
    {
     "data": {
      "text/plain": [
       "0.8112781244591328"
      ]
     },
     "execution_count": 46,
     "metadata": {},
     "output_type": "execute_result"
    }
   ],
   "source": [
    "sum([-math.log(0.25, 2)*0.25, -math.log(0.75, 2)*0.75])"
   ]
  },
  {
   "cell_type": "code",
   "execution_count": 47,
   "id": "ae0b2f18",
   "metadata": {},
   "outputs": [
    {
     "data": {
      "text/plain": [
       "2.0"
      ]
     },
     "execution_count": 47,
     "metadata": {},
     "output_type": "execute_result"
    }
   ],
   "source": [
    "-math.log(0.25, 2)*0.25*4"
   ]
  },
  {
   "cell_type": "code",
   "execution_count": 48,
   "id": "b73001b3",
   "metadata": {},
   "outputs": [
    {
     "data": {
      "text/plain": [
       "2.321928094887362"
      ]
     },
     "execution_count": 48,
     "metadata": {},
     "output_type": "execute_result"
    }
   ],
   "source": [
    "-math.log(0.2, 2)*0.2*5"
   ]
  },
  {
   "cell_type": "code",
   "execution_count": 49,
   "id": "b4b1b71b",
   "metadata": {},
   "outputs": [
    {
     "data": {
      "text/plain": [
       "3.3219280948873626"
      ]
     },
     "execution_count": 49,
     "metadata": {},
     "output_type": "execute_result"
    }
   ],
   "source": [
    "-math.log(0.1, 2)*0.1*10"
   ]
  },
  {
   "cell_type": "code",
   "execution_count": 9,
   "id": "496b51ec",
   "metadata": {},
   "outputs": [],
   "source": [
    "def partition_entropy(subsets: List[List[Any]]) -> float:\n",
    "    \"\"\"Returns the entropy from this partition of data into subsets\"\"\"\n",
    "    total_count = sum(len(subset) for subset in subsets)\n",
    "\n",
    "    return sum(data_entropy(subset) * len(subset) / total_count\n",
    "               for subset in subsets)\n",
    "\n",
    "from typing import NamedTuple, Optional\n",
    "\n",
    "class Candidate(NamedTuple):\n",
    "    level: str\n",
    "    lang: str\n",
    "    tweets: bool\n",
    "    phd: bool\n",
    "    did_well: Optional[bool] = None  # allow unlabeled data\n",
    "\n",
    "                  #  level     lang     tweets  phd  did_well\n",
    "inputs = [Candidate('Senior', 'Java',   False, False, False),\n",
    "          Candidate('Senior', 'Java',   False, True,  False),\n",
    "          Candidate('Mid',    'Python', False, False, True),\n",
    "          Candidate('Junior', 'Python', False, False, True),\n",
    "          Candidate('Junior', 'R',      True,  False, True),\n",
    "          Candidate('Junior', 'R',      True,  True,  False),\n",
    "          Candidate('Mid',    'R',      True,  True,  True),\n",
    "          Candidate('Senior', 'Python', False, False, False),\n",
    "          Candidate('Senior', 'R',      True,  False, True),\n",
    "          Candidate('Junior', 'Python', True,  False, True),\n",
    "          Candidate('Senior', 'Python', True,  True,  True),\n",
    "          Candidate('Mid',    'Python', False, True,  True),\n",
    "          Candidate('Mid',    'Java',   True,  False, True),\n",
    "          Candidate('Junior', 'Python', False, True,  False)\n",
    "         ]\n",
    "\n",
    "from typing import Dict, TypeVar\n",
    "from collections import defaultdict\n",
    "\n",
    "T = TypeVar('T')  # generic type for inputs\n",
    "\n",
    "def partition_by(inputs: List[T], attribute: str) -> Dict[Any, List[T]]:\n",
    "    \"\"\"Partition the inputs into lists based on the specified attribute.\"\"\"\n",
    "    partitions: Dict[Any, List[T]] = defaultdict(list)\n",
    "    for input in inputs:\n",
    "        key = getattr(input, attribute)  # value of the specified attribute\n",
    "        partitions[key].append(input)    # add input to the correct partition\n",
    "    return partitions\n",
    "\n",
    "def partition_entropy_by(inputs: List[Any],\n",
    "                         attribute: str,\n",
    "                         label_attribute: str) -> float:\n",
    "    \"\"\"Compute the entropy corresponding to the given partition\"\"\"\n",
    "    # partitions consist of our inputs\n",
    "    partitions = partition_by(inputs, attribute)\n",
    "\n",
    "    # but partition_entropy needs just the class labels\n",
    "    labels = [[getattr(input, label_attribute) for input in partition]\n",
    "              for partition in partitions.values()]\n",
    "\n",
    "    return partition_entropy(labels)"
   ]
  },
  {
   "cell_type": "code",
   "execution_count": 10,
   "id": "b4a94913",
   "metadata": {},
   "outputs": [
    {
     "data": {
      "text/plain": [
       "defaultdict(list,\n",
       "            {False: [Candidate(level='Senior', lang='Java', tweets=False, phd=False, did_well=False),\n",
       "              Candidate(level='Senior', lang='Java', tweets=False, phd=True, did_well=False),\n",
       "              Candidate(level='Junior', lang='R', tweets=True, phd=True, did_well=False),\n",
       "              Candidate(level='Senior', lang='Python', tweets=False, phd=False, did_well=False),\n",
       "              Candidate(level='Junior', lang='Python', tweets=False, phd=True, did_well=False)],\n",
       "             True: [Candidate(level='Mid', lang='Python', tweets=False, phd=False, did_well=True),\n",
       "              Candidate(level='Junior', lang='Python', tweets=False, phd=False, did_well=True),\n",
       "              Candidate(level='Junior', lang='R', tweets=True, phd=False, did_well=True),\n",
       "              Candidate(level='Mid', lang='R', tweets=True, phd=True, did_well=True),\n",
       "              Candidate(level='Senior', lang='R', tweets=True, phd=False, did_well=True),\n",
       "              Candidate(level='Junior', lang='Python', tweets=True, phd=False, did_well=True),\n",
       "              Candidate(level='Senior', lang='Python', tweets=True, phd=True, did_well=True),\n",
       "              Candidate(level='Mid', lang='Python', tweets=False, phd=True, did_well=True),\n",
       "              Candidate(level='Mid', lang='Java', tweets=True, phd=False, did_well=True)]})"
      ]
     },
     "execution_count": 10,
     "metadata": {},
     "output_type": "execute_result"
    }
   ],
   "source": [
    "partition_by(inputs, 'did_well')"
   ]
  },
  {
   "cell_type": "code",
   "execution_count": 11,
   "id": "4d5e1dea",
   "metadata": {},
   "outputs": [
    {
     "name": "stdout",
     "output_type": "stream",
     "text": [
      "[Candidate(level='Senior', lang='Java', tweets=False, phd=False, did_well=False), Candidate(level='Senior', lang='Java', tweets=False, phd=True, did_well=False), Candidate(level='Junior', lang='R', tweets=True, phd=True, did_well=False), Candidate(level='Senior', lang='Python', tweets=False, phd=False, did_well=False), Candidate(level='Junior', lang='Python', tweets=False, phd=True, did_well=False)]\n",
      "[Candidate(level='Mid', lang='Python', tweets=False, phd=False, did_well=True), Candidate(level='Junior', lang='Python', tweets=False, phd=False, did_well=True), Candidate(level='Junior', lang='R', tweets=True, phd=False, did_well=True), Candidate(level='Mid', lang='R', tweets=True, phd=True, did_well=True), Candidate(level='Senior', lang='R', tweets=True, phd=False, did_well=True), Candidate(level='Junior', lang='Python', tweets=True, phd=False, did_well=True), Candidate(level='Senior', lang='Python', tweets=True, phd=True, did_well=True), Candidate(level='Mid', lang='Python', tweets=False, phd=True, did_well=True), Candidate(level='Mid', lang='Java', tweets=True, phd=False, did_well=True)]\n"
     ]
    }
   ],
   "source": [
    "for partition in partition_by(inputs, 'did_well').values():\n",
    "    print(partition)"
   ]
  },
  {
   "cell_type": "code",
   "execution_count": 12,
   "id": "98ccec68",
   "metadata": {},
   "outputs": [
    {
     "data": {
      "text/plain": [
       "2"
      ]
     },
     "execution_count": 12,
     "metadata": {},
     "output_type": "execute_result"
    }
   ],
   "source": [
    "len(partition_by(inputs, 'did_well').values())"
   ]
  },
  {
   "cell_type": "code",
   "execution_count": 13,
   "id": "9fb09e36",
   "metadata": {},
   "outputs": [
    {
     "name": "stdout",
     "output_type": "stream",
     "text": [
      "Candidate(level='Senior', lang='Java', tweets=False, phd=False, did_well=False)\n",
      "Candidate(level='Senior', lang='Java', tweets=False, phd=True, did_well=False)\n",
      "Candidate(level='Junior', lang='R', tweets=True, phd=True, did_well=False)\n",
      "Candidate(level='Senior', lang='Python', tweets=False, phd=False, did_well=False)\n",
      "Candidate(level='Junior', lang='Python', tweets=False, phd=True, did_well=False)\n",
      "Candidate(level='Mid', lang='Python', tweets=False, phd=False, did_well=True)\n",
      "Candidate(level='Junior', lang='Python', tweets=False, phd=False, did_well=True)\n",
      "Candidate(level='Junior', lang='R', tweets=True, phd=False, did_well=True)\n",
      "Candidate(level='Mid', lang='R', tweets=True, phd=True, did_well=True)\n",
      "Candidate(level='Senior', lang='R', tweets=True, phd=False, did_well=True)\n",
      "Candidate(level='Junior', lang='Python', tweets=True, phd=False, did_well=True)\n",
      "Candidate(level='Senior', lang='Python', tweets=True, phd=True, did_well=True)\n",
      "Candidate(level='Mid', lang='Python', tweets=False, phd=True, did_well=True)\n",
      "Candidate(level='Mid', lang='Java', tweets=True, phd=False, did_well=True)\n"
     ]
    }
   ],
   "source": [
    "for partition in partition_by(inputs, 'did_well').values():\n",
    "    for input in partition:\n",
    "        print(input)"
   ]
  },
  {
   "cell_type": "code",
   "execution_count": 14,
   "id": "4a9278ee",
   "metadata": {},
   "outputs": [
    {
     "name": "stdout",
     "output_type": "stream",
     "text": [
      "False\n",
      "False\n",
      "False\n",
      "False\n",
      "False\n",
      "True\n",
      "True\n",
      "True\n",
      "True\n",
      "True\n",
      "True\n",
      "True\n",
      "True\n",
      "True\n"
     ]
    }
   ],
   "source": [
    "for partition in partition_by(inputs, 'did_well').values():\n",
    "    for input in partition:\n",
    "        print(getattr(input, 'did_well'))"
   ]
  },
  {
   "cell_type": "code",
   "execution_count": 15,
   "id": "371b9041",
   "metadata": {},
   "outputs": [
    {
     "data": {
      "text/plain": [
       "dict_keys([False, True])"
      ]
     },
     "execution_count": 15,
     "metadata": {},
     "output_type": "execute_result"
    }
   ],
   "source": [
    "partition_by(inputs, 'did_well').keys()"
   ]
  },
  {
   "cell_type": "code",
   "execution_count": 16,
   "id": "fd101179",
   "metadata": {},
   "outputs": [
    {
     "name": "stdout",
     "output_type": "stream",
     "text": [
      "level 0.6935361388961919\n",
      "lang 0.8601317128547441\n",
      "tweets 0.7884504573082896\n",
      "phd 0.8921589282623617\n"
     ]
    }
   ],
   "source": [
    "for key in ['level','lang','tweets','phd']:\n",
    "    print(key, partition_entropy_by(inputs, key, 'did_well'))"
   ]
  },
  {
   "cell_type": "code",
   "execution_count": 17,
   "id": "2971e812",
   "metadata": {},
   "outputs": [],
   "source": [
    "assert 0.69 < partition_entropy_by(inputs, 'level', 'did_well')  < 0.70\n",
    "assert 0.86 < partition_entropy_by(inputs, 'lang', 'did_well')   < 0.87\n",
    "assert 0.78 < partition_entropy_by(inputs, 'tweets', 'did_well') < 0.79\n",
    "assert 0.89 < partition_entropy_by(inputs, 'phd', 'did_well')    < 0.90"
   ]
  },
  {
   "cell_type": "code",
   "execution_count": 19,
   "id": "ebee68de",
   "metadata": {},
   "outputs": [
    {
     "data": {
      "text/plain": [
       "(0.4, 0.0, 0.9509775004326938)"
      ]
     },
     "execution_count": 19,
     "metadata": {},
     "output_type": "execute_result"
    }
   ],
   "source": [
    "senior_inputs = [input for input in inputs if input.level == 'Senior']\n",
    "\n",
    "assert 0.4 == partition_entropy_by(senior_inputs, 'lang', 'did_well')\n",
    "assert 0.0 == partition_entropy_by(senior_inputs, 'tweets', 'did_well')\n",
    "assert 0.95 < partition_entropy_by(senior_inputs, 'phd', 'did_well') < 0.96\n",
    "partition_entropy_by(senior_inputs, 'lang', 'did_well'), partition_entropy_by(senior_inputs, 'tweets', 'did_well'), \\\n",
    "partition_entropy_by(senior_inputs, 'phd', 'did_well')"
   ]
  },
  {
   "cell_type": "code",
   "execution_count": 20,
   "id": "cb2fa640",
   "metadata": {},
   "outputs": [],
   "source": [
    "from typing import NamedTuple, Union, Any\n",
    "\n",
    "class Leaf(NamedTuple):\n",
    "    value: Any\n",
    "\n",
    "class Split(NamedTuple):\n",
    "    attribute: str\n",
    "    subtrees: dict\n",
    "    default_value: Any = None\n",
    "\n",
    "DecisionTree = Union[Leaf, Split]\n",
    "\n",
    "hiring_tree = Split('level', {   # First, consider \"level\".\n",
    "    'Junior': Split('phd', {     # if level is \"Junior\", next look at \"phd\"\n",
    "        False: Leaf(True),       #   if \"phd\" is False, predict True\n",
    "        True: Leaf(False)        #   if \"phd\" is True, predict False\n",
    "    }),\n",
    "    'Mid': Leaf(True),           # if level is \"Mid\", just predict True\n",
    "    'Senior': Split('tweets', {  # if level is \"Senior\", look at \"tweets\"\n",
    "        False: Leaf(False),      #   if \"tweets\" is False, predict False\n",
    "        True: Leaf(True)         #   if \"tweets\" is True, predict True\n",
    "    })\n",
    "})"
   ]
  },
  {
   "cell_type": "code",
   "execution_count": 21,
   "id": "8e33f158",
   "metadata": {},
   "outputs": [],
   "source": [
    "def classify(tree: DecisionTree, input: Any) -> Any:\n",
    "    \"\"\"classify the input using the given decision tree\"\"\"\n",
    "\n",
    "    # If this is a leaf node, return its value\n",
    "    if isinstance(tree, Leaf):\n",
    "        return tree.value\n",
    "\n",
    "    # Otherwise this tree consists of an attribute to split on\n",
    "    # and a dictionary whose keys are values of that attribute\n",
    "    # and whose values of are subtrees to consider next\n",
    "    subtree_key = getattr(input, tree.attribute)\n",
    "\n",
    "    if subtree_key not in tree.subtrees:   # If no subtree for key,\n",
    "        return tree.default_value          # return the default value.\n",
    "\n",
    "    subtree = tree.subtrees[subtree_key]   # Choose the appropriate subtree\n",
    "    return classify(subtree, input)        # and use it to classify the input."
   ]
  },
  {
   "cell_type": "code",
   "execution_count": 26,
   "id": "896da0ef",
   "metadata": {},
   "outputs": [
    {
     "data": {
      "text/plain": [
       "[Candidate(level='Senior', lang='Java', tweets=False, phd=False, did_well=False),\n",
       " Candidate(level='Senior', lang='Java', tweets=False, phd=True, did_well=False),\n",
       " Candidate(level='Mid', lang='Python', tweets=False, phd=False, did_well=True),\n",
       " Candidate(level='Junior', lang='Python', tweets=False, phd=False, did_well=True),\n",
       " Candidate(level='Junior', lang='R', tweets=True, phd=False, did_well=True),\n",
       " Candidate(level='Junior', lang='R', tweets=True, phd=True, did_well=False),\n",
       " Candidate(level='Mid', lang='R', tweets=True, phd=True, did_well=True),\n",
       " Candidate(level='Senior', lang='Python', tweets=False, phd=False, did_well=False),\n",
       " Candidate(level='Senior', lang='R', tweets=True, phd=False, did_well=True),\n",
       " Candidate(level='Junior', lang='Python', tweets=True, phd=False, did_well=True),\n",
       " Candidate(level='Senior', lang='Python', tweets=True, phd=True, did_well=True),\n",
       " Candidate(level='Mid', lang='Python', tweets=False, phd=True, did_well=True),\n",
       " Candidate(level='Mid', lang='Java', tweets=True, phd=False, did_well=True),\n",
       " Candidate(level='Junior', lang='Python', tweets=False, phd=True, did_well=False)]"
      ]
     },
     "execution_count": 26,
     "metadata": {},
     "output_type": "execute_result"
    }
   ],
   "source": [
    "inputs"
   ]
  },
  {
   "cell_type": "code",
   "execution_count": 24,
   "id": "3d5531ae",
   "metadata": {},
   "outputs": [
    {
     "data": {
      "text/plain": [
       "Counter({False: 5, True: 9})"
      ]
     },
     "execution_count": 24,
     "metadata": {},
     "output_type": "execute_result"
    }
   ],
   "source": [
    "Counter(getattr(input, 'did_well') for input in inputs)"
   ]
  },
  {
   "cell_type": "code",
   "execution_count": 27,
   "id": "1c3e669f",
   "metadata": {},
   "outputs": [
    {
     "data": {
      "text/plain": [
       "True"
      ]
     },
     "execution_count": 27,
     "metadata": {},
     "output_type": "execute_result"
    }
   ],
   "source": [
    "Counter(getattr(input, 'did_well') for input in inputs).most_common(1)[0][0]"
   ]
  },
  {
   "cell_type": "code",
   "execution_count": 28,
   "id": "84c299f9",
   "metadata": {},
   "outputs": [
    {
     "data": {
      "text/plain": [
       "2"
      ]
     },
     "execution_count": 28,
     "metadata": {},
     "output_type": "execute_result"
    }
   ],
   "source": [
    "len(Counter(getattr(input, 'did_well') for input in inputs))"
   ]
  },
  {
   "cell_type": "code",
   "execution_count": 29,
   "id": "a4138f2c",
   "metadata": {},
   "outputs": [
    {
     "data": {
      "text/plain": [
       "Leaf(value=True)"
      ]
     },
     "execution_count": 29,
     "metadata": {},
     "output_type": "execute_result"
    }
   ],
   "source": [
    "Leaf(Counter(getattr(input, 'did_well') for input in inputs).most_common(1)[0][0])"
   ]
  },
  {
   "cell_type": "code",
   "execution_count": 22,
   "id": "dfa6466a",
   "metadata": {},
   "outputs": [],
   "source": [
    "def build_tree_id3(inputs: List[Any],\n",
    "                   split_attributes: List[str],\n",
    "                   target_attribute: str) -> DecisionTree:\n",
    "    # Count target labels\n",
    "    label_counts = Counter(getattr(input, target_attribute)\n",
    "                           for input in inputs)\n",
    "    most_common_label = label_counts.most_common(1)[0][0]\n",
    "\n",
    "    # If there's a unique label, predict it\n",
    "    if len(label_counts) == 1:\n",
    "        return Leaf(most_common_label)\n",
    "\n",
    "    # If no split attributes left, return the majority label\n",
    "    if not split_attributes:\n",
    "        return Leaf(most_common_label)\n",
    "\n",
    "    # Otherwise split by the best attribute\n",
    "\n",
    "    def split_entropy(attribute: str) -> float:\n",
    "        \"\"\"Helper function for finding the best attribute\"\"\"\n",
    "        return partition_entropy_by(inputs, attribute, target_attribute)\n",
    "\n",
    "    best_attribute = min(split_attributes, key=split_entropy)\n",
    "\n",
    "    partitions = partition_by(inputs, best_attribute)\n",
    "    new_attributes = [a for a in split_attributes if a != best_attribute]\n",
    "\n",
    "    # recursively build the subtrees\n",
    "    subtrees = {attribute_value : build_tree_id3(subset,\n",
    "                                                 new_attributes,\n",
    "                                                 target_attribute)\n",
    "                for attribute_value, subset in partitions.items()}\n",
    "\n",
    "    return Split(best_attribute, subtrees, default_value=most_common_label)\n",
    "\n"
   ]
  },
  {
   "cell_type": "code",
   "execution_count": 23,
   "id": "d97b081b",
   "metadata": {},
   "outputs": [
    {
     "data": {
      "text/plain": [
       "Split(attribute='level', subtrees={'Senior': Split(attribute='tweets', subtrees={False: Leaf(value=False), True: Leaf(value=True)}, default_value=False), 'Mid': Leaf(value=True), 'Junior': Split(attribute='phd', subtrees={False: Leaf(value=True), True: Leaf(value=False)}, default_value=True)}, default_value=True)"
      ]
     },
     "execution_count": 23,
     "metadata": {},
     "output_type": "execute_result"
    }
   ],
   "source": [
    "tree = build_tree_id3(inputs,\n",
    "                      ['level', 'lang', 'tweets', 'phd'],\n",
    "                      'did_well')\n",
    "tree"
   ]
  },
  {
   "cell_type": "code",
   "execution_count": 33,
   "id": "42089e09",
   "metadata": {},
   "outputs": [
    {
     "data": {
      "text/plain": [
       "'level'"
      ]
     },
     "execution_count": 33,
     "metadata": {},
     "output_type": "execute_result"
    }
   ],
   "source": [
    "tree.attribute"
   ]
  },
  {
   "cell_type": "code",
   "execution_count": 32,
   "id": "7dbe4995",
   "metadata": {},
   "outputs": [
    {
     "data": {
      "text/plain": [
       "'Junior'"
      ]
     },
     "execution_count": 32,
     "metadata": {},
     "output_type": "execute_result"
    }
   ],
   "source": [
    "getattr(Candidate(\"Junior\", \"Java\", True, False), tree.attribute)"
   ]
  },
  {
   "cell_type": "code",
   "execution_count": 34,
   "id": "42c3eb57",
   "metadata": {},
   "outputs": [
    {
     "data": {
      "text/plain": [
       "'Junior'"
      ]
     },
     "execution_count": 34,
     "metadata": {},
     "output_type": "execute_result"
    }
   ],
   "source": [
    "getattr(Candidate(\"Junior\", \"Java\", True, False), 'level')"
   ]
  },
  {
   "cell_type": "code",
   "execution_count": 35,
   "id": "b2d19b56",
   "metadata": {},
   "outputs": [
    {
     "data": {
      "text/plain": [
       "{'Senior': Split(attribute='tweets', subtrees={False: Leaf(value=False), True: Leaf(value=True)}, default_value=False),\n",
       " 'Mid': Leaf(value=True),\n",
       " 'Junior': Split(attribute='phd', subtrees={False: Leaf(value=True), True: Leaf(value=False)}, default_value=True)}"
      ]
     },
     "execution_count": 35,
     "metadata": {},
     "output_type": "execute_result"
    }
   ],
   "source": [
    "tree.subtrees"
   ]
  },
  {
   "cell_type": "code",
   "execution_count": 36,
   "id": "b94ab2d9",
   "metadata": {},
   "outputs": [
    {
     "data": {
      "text/plain": [
       "True"
      ]
     },
     "execution_count": 36,
     "metadata": {},
     "output_type": "execute_result"
    }
   ],
   "source": [
    "tree.default_value"
   ]
  },
  {
   "cell_type": "code",
   "execution_count": 30,
   "id": "aa06cdd0",
   "metadata": {},
   "outputs": [],
   "source": [
    "# Should predict True\n",
    "assert classify(tree, Candidate(\"Junior\", \"Java\", True, False))"
   ]
  },
  {
   "cell_type": "code",
   "execution_count": 31,
   "id": "88f25462",
   "metadata": {},
   "outputs": [],
   "source": [
    "# Should predict False\n",
    "assert not classify(tree, Candidate(\"Junior\", \"Java\", True, True))\n",
    "\n",
    "# Should predict True\n",
    "assert classify(tree, Candidate(\"Intern\", \"Java\", True, True))"
   ]
  }
 ],
 "metadata": {
  "kernelspec": {
   "display_name": "Python 3 (ipykernel)",
   "language": "python",
   "name": "python3"
  },
  "language_info": {
   "codemirror_mode": {
    "name": "ipython",
    "version": 3
   },
   "file_extension": ".py",
   "mimetype": "text/x-python",
   "name": "python",
   "nbconvert_exporter": "python",
   "pygments_lexer": "ipython3",
   "version": "3.8.13"
  }
 },
 "nbformat": 4,
 "nbformat_minor": 5
}
