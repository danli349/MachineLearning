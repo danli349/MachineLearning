{
 "cells": [
  {
   "cell_type": "code",
   "execution_count": 1,
   "id": "d213cc7e",
   "metadata": {},
   "outputs": [
    {
     "data": {
      "text/plain": [
       "['D:\\\\books\\\\python\\\\0.Data Science from Scratch- First Principles with Python',\n",
       " 'D:/books/python/0.Data Science from Scratch- First Principles with Python/data-science-from-scratch/scratch/',\n",
       " 'C:\\\\Users\\\\lidan\\\\miniconda3\\\\python38.zip',\n",
       " 'C:\\\\Users\\\\lidan\\\\miniconda3\\\\DLLs',\n",
       " 'C:\\\\Users\\\\lidan\\\\miniconda3\\\\lib',\n",
       " 'C:\\\\Users\\\\lidan\\\\miniconda3',\n",
       " '',\n",
       " 'C:\\\\Users\\\\lidan\\\\AppData\\\\Roaming\\\\Python\\\\Python38\\\\site-packages',\n",
       " 'C:\\\\Users\\\\lidan\\\\miniconda3\\\\lib\\\\site-packages',\n",
       " 'C:\\\\Users\\\\lidan\\\\miniconda3\\\\lib\\\\site-packages\\\\magic_impute-2.0.4-py3.8.egg',\n",
       " 'C:\\\\Users\\\\lidan\\\\miniconda3\\\\lib\\\\site-packages\\\\seqc-0.2.0-py3.8.egg',\n",
       " 'C:\\\\Users\\\\lidan\\\\miniconda3\\\\lib\\\\site-packages\\\\weasyprint-56.1-py3.8.egg',\n",
       " 'C:\\\\Users\\\\lidan\\\\miniconda3\\\\lib\\\\site-packages\\\\cairocffi-1.3.0-py3.8.egg',\n",
       " 'C:\\\\Users\\\\lidan\\\\miniconda3\\\\lib\\\\site-packages\\\\win32',\n",
       " 'C:\\\\Users\\\\lidan\\\\miniconda3\\\\lib\\\\site-packages\\\\win32\\\\lib',\n",
       " 'C:\\\\Users\\\\lidan\\\\miniconda3\\\\lib\\\\site-packages\\\\Pythonwin']"
      ]
     },
     "execution_count": 1,
     "metadata": {},
     "output_type": "execute_result"
    }
   ],
   "source": [
    "from __future__ import annotations\n",
    "import sys\n",
    "    # caution: path[0] is reserved for script path (or '' in REPL)\n",
    "sys.path.insert(1, 'D:/books/python/0.Data Science from Scratch- First Principles with Python/data-science-from-scratch/scratch/')\n",
    "sys.path"
   ]
  },
  {
   "cell_type": "code",
   "execution_count": 2,
   "id": "038df9fb",
   "metadata": {},
   "outputs": [],
   "source": [
    "from typing import NamedTuple\n",
    "\n",
    "class User(NamedTuple):\n",
    "    id: int\n",
    "    name: str\n",
    "\n",
    "users = [User(0, \"Hero\"), User(1, \"Dunn\"), User(2, \"Sue\"), User(3, \"Chi\"),\n",
    "         User(4, \"Thor\"), User(5, \"Clive\"), User(6, \"Hicks\"),\n",
    "         User(7, \"Devin\"), User(8, \"Kate\"), User(9, \"Klein\")]\n",
    "\n",
    "friend_pairs = [(0, 1), (0, 2), (1, 2), (1, 3), (2, 3), (3, 4),\n",
    "                (4, 5), (5, 6), (5, 7), (6, 8), (7, 8), (8, 9)]"
   ]
  },
  {
   "cell_type": "code",
   "execution_count": 3,
   "id": "a120ffdf",
   "metadata": {},
   "outputs": [
    {
     "data": {
      "text/plain": [
       "{0: [1, 2],\n",
       " 1: [0, 2, 3],\n",
       " 2: [0, 1, 3],\n",
       " 3: [1, 2, 4],\n",
       " 4: [3, 5],\n",
       " 5: [4, 6, 7],\n",
       " 6: [5, 8],\n",
       " 7: [5, 8],\n",
       " 8: [6, 7, 9],\n",
       " 9: [8]}"
      ]
     },
     "execution_count": 3,
     "metadata": {},
     "output_type": "execute_result"
    }
   ],
   "source": [
    "from typing import Dict, List\n",
    "\n",
    "# type alias for keeping track of Friendships\n",
    "Friendships = Dict[int, List[int]]\n",
    "\n",
    "friendships: Friendships = {user.id: [] for user in users}\n",
    "\n",
    "for i, j in friend_pairs:\n",
    "    friendships[i].append(j)\n",
    "    friendships[j].append(i)\n",
    "\n",
    "assert friendships[4] == [3, 5]\n",
    "assert friendships[8] == [6, 7, 9]\n",
    "friendships"
   ]
  },
  {
   "cell_type": "code",
   "execution_count": 4,
   "id": "c5274d89",
   "metadata": {},
   "outputs": [],
   "source": [
    "from collections import deque\n",
    "\n",
    "Path = List[int]\n",
    "\n",
    "def shortest_paths_from(from_user_id: int,\n",
    "                        friendships: Friendships) -> Dict[int, List[Path]]:\n",
    "    # A dictionary from \"user_id\" to *all* shortest paths to that user\n",
    "    shortest_paths_to: Dict[int, List[Path]] = {from_user_id: [[]]}\n",
    "\n",
    "    # A queue of (previous user, next user) that we need to check.\n",
    "    # Starts out with all pairs (from_user, friend_of_from_user)\n",
    "    frontier = deque((from_user_id, friend_id)\n",
    "                     for friend_id in friendships[from_user_id])\n",
    "\n",
    "    # Keep going until we empty the queue.\n",
    "    while frontier:\n",
    "        # Remove the pair that's next in the queue.\n",
    "        prev_user_id, user_id = frontier.popleft()\n",
    "\n",
    "        # Because of the way we're adding to the queue,\n",
    "        # necessarily we already know some shortest paths to prev_user\n",
    "        paths_to_prev_user = shortest_paths_to[prev_user_id]\n",
    "        new_paths_to_user = [path + [user_id] for path in paths_to_prev_user]\n",
    "\n",
    "        # It's possible we already know a shortest path to user_id.\n",
    "        old_paths_to_user = shortest_paths_to.get(user_id, [])\n",
    "\n",
    "        # What's the shortest path to here that we've seen so far?\n",
    "        if old_paths_to_user:\n",
    "            min_path_length = len(old_paths_to_user[0])\n",
    "        else:\n",
    "            min_path_length = float('inf')\n",
    "\n",
    "        # Only keep paths that aren't too long and are actually new\n",
    "        new_paths_to_user = [path\n",
    "                             for path in new_paths_to_user\n",
    "                             if len(path) <= min_path_length\n",
    "                             and path not in old_paths_to_user]\n",
    "\n",
    "        shortest_paths_to[user_id] = old_paths_to_user + new_paths_to_user\n",
    "\n",
    "        # Add never-seen neighbors to the frontier\n",
    "        frontier.extend((user_id, friend_id)\n",
    "                        for friend_id in friendships[user_id]\n",
    "                        if friend_id not in shortest_paths_to)\n",
    "\n",
    "    return shortest_paths_to"
   ]
  },
  {
   "cell_type": "code",
   "execution_count": 5,
   "id": "55f0d110",
   "metadata": {},
   "outputs": [
    {
     "data": {
      "text/plain": [
       "{0: {0: [[]],\n",
       "  1: [[1]],\n",
       "  2: [[2]],\n",
       "  3: [[1, 3], [2, 3]],\n",
       "  4: [[1, 3, 4], [2, 3, 4]],\n",
       "  5: [[1, 3, 4, 5], [2, 3, 4, 5]],\n",
       "  6: [[1, 3, 4, 5, 6], [2, 3, 4, 5, 6]],\n",
       "  7: [[1, 3, 4, 5, 7], [2, 3, 4, 5, 7]],\n",
       "  8: [[1, 3, 4, 5, 6, 8],\n",
       "   [2, 3, 4, 5, 6, 8],\n",
       "   [1, 3, 4, 5, 7, 8],\n",
       "   [2, 3, 4, 5, 7, 8]],\n",
       "  9: [[1, 3, 4, 5, 6, 8, 9],\n",
       "   [2, 3, 4, 5, 6, 8, 9],\n",
       "   [1, 3, 4, 5, 7, 8, 9],\n",
       "   [2, 3, 4, 5, 7, 8, 9]]},\n",
       " 1: {1: [[]],\n",
       "  0: [[0]],\n",
       "  2: [[2]],\n",
       "  3: [[3]],\n",
       "  4: [[3, 4]],\n",
       "  5: [[3, 4, 5]],\n",
       "  6: [[3, 4, 5, 6]],\n",
       "  7: [[3, 4, 5, 7]],\n",
       "  8: [[3, 4, 5, 6, 8], [3, 4, 5, 7, 8]],\n",
       "  9: [[3, 4, 5, 6, 8, 9], [3, 4, 5, 7, 8, 9]]},\n",
       " 2: {2: [[]],\n",
       "  0: [[0]],\n",
       "  1: [[1]],\n",
       "  3: [[3]],\n",
       "  4: [[3, 4]],\n",
       "  5: [[3, 4, 5]],\n",
       "  6: [[3, 4, 5, 6]],\n",
       "  7: [[3, 4, 5, 7]],\n",
       "  8: [[3, 4, 5, 6, 8], [3, 4, 5, 7, 8]],\n",
       "  9: [[3, 4, 5, 6, 8, 9], [3, 4, 5, 7, 8, 9]]},\n",
       " 3: {3: [[]],\n",
       "  1: [[1]],\n",
       "  2: [[2]],\n",
       "  4: [[4]],\n",
       "  0: [[1, 0], [2, 0]],\n",
       "  5: [[4, 5]],\n",
       "  6: [[4, 5, 6]],\n",
       "  7: [[4, 5, 7]],\n",
       "  8: [[4, 5, 6, 8], [4, 5, 7, 8]],\n",
       "  9: [[4, 5, 6, 8, 9], [4, 5, 7, 8, 9]]},\n",
       " 4: {4: [[]],\n",
       "  3: [[3]],\n",
       "  5: [[5]],\n",
       "  1: [[3, 1]],\n",
       "  2: [[3, 2]],\n",
       "  6: [[5, 6]],\n",
       "  7: [[5, 7]],\n",
       "  0: [[3, 1, 0], [3, 2, 0]],\n",
       "  8: [[5, 6, 8], [5, 7, 8]],\n",
       "  9: [[5, 6, 8, 9], [5, 7, 8, 9]]},\n",
       " 5: {5: [[]],\n",
       "  4: [[4]],\n",
       "  6: [[6]],\n",
       "  7: [[7]],\n",
       "  3: [[4, 3]],\n",
       "  8: [[6, 8], [7, 8]],\n",
       "  1: [[4, 3, 1]],\n",
       "  2: [[4, 3, 2]],\n",
       "  9: [[6, 8, 9], [7, 8, 9]],\n",
       "  0: [[4, 3, 1, 0], [4, 3, 2, 0]]},\n",
       " 6: {6: [[]],\n",
       "  5: [[5]],\n",
       "  8: [[8]],\n",
       "  4: [[5, 4]],\n",
       "  7: [[5, 7], [8, 7]],\n",
       "  9: [[8, 9]],\n",
       "  3: [[5, 4, 3]],\n",
       "  1: [[5, 4, 3, 1]],\n",
       "  2: [[5, 4, 3, 2]],\n",
       "  0: [[5, 4, 3, 1, 0], [5, 4, 3, 2, 0]]},\n",
       " 7: {7: [[]],\n",
       "  5: [[5]],\n",
       "  8: [[8]],\n",
       "  4: [[5, 4]],\n",
       "  6: [[5, 6], [8, 6]],\n",
       "  9: [[8, 9]],\n",
       "  3: [[5, 4, 3]],\n",
       "  1: [[5, 4, 3, 1]],\n",
       "  2: [[5, 4, 3, 2]],\n",
       "  0: [[5, 4, 3, 1, 0], [5, 4, 3, 2, 0]]},\n",
       " 8: {8: [[]],\n",
       "  6: [[6]],\n",
       "  7: [[7]],\n",
       "  9: [[9]],\n",
       "  5: [[6, 5], [7, 5]],\n",
       "  4: [[6, 5, 4], [7, 5, 4]],\n",
       "  3: [[6, 5, 4, 3], [7, 5, 4, 3]],\n",
       "  1: [[6, 5, 4, 3, 1], [7, 5, 4, 3, 1]],\n",
       "  2: [[6, 5, 4, 3, 2], [7, 5, 4, 3, 2]],\n",
       "  0: [[6, 5, 4, 3, 1, 0],\n",
       "   [7, 5, 4, 3, 1, 0],\n",
       "   [6, 5, 4, 3, 2, 0],\n",
       "   [7, 5, 4, 3, 2, 0]]},\n",
       " 9: {9: [[]],\n",
       "  8: [[8]],\n",
       "  6: [[8, 6]],\n",
       "  7: [[8, 7]],\n",
       "  5: [[8, 6, 5], [8, 7, 5]],\n",
       "  4: [[8, 6, 5, 4], [8, 7, 5, 4]],\n",
       "  3: [[8, 6, 5, 4, 3], [8, 7, 5, 4, 3]],\n",
       "  1: [[8, 6, 5, 4, 3, 1], [8, 7, 5, 4, 3, 1]],\n",
       "  2: [[8, 6, 5, 4, 3, 2], [8, 7, 5, 4, 3, 2]],\n",
       "  0: [[8, 6, 5, 4, 3, 1, 0],\n",
       "   [8, 7, 5, 4, 3, 1, 0],\n",
       "   [8, 6, 5, 4, 3, 2, 0],\n",
       "   [8, 7, 5, 4, 3, 2, 0]]}}"
      ]
     },
     "execution_count": 5,
     "metadata": {},
     "output_type": "execute_result"
    }
   ],
   "source": [
    "# For each from_user, for each to_user, a list of shortest paths.\n",
    "shortest_paths = {user.id: shortest_paths_from(user.id, friendships)\n",
    "                  for user in users}\n",
    "shortest_paths"
   ]
  },
  {
   "cell_type": "code",
   "execution_count": 6,
   "id": "dd571d2b",
   "metadata": {},
   "outputs": [
    {
     "data": {
      "text/plain": [
       "{0: 0.0,\n",
       " 1: 3.5,\n",
       " 2: 3.5,\n",
       " 3: 18.0,\n",
       " 4: 20.0,\n",
       " 5: 20.5,\n",
       " 6: 6.0,\n",
       " 7: 6.0,\n",
       " 8: 8.5,\n",
       " 9: 0.0}"
      ]
     },
     "execution_count": 6,
     "metadata": {},
     "output_type": "execute_result"
    }
   ],
   "source": [
    "betweenness_centrality = {user.id: 0.0 for user in users}\n",
    "\n",
    "for source in users:\n",
    "    for target_id, paths in shortest_paths[source.id].items():\n",
    "        if source.id < target_id:      # don't double count\n",
    "            num_paths = len(paths)     # how many shortest paths?\n",
    "            contrib = 1 / num_paths    # contribution to centrality\n",
    "            for path in paths:\n",
    "                for between_id in path:\n",
    "                    if between_id not in [source.id, target_id]:\n",
    "                        betweenness_centrality[between_id] += contrib\n",
    "betweenness_centrality"
   ]
  },
  {
   "cell_type": "code",
   "execution_count": 7,
   "id": "a32dafb9",
   "metadata": {},
   "outputs": [
    {
     "data": {
      "text/plain": [
       "{0: 0.029411764705882353,\n",
       " 1: 0.037037037037037035,\n",
       " 2: 0.037037037037037035,\n",
       " 3: 0.045454545454545456,\n",
       " 4: 0.05,\n",
       " 5: 0.05,\n",
       " 6: 0.041666666666666664,\n",
       " 7: 0.041666666666666664,\n",
       " 8: 0.03571428571428571,\n",
       " 9: 0.027777777777777776}"
      ]
     },
     "execution_count": 7,
     "metadata": {},
     "output_type": "execute_result"
    }
   ],
   "source": [
    "def farness(user_id: int) -> float:\n",
    "    \"\"\"the sum of the lengths of the shortest paths to each other user\"\"\"\n",
    "    return sum(len(paths[0])\n",
    "               for paths in shortest_paths[user_id].values())\n",
    "\n",
    "closeness_centrality = {user.id: 1 / farness(user.id) for user in users}\n",
    "closeness_centrality"
   ]
  },
  {
   "cell_type": "code",
   "execution_count": 9,
   "id": "74928cce",
   "metadata": {},
   "outputs": [],
   "source": [
    "from linear_algebra import Matrix, make_matrix, shape\n",
    "\n",
    "def matrix_times_matrix(m1: Matrix, m2: Matrix) -> Matrix:\n",
    "    nr1, nc1 = shape(m1)\n",
    "    nr2, nc2 = shape(m2)\n",
    "    assert nc1 == nr2, \"must have (# of columns in m1) == (# of rows in m2)\"\n",
    "\n",
    "    def entry_fn(i: int, j: int) -> float:\n",
    "        \"\"\"dot product of i-th row of m1 with j-th column of m2\"\"\"\n",
    "        return sum(m1[i][k] * m2[k][j] for k in range(nc1))\n",
    "\n",
    "    return make_matrix(nr1, nc2, entry_fn)\n",
    "\n",
    "from linear_algebra import Vector, dot\n",
    "\n",
    "def matrix_times_vector(m: Matrix, v: Vector) -> Vector:\n",
    "    nr, nc = shape(m)\n",
    "    n = len(v)\n",
    "    assert nc == n, \"must have (# of cols in m) == (# of elements in v)\"\n",
    "\n",
    "    return [dot(row, v) for row in m]  # output has length nr"
   ]
  },
  {
   "cell_type": "code",
   "execution_count": 10,
   "id": "bf28c216",
   "metadata": {},
   "outputs": [],
   "source": [
    "from typing import Tuple\n",
    "import random\n",
    "from linear_algebra import magnitude, distance\n",
    "\n",
    "def find_eigenvector(m: Matrix,\n",
    "                     tolerance: float = 0.00001) -> Tuple[Vector, float]:\n",
    "    guess = [random.random() for _ in m]\n",
    "\n",
    "    while True:\n",
    "        result = matrix_times_vector(m, guess)    # transform guess\n",
    "        norm = magnitude(result)                  # compute norm\n",
    "        next_guess = [x / norm for x in result]   # rescale\n",
    "\n",
    "        if distance(guess, next_guess) < tolerance:\n",
    "            # convergence so return (eigenvector, eigenvalue)\n",
    "            return next_guess, norm\n",
    "\n",
    "        guess = next_guess"
   ]
  },
  {
   "cell_type": "code",
   "execution_count": 11,
   "id": "1892c9b5",
   "metadata": {},
   "outputs": [],
   "source": [
    "rotate = [[ 0, 1],\n",
    "          [-1, 0]]\n",
    "\n",
    "flip = [[0, 1],\n",
    "        [1, 0]]\n",
    "\n",
    "def entry_fn(i: int, j: int):\n",
    "    return 1 if (i, j) in friend_pairs or (j, i) in friend_pairs else 0\n",
    "\n",
    "n = len(users)\n",
    "adjacency_matrix = make_matrix(n, n, entry_fn)\n",
    "\n",
    "endorsements = [(0, 1), (1, 0), (0, 2), (2, 0), (1, 2),\n",
    "                (2, 1), (1, 3), (2, 3), (3, 4), (5, 4),\n",
    "                (5, 6), (7, 5), (6, 8), (8, 7), (8, 9)]"
   ]
  },
  {
   "cell_type": "code",
   "execution_count": 12,
   "id": "aa9a366c",
   "metadata": {},
   "outputs": [
    {
     "data": {
      "text/plain": [
       "Counter({1: 2, 0: 2, 2: 2, 3: 2, 4: 2, 6: 1, 5: 1, 8: 1, 7: 1, 9: 1})"
      ]
     },
     "execution_count": 12,
     "metadata": {},
     "output_type": "execute_result"
    }
   ],
   "source": [
    "from collections import Counter\n",
    "\n",
    "endorsement_counts = Counter(target for source, target in endorsements)\n",
    "\n",
    "endorsement_counts"
   ]
  },
  {
   "cell_type": "code",
   "execution_count": 13,
   "id": "2e0f67d1",
   "metadata": {},
   "outputs": [
    {
     "name": "stderr",
     "output_type": "stream",
     "text": [
      "100%|████████████████████████████████████████████████████████████████████████████| 100/100 [00:00<00:00, 100054.96it/s]\n"
     ]
    },
    {
     "data": {
      "text/plain": [
       "{0: 0.1,\n",
       " 1: 0.1,\n",
       " 2: 0.1,\n",
       " 3: 0.1,\n",
       " 4: 0.14250000000000002,\n",
       " 5: 0.1,\n",
       " 6: 0.1,\n",
       " 7: 0.1,\n",
       " 8: 0.1,\n",
       " 9: 0.1}"
      ]
     },
     "execution_count": 13,
     "metadata": {},
     "output_type": "execute_result"
    }
   ],
   "source": [
    "import tqdm\n",
    "\n",
    "def page_rank(users: List[User],\n",
    "              endorsements: List[Tuple[int, int]],\n",
    "              damping: float = 0.85,\n",
    "              num_iters: int = 100) -> Dict[int, float]:\n",
    "    # Compute how many people each person endorses\n",
    "    outgoing_counts = Counter(target for source, target in endorsements)\n",
    "\n",
    "    # Initially distribute PageRank evenly\n",
    "    num_users = len(users)\n",
    "    pr = {user.id : 1 / num_users for user in users}\n",
    "\n",
    "    # Small fraction of PageRank that each node gets each iteration\n",
    "    base_pr = (1 - damping) / num_users\n",
    "\n",
    "    for iter in tqdm.trange(num_iters):\n",
    "        next_pr = {user.id : base_pr for user in users}  # start with base_pr\n",
    "\n",
    "        for source, target in endorsements:\n",
    "            # Add damped fraction of source pr to target\n",
    "            next_pr[target] += damping * pr[source] / outgoing_counts[source]\n",
    "\n",
    "        pr = next_pr\n",
    "\n",
    "    return pr\n",
    "\n",
    "pr = page_rank(users, endorsements)\n",
    "pr"
   ]
  },
  {
   "cell_type": "code",
   "execution_count": 14,
   "id": "de96a85a",
   "metadata": {},
   "outputs": [],
   "source": [
    "# Thor (user_id 4) has higher page rank than anyone else\n",
    "assert pr[4] > max(page_rank\n",
    "                   for user_id, page_rank in pr.items()\n",
    "                   if user_id != 4)"
   ]
  }
 ],
 "metadata": {
  "kernelspec": {
   "display_name": "Python 3 (ipykernel)",
   "language": "python",
   "name": "python3"
  },
  "language_info": {
   "codemirror_mode": {
    "name": "ipython",
    "version": 3
   },
   "file_extension": ".py",
   "mimetype": "text/x-python",
   "name": "python",
   "nbconvert_exporter": "python",
   "pygments_lexer": "ipython3",
   "version": "3.8.13"
  }
 },
 "nbformat": 4,
 "nbformat_minor": 5
}
