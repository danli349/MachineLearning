{
 "cells": [
  {
   "cell_type": "markdown",
   "id": "billion-climb",
   "metadata": {},
   "source": [
    "# Wolfram Client Library for Python"
   ]
  },
  {
   "cell_type": "code",
   "execution_count": 2,
   "id": "excited-grill",
   "metadata": {},
   "outputs": [
    {
     "name": "stdout",
     "output_type": "stream",
     "text": [
      "Name: wolframclient\n",
      "Version: 1.1.6\n",
      "Summary: A Python library with various tools to interact with the Wolfram Language and the Wolfram Cloud.\n",
      "Home-page: https://www.wolfram.com/\n",
      "Author: Wolfram Research\n",
      "Author-email: support@wolfram.com, dorianb@wolfram.com, riccardod@wolfram.com\n",
      "License: MIT\n",
      "Location: /home/dan/miniconda3/lib/python3.8/site-packages\n",
      "Requires: requests, pip, certifi, pyzmq, aiohttp, pytz, oauthlib, numpy\n",
      "Required-by: \n"
     ]
    }
   ],
   "source": [
    "!pip show wolframclient"
   ]
  },
  {
   "cell_type": "code",
   "execution_count": 4,
   "id": "novel-copper",
   "metadata": {},
   "outputs": [
    {
     "ename": "WolframKernelException",
     "evalue": "Kernel not found at /home/dan/miniconda3/lib/python3.8/site-packages/wolframclient.",
     "output_type": "error",
     "traceback": [
      "\u001b[0;31m---------------------------------------------------------------------------\u001b[0m",
      "\u001b[0;31mWolframKernelException\u001b[0m                    Traceback (most recent call last)",
      "\u001b[0;32m<ipython-input-4-6d264d6517aa>\u001b[0m in \u001b[0;36m<module>\u001b[0;34m\u001b[0m\n\u001b[1;32m      1\u001b[0m \u001b[0;32mfrom\u001b[0m \u001b[0mwolframclient\u001b[0m\u001b[0;34m.\u001b[0m\u001b[0mevaluation\u001b[0m \u001b[0;32mimport\u001b[0m \u001b[0mWolframLanguageSession\u001b[0m\u001b[0;34m\u001b[0m\u001b[0;34m\u001b[0m\u001b[0m\n\u001b[1;32m      2\u001b[0m \u001b[0;32mfrom\u001b[0m \u001b[0mwolframclient\u001b[0m\u001b[0;34m.\u001b[0m\u001b[0mlanguage\u001b[0m \u001b[0;32mimport\u001b[0m \u001b[0mwl\u001b[0m\u001b[0;34m,\u001b[0m \u001b[0mwlexpr\u001b[0m\u001b[0;34m\u001b[0m\u001b[0;34m\u001b[0m\u001b[0m\n\u001b[0;32m----> 3\u001b[0;31m \u001b[0msession\u001b[0m \u001b[0;34m=\u001b[0m \u001b[0mWolframLanguageSession\u001b[0m\u001b[0;34m(\u001b[0m\u001b[0;34m\"/home/dan/miniconda3/lib/python3.8/site-packages/wolframclient\"\u001b[0m\u001b[0;34m)\u001b[0m\u001b[0;34m\u001b[0m\u001b[0;34m\u001b[0m\u001b[0m\n\u001b[0m",
      "\u001b[0;32m~/miniconda3/lib/python3.8/site-packages/wolframclient/evaluation/kernel/localsession.py\u001b[0m in \u001b[0;36m__init__\u001b[0;34m(self, kernel, consumer, initfile, kernel_loglevel, stdin, stdout, stderr, inputform_string_evaluation, wxf_bytes_evaluation, controller_class, **kwargs)\u001b[0m\n\u001b[1;32m    110\u001b[0m         \u001b[0mself\u001b[0m\u001b[0;34m.\u001b[0m\u001b[0mwxf_bytes_evaluation\u001b[0m \u001b[0;34m=\u001b[0m \u001b[0mwxf_bytes_evaluation\u001b[0m\u001b[0;34m\u001b[0m\u001b[0;34m\u001b[0m\u001b[0m\n\u001b[1;32m    111\u001b[0m         \u001b[0mself\u001b[0m\u001b[0;34m.\u001b[0m\u001b[0mcontroller_class\u001b[0m \u001b[0;34m=\u001b[0m \u001b[0mcontroller_class\u001b[0m\u001b[0;34m\u001b[0m\u001b[0;34m\u001b[0m\u001b[0m\n\u001b[0;32m--> 112\u001b[0;31m         self.kernel_controller = self.controller_class(\n\u001b[0m\u001b[1;32m    113\u001b[0m             \u001b[0mkernel\u001b[0m\u001b[0;34m=\u001b[0m\u001b[0mkernel\u001b[0m\u001b[0;34m,\u001b[0m\u001b[0;34m\u001b[0m\u001b[0;34m\u001b[0m\u001b[0m\n\u001b[1;32m    114\u001b[0m             \u001b[0minitfile\u001b[0m\u001b[0;34m=\u001b[0m\u001b[0minitfile\u001b[0m\u001b[0;34m,\u001b[0m\u001b[0;34m\u001b[0m\u001b[0;34m\u001b[0m\u001b[0m\n",
      "\u001b[0;32m~/miniconda3/lib/python3.8/site-packages/wolframclient/evaluation/kernel/kernelcontroller.py\u001b[0m in \u001b[0;36m__init__\u001b[0;34m(self, kernel, initfile, consumer, kernel_loglevel, stdin, stdout, stderr, **kwargs)\u001b[0m\n\u001b[1;32m    121\u001b[0m \u001b[0;34m\u001b[0m\u001b[0m\n\u001b[1;32m    122\u001b[0m             \u001b[0;32mif\u001b[0m \u001b[0;32mnot\u001b[0m \u001b[0mos\u001b[0m\u001b[0;34m.\u001b[0m\u001b[0misfile\u001b[0m\u001b[0;34m(\u001b[0m\u001b[0mself\u001b[0m\u001b[0;34m.\u001b[0m\u001b[0mkernel\u001b[0m\u001b[0;34m)\u001b[0m\u001b[0;34m:\u001b[0m\u001b[0;34m\u001b[0m\u001b[0;34m\u001b[0m\u001b[0m\n\u001b[0;32m--> 123\u001b[0;31m                 \u001b[0;32mraise\u001b[0m \u001b[0mWolframKernelException\u001b[0m\u001b[0;34m(\u001b[0m\u001b[0;34m\"Kernel not found at %s.\"\u001b[0m \u001b[0;34m%\u001b[0m \u001b[0mself\u001b[0m\u001b[0;34m.\u001b[0m\u001b[0mkernel\u001b[0m\u001b[0;34m)\u001b[0m\u001b[0;34m\u001b[0m\u001b[0;34m\u001b[0m\u001b[0m\n\u001b[0m\u001b[1;32m    124\u001b[0m \u001b[0;34m\u001b[0m\u001b[0m\n\u001b[1;32m    125\u001b[0m             \u001b[0;32mif\u001b[0m \u001b[0;32mnot\u001b[0m \u001b[0mos\u001b[0m\u001b[0;34m.\u001b[0m\u001b[0maccess\u001b[0m\u001b[0;34m(\u001b[0m\u001b[0mself\u001b[0m\u001b[0;34m.\u001b[0m\u001b[0mkernel\u001b[0m\u001b[0;34m,\u001b[0m \u001b[0mos\u001b[0m\u001b[0;34m.\u001b[0m\u001b[0mX_OK\u001b[0m\u001b[0;34m)\u001b[0m\u001b[0;34m:\u001b[0m\u001b[0;34m\u001b[0m\u001b[0;34m\u001b[0m\u001b[0m\n",
      "\u001b[0;31mWolframKernelException\u001b[0m: Kernel not found at /home/dan/miniconda3/lib/python3.8/site-packages/wolframclient."
     ]
    }
   ],
   "source": [
    "from wolframclient.evaluation import WolframLanguageSession\n",
    "from wolframclient.language import wl, wlexpr\n",
    "session = WolframLanguageSession(\"/home/dan/miniconda3/lib/python3.8/site-packages/wolframclient\")"
   ]
  },
  {
   "cell_type": "code",
   "execution_count": null,
   "id": "palestinian-combat",
   "metadata": {},
   "outputs": [],
   "source": []
  }
 ],
 "metadata": {
  "kernelspec": {
   "display_name": "Python 3",
   "language": "python",
   "name": "python3"
  },
  "language_info": {
   "codemirror_mode": {
    "name": "ipython",
    "version": 3
   },
   "file_extension": ".py",
   "mimetype": "text/x-python",
   "name": "python",
   "nbconvert_exporter": "python",
   "pygments_lexer": "ipython3",
   "version": "3.8.5"
  }
 },
 "nbformat": 4,
 "nbformat_minor": 5
}
