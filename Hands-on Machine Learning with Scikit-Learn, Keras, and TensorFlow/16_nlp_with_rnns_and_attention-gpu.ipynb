{
 "cells": [
  {
   "cell_type": "markdown",
   "metadata": {},
   "source": [
    "# Chapter 16 – Natural Language Processing with RNNs and Attention**"
   ]
  },
  {
   "cell_type": "markdown",
   "metadata": {},
   "source": [
    "_This notebook contains all the sample code in chapter 16._"
   ]
  },
  {
   "cell_type": "markdown",
   "metadata": {},
   "source": [
    "<table align=\"left\">\n",
    "  <td>\n",
    "    <a href=\"https://colab.research.google.com/github/ageron/handson-ml2/blob/master/16_nlp_with_rnns_and_attention.ipynb\" target=\"_parent\"><img src=\"https://colab.research.google.com/assets/colab-badge.svg\" alt=\"Open In Colab\"/></a>\n",
    "  </td>\n",
    "  <td>\n",
    "    <a target=\"_blank\" href=\"https://kaggle.com/kernels/welcome?src=https://github.com/ageron/handson-ml2/blob/master/16_nlp_with_rnns_and_attention.ipynb\"><img src=\"https://kaggle.com/static/images/open-in-kaggle.svg\" /></a>\n",
    "  </td>\n",
    "</table>"
   ]
  },
  {
   "cell_type": "markdown",
   "metadata": {},
   "source": [
    "# Setup"
   ]
  },
  {
   "cell_type": "markdown",
   "metadata": {},
   "source": [
    "First, let's import a few common modules, ensure MatplotLib plots figures inline and prepare a function to save the figures. We also check that Python 3.5 or later is installed (although Python 2.x may work, it is deprecated so we strongly recommend you use Python 3 instead), as well as Scikit-Learn ≥0.20 and TensorFlow ≥2.0."
   ]
  },
  {
   "cell_type": "code",
   "execution_count": 1,
   "metadata": {
    "execution": {
     "iopub.execute_input": "2022-05-06T23:02:28.578905Z",
     "iopub.status.busy": "2022-05-06T23:02:28.578293Z",
     "iopub.status.idle": "2022-05-06T23:02:59.831983Z",
     "shell.execute_reply": "2022-05-06T23:02:59.830864Z"
    }
   },
   "outputs": [],
   "source": [
    "# Python ≥3.5 is required\n",
    "import sys\n",
    "assert sys.version_info >= (3, 5)\n",
    "\n",
    "# Is this notebook running on Colab or Kaggle?\n",
    "IS_COLAB = \"google.colab\" in sys.modules\n",
    "IS_KAGGLE = \"kaggle_secrets\" in sys.modules\n",
    "\n",
    "if IS_COLAB:\n",
    "    %pip install -q -U tensorflow-addons\n",
    "    %pip install -q -U transformers\n",
    "\n",
    "# Scikit-Learn ≥0.20 is required\n",
    "import sklearn\n",
    "assert sklearn.__version__ >= \"0.20\"\n",
    "\n",
    "# TensorFlow ≥2.0 is required\n",
    "import tensorflow as tf\n",
    "from tensorflow import keras\n",
    "assert tf.__version__ >= \"2.0\"\n",
    "\n",
    "if not tf.config.list_physical_devices('GPU'):\n",
    "    print(\"No GPU was detected. LSTMs and CNNs can be very slow without a GPU.\")\n",
    "    if IS_COLAB:\n",
    "        print(\"Go to Runtime > Change runtime and select a GPU hardware accelerator.\")\n",
    "    if IS_KAGGLE:\n",
    "        print(\"Go to Settings > Accelerator and select GPU.\")\n",
    "\n",
    "# Common imports\n",
    "import numpy as np\n",
    "import os\n",
    "\n",
    "# to make this notebook's output stable across runs\n",
    "np.random.seed(42)\n",
    "tf.random.set_seed(42)\n",
    "\n",
    "# To plot pretty figures\n",
    "%matplotlib inline\n",
    "import matplotlib as mpl\n",
    "import matplotlib.pyplot as plt\n",
    "mpl.rc('axes', labelsize=14)\n",
    "mpl.rc('xtick', labelsize=12)\n",
    "mpl.rc('ytick', labelsize=12)\n",
    "\n",
    "# Where to save the figures\n",
    "PROJECT_ROOT_DIR = \".\"\n",
    "CHAPTER_ID = \"nlp\"\n",
    "IMAGES_PATH = os.path.join(PROJECT_ROOT_DIR, \"images\", CHAPTER_ID)\n",
    "os.makedirs(IMAGES_PATH, exist_ok=True)\n",
    "\n",
    "def save_fig(fig_id, tight_layout=True, fig_extension=\"png\", resolution=300):\n",
    "    path = os.path.join(IMAGES_PATH, fig_id + \".\" + fig_extension)\n",
    "    print(\"Saving figure\", fig_id)\n",
    "    if tight_layout:\n",
    "        plt.tight_layout()\n",
    "    plt.savefig(path, format=fig_extension, dpi=resolution)"
   ]
  },
  {
   "cell_type": "markdown",
   "metadata": {},
   "source": [
    "# Char-RNN"
   ]
  },
  {
   "cell_type": "markdown",
   "metadata": {},
   "source": [
    "## Splitting a sequence into batches of shuffled windows"
   ]
  },
  {
   "cell_type": "markdown",
   "metadata": {},
   "source": [
    "For example, let's split the sequence 0 to 14 into windows of length 5, each shifted by 2 (e.g.,`[0, 1, 2, 3, 4]`, `[2, 3, 4, 5, 6]`, etc.), then shuffle them, and split them into inputs (the first 4 steps) and targets (the last 4 steps) (e.g., `[2, 3, 4, 5, 6]` would be split into `[[2, 3, 4, 5], [3, 4, 5, 6]]`), then create batches of 3 such input/target pairs:"
   ]
  },
  {
   "cell_type": "code",
   "execution_count": 2,
   "metadata": {
    "execution": {
     "iopub.execute_input": "2022-05-06T23:02:59.837710Z",
     "iopub.status.busy": "2022-05-06T23:02:59.837392Z",
     "iopub.status.idle": "2022-05-06T23:03:01.805630Z",
     "shell.execute_reply": "2022-05-06T23:03:01.804972Z"
    },
    "scrolled": true
   },
   "outputs": [
    {
     "name": "stdout",
     "output_type": "stream",
     "text": [
      "____________________ Batch 0 \n",
      "X_batch\n",
      "[[6 7 8 9]\n",
      " [2 3 4 5]\n",
      " [4 5 6 7]]\n",
      "===== \n",
      "Y_batch\n",
      "[[ 7  8  9 10]\n",
      " [ 3  4  5  6]\n",
      " [ 5  6  7  8]]\n",
      "____________________ Batch 1 \n",
      "X_batch\n",
      "[[ 0  1  2  3]\n",
      " [ 8  9 10 11]\n",
      " [10 11 12 13]]\n",
      "===== \n",
      "Y_batch\n",
      "[[ 1  2  3  4]\n",
      " [ 9 10 11 12]\n",
      " [11 12 13 14]]\n"
     ]
    },
    {
     "name": "stderr",
     "output_type": "stream",
     "text": [
      "2022-05-06 19:02:59.842783: I tensorflow/core/platform/cpu_feature_guard.cc:151] This TensorFlow binary is optimized with oneAPI Deep Neural Network Library (oneDNN) to use the following CPU instructions in performance-critical operations:  AVX2 FMA\n",
      "To enable them in other operations, rebuild TensorFlow with the appropriate compiler flags.\n",
      "2022-05-06 19:03:01.421757: I tensorflow/core/common_runtime/gpu/gpu_device.cc:1525] Created device /job:localhost/replica:0/task:0/device:GPU:0 with 10413 MB memory:  -> device: 0, name: NVIDIA GeForce GTX 1080 Ti, pci bus id: 0000:83:00.0, compute capability: 6.1\n",
      "2022-05-06 19:03:01.424889: I tensorflow/core/common_runtime/gpu/gpu_device.cc:1525] Created device /job:localhost/replica:0/task:0/device:GPU:1 with 10413 MB memory:  -> device: 1, name: NVIDIA GeForce GTX 1080 Ti, pci bus id: 0000:84:00.0, compute capability: 6.1\n"
     ]
    }
   ],
   "source": [
    "np.random.seed(42)\n",
    "tf.random.set_seed(42)\n",
    "\n",
    "n_steps = 5\n",
    "dataset = tf.data.Dataset.from_tensor_slices(tf.range(15))\n",
    "dataset = dataset.window(n_steps, shift=2, drop_remainder=True)\n",
    "dataset = dataset.flat_map(lambda window: window.batch(n_steps))\n",
    "dataset = dataset.shuffle(10).map(lambda window: (window[:-1], window[1:]))\n",
    "dataset = dataset.batch(3).prefetch(1)\n",
    "for index, (X_batch, Y_batch) in enumerate(dataset):\n",
    "    print(\"_\" * 20, \"Batch\", index, \"\\nX_batch\")\n",
    "    print(X_batch.numpy())\n",
    "    print(\"=\" * 5, \"\\nY_batch\")\n",
    "    print(Y_batch.numpy())"
   ]
  },
  {
   "cell_type": "markdown",
   "metadata": {},
   "source": [
    "## Loading the Data and Preparing the Dataset"
   ]
  },
  {
   "cell_type": "code",
   "execution_count": 3,
   "metadata": {
    "execution": {
     "iopub.execute_input": "2022-05-06T23:03:01.815411Z",
     "iopub.status.busy": "2022-05-06T23:03:01.815129Z",
     "iopub.status.idle": "2022-05-06T23:03:01.845138Z",
     "shell.execute_reply": "2022-05-06T23:03:01.844348Z"
    }
   },
   "outputs": [],
   "source": [
    "shakespeare_url = \"https://raw.githubusercontent.com/karpathy/char-rnn/master/data/tinyshakespeare/input.txt\"\n",
    "filepath = keras.utils.get_file(\"shakespeare.txt\", shakespeare_url)\n",
    "with open(filepath) as f:\n",
    "    shakespeare_text = f.read()"
   ]
  },
  {
   "cell_type": "code",
   "execution_count": 4,
   "metadata": {
    "execution": {
     "iopub.execute_input": "2022-05-06T23:03:01.848815Z",
     "iopub.status.busy": "2022-05-06T23:03:01.848524Z",
     "iopub.status.idle": "2022-05-06T23:03:01.853553Z",
     "shell.execute_reply": "2022-05-06T23:03:01.852705Z"
    }
   },
   "outputs": [
    {
     "name": "stdout",
     "output_type": "stream",
     "text": [
      "First Citizen:\n",
      "Before we proceed any further, hear me speak.\n",
      "\n",
      "All:\n",
      "Speak, speak.\n",
      "\n",
      "First Citizen:\n",
      "You are all resolved rather to die than to famish?\n",
      "\n"
     ]
    }
   ],
   "source": [
    "print(shakespeare_text[:148])"
   ]
  },
  {
   "cell_type": "code",
   "execution_count": 5,
   "metadata": {
    "execution": {
     "iopub.execute_input": "2022-05-06T23:03:01.857012Z",
     "iopub.status.busy": "2022-05-06T23:03:01.856767Z",
     "iopub.status.idle": "2022-05-06T23:03:01.881446Z",
     "shell.execute_reply": "2022-05-06T23:03:01.880758Z"
    }
   },
   "outputs": [
    {
     "data": {
      "text/plain": [
       "\"\\n !$&',-.3:;?abcdefghijklmnopqrstuvwxyz\""
      ]
     },
     "execution_count": 5,
     "metadata": {},
     "output_type": "execute_result"
    }
   ],
   "source": [
    "\"\".join(sorted(set(shakespeare_text.lower())))"
   ]
  },
  {
   "cell_type": "code",
   "execution_count": 6,
   "metadata": {
    "execution": {
     "iopub.execute_input": "2022-05-06T23:03:01.884463Z",
     "iopub.status.busy": "2022-05-06T23:03:01.884175Z",
     "iopub.status.idle": "2022-05-06T23:03:02.995424Z",
     "shell.execute_reply": "2022-05-06T23:03:02.994141Z"
    }
   },
   "outputs": [],
   "source": [
    "tokenizer = keras.preprocessing.text.Tokenizer(char_level=True)\n",
    "tokenizer.fit_on_texts(shakespeare_text)"
   ]
  },
  {
   "cell_type": "code",
   "execution_count": 7,
   "metadata": {
    "execution": {
     "iopub.execute_input": "2022-05-06T23:03:03.000364Z",
     "iopub.status.busy": "2022-05-06T23:03:03.000111Z",
     "iopub.status.idle": "2022-05-06T23:03:03.007691Z",
     "shell.execute_reply": "2022-05-06T23:03:03.006644Z"
    }
   },
   "outputs": [
    {
     "data": {
      "text/plain": [
       "[[20, 6, 9, 8, 3]]"
      ]
     },
     "execution_count": 7,
     "metadata": {},
     "output_type": "execute_result"
    }
   ],
   "source": [
    "tokenizer.texts_to_sequences([\"First\"])"
   ]
  },
  {
   "cell_type": "code",
   "execution_count": 8,
   "metadata": {
    "execution": {
     "iopub.execute_input": "2022-05-06T23:03:03.011364Z",
     "iopub.status.busy": "2022-05-06T23:03:03.010974Z",
     "iopub.status.idle": "2022-05-06T23:03:03.018360Z",
     "shell.execute_reply": "2022-05-06T23:03:03.017351Z"
    }
   },
   "outputs": [
    {
     "data": {
      "text/plain": [
       "['f i r s t']"
      ]
     },
     "execution_count": 8,
     "metadata": {},
     "output_type": "execute_result"
    }
   ],
   "source": [
    "tokenizer.sequences_to_texts([[20, 6, 9, 8, 3]])"
   ]
  },
  {
   "cell_type": "code",
   "execution_count": 9,
   "metadata": {
    "execution": {
     "iopub.execute_input": "2022-05-06T23:03:03.021819Z",
     "iopub.status.busy": "2022-05-06T23:03:03.021459Z",
     "iopub.status.idle": "2022-05-06T23:03:03.026417Z",
     "shell.execute_reply": "2022-05-06T23:03:03.025495Z"
    }
   },
   "outputs": [],
   "source": [
    "max_id = len(tokenizer.word_index) # number of distinct characters\n",
    "dataset_size = tokenizer.document_count # total number of characters"
   ]
  },
  {
   "cell_type": "code",
   "execution_count": 10,
   "metadata": {
    "execution": {
     "iopub.execute_input": "2022-05-06T23:03:03.029647Z",
     "iopub.status.busy": "2022-05-06T23:03:03.029294Z",
     "iopub.status.idle": "2022-05-06T23:03:03.364192Z",
     "shell.execute_reply": "2022-05-06T23:03:03.363394Z"
    }
   },
   "outputs": [],
   "source": [
    "[encoded] = np.array(tokenizer.texts_to_sequences([shakespeare_text])) - 1\n",
    "train_size = dataset_size * 90 // 100\n",
    "dataset = tf.data.Dataset.from_tensor_slices(encoded[:train_size])"
   ]
  },
  {
   "cell_type": "markdown",
   "metadata": {},
   "source": [
    "**Note**: in previous versions of this code, we used `dataset.repeat()` now to make the dataset \"infinite\", and later in the notebook we set the `steps_per_epoch` argument when calling the `model.fit()` method. This was needed to work around some TensorFlow bugs. However, since these bugs have now been fixed, we can simplify the code: no need for `dataset.repeat()` or `steps_per_epoch` anymore."
   ]
  },
  {
   "cell_type": "code",
   "execution_count": 11,
   "metadata": {
    "execution": {
     "iopub.execute_input": "2022-05-06T23:03:03.368011Z",
     "iopub.status.busy": "2022-05-06T23:03:03.367773Z",
     "iopub.status.idle": "2022-05-06T23:03:03.372931Z",
     "shell.execute_reply": "2022-05-06T23:03:03.372241Z"
    }
   },
   "outputs": [],
   "source": [
    "n_steps = 100\n",
    "window_length = n_steps + 1 # target = input shifted 1 character ahead\n",
    "dataset = dataset.window(window_length, shift=1, drop_remainder=True)"
   ]
  },
  {
   "cell_type": "code",
   "execution_count": 12,
   "metadata": {
    "execution": {
     "iopub.execute_input": "2022-05-06T23:03:03.377627Z",
     "iopub.status.busy": "2022-05-06T23:03:03.377384Z",
     "iopub.status.idle": "2022-05-06T23:03:03.404996Z",
     "shell.execute_reply": "2022-05-06T23:03:03.404159Z"
    }
   },
   "outputs": [],
   "source": [
    "dataset = dataset.flat_map(lambda window: window.batch(window_length))"
   ]
  },
  {
   "cell_type": "code",
   "execution_count": 13,
   "metadata": {
    "execution": {
     "iopub.execute_input": "2022-05-06T23:03:03.409367Z",
     "iopub.status.busy": "2022-05-06T23:03:03.409088Z",
     "iopub.status.idle": "2022-05-06T23:03:03.413204Z",
     "shell.execute_reply": "2022-05-06T23:03:03.412559Z"
    }
   },
   "outputs": [],
   "source": [
    "np.random.seed(42)\n",
    "tf.random.set_seed(42)"
   ]
  },
  {
   "cell_type": "code",
   "execution_count": 14,
   "metadata": {
    "execution": {
     "iopub.execute_input": "2022-05-06T23:03:03.416961Z",
     "iopub.status.busy": "2022-05-06T23:03:03.416729Z",
     "iopub.status.idle": "2022-05-06T23:03:03.449751Z",
     "shell.execute_reply": "2022-05-06T23:03:03.448928Z"
    }
   },
   "outputs": [],
   "source": [
    "batch_size = 32\n",
    "dataset = dataset.shuffle(10000).batch(batch_size)\n",
    "dataset = dataset.map(lambda windows: (windows[:, :-1], windows[:, 1:]))"
   ]
  },
  {
   "cell_type": "code",
   "execution_count": 15,
   "metadata": {
    "execution": {
     "iopub.execute_input": "2022-05-06T23:03:03.453844Z",
     "iopub.status.busy": "2022-05-06T23:03:03.453605Z",
     "iopub.status.idle": "2022-05-06T23:03:03.482700Z",
     "shell.execute_reply": "2022-05-06T23:03:03.481872Z"
    }
   },
   "outputs": [],
   "source": [
    "dataset = dataset.map(\n",
    "    lambda X_batch, Y_batch: (tf.one_hot(X_batch, depth=max_id), Y_batch))"
   ]
  },
  {
   "cell_type": "code",
   "execution_count": 16,
   "metadata": {
    "execution": {
     "iopub.execute_input": "2022-05-06T23:03:03.487662Z",
     "iopub.status.busy": "2022-05-06T23:03:03.487400Z",
     "iopub.status.idle": "2022-05-06T23:03:03.491798Z",
     "shell.execute_reply": "2022-05-06T23:03:03.491125Z"
    }
   },
   "outputs": [],
   "source": [
    "dataset = dataset.prefetch(1)"
   ]
  },
  {
   "cell_type": "code",
   "execution_count": 17,
   "metadata": {
    "execution": {
     "iopub.execute_input": "2022-05-06T23:03:03.496715Z",
     "iopub.status.busy": "2022-05-06T23:03:03.496443Z",
     "iopub.status.idle": "2022-05-06T23:03:05.038675Z",
     "shell.execute_reply": "2022-05-06T23:03:05.037984Z"
    }
   },
   "outputs": [
    {
     "name": "stdout",
     "output_type": "stream",
     "text": [
      "(32, 100, 39) (32, 100)\n"
     ]
    }
   ],
   "source": [
    "for X_batch, Y_batch in dataset.take(1):\n",
    "    print(X_batch.shape, Y_batch.shape)"
   ]
  },
  {
   "cell_type": "markdown",
   "metadata": {},
   "source": [
    "## Creating and Training the Model"
   ]
  },
  {
   "cell_type": "markdown",
   "metadata": {},
   "source": [
    "**Warning**: the following code may take up to 24 hours to run, depending on your hardware. If you use a GPU, it may take just 1 or 2 hours, or less."
   ]
  },
  {
   "cell_type": "markdown",
   "metadata": {},
   "source": [
    "**Note**: the `GRU` class will only use the GPU (if you have one) when using the default values for the following arguments: `activation`, `recurrent_activation`, `recurrent_dropout`, `unroll`, `use_bias` and `reset_after`. This is why I commented out `recurrent_dropout=0.2` (compared to the book)."
   ]
  },
  {
   "cell_type": "code",
   "execution_count": 18,
   "metadata": {
    "execution": {
     "iopub.execute_input": "2022-05-06T23:03:05.041671Z",
     "iopub.status.busy": "2022-05-06T23:03:05.041457Z",
     "iopub.status.idle": "2022-05-06T23:53:05.307519Z",
     "shell.execute_reply": "2022-05-06T23:53:05.306873Z"
    }
   },
   "outputs": [
    {
     "name": "stdout",
     "output_type": "stream",
     "text": [
      "Epoch 1/10\n"
     ]
    },
    {
     "name": "stderr",
     "output_type": "stream",
     "text": [
      "2022-05-06 19:03:11.196634: I tensorflow/stream_executor/cuda/cuda_dnn.cc:366] Loaded cuDNN version 8100\n"
     ]
    },
    {
     "name": "stdout",
     "output_type": "stream",
     "text": [
      "31368/31368 [==============================] - 301s 9ms/step - loss: 1.6206\n",
      "Epoch 2/10\n",
      "31368/31368 [==============================] - 286s 9ms/step - loss: 1.5369\n",
      "Epoch 3/10\n",
      "31368/31368 [==============================] - 284s 9ms/step - loss: 1.5170\n",
      "Epoch 4/10\n",
      "31368/31368 [==============================] - 284s 9ms/step - loss: 1.5056\n",
      "Epoch 5/10\n",
      "31368/31368 [==============================] - 287s 9ms/step - loss: 1.4981\n",
      "Epoch 6/10\n",
      "31368/31368 [==============================] - 282s 9ms/step - loss: 1.4927\n",
      "Epoch 7/10\n",
      "31368/31368 [==============================] - 285s 9ms/step - loss: 1.4892\n",
      "Epoch 8/10\n",
      "31368/31368 [==============================] - 287s 9ms/step - loss: 1.4869\n",
      "Epoch 9/10\n",
      "31368/31368 [==============================] - 284s 9ms/step - loss: 1.4847\n",
      "Epoch 10/10\n",
      "31368/31368 [==============================] - 283s 9ms/step - loss: 1.4825\n"
     ]
    }
   ],
   "source": [
    "model = keras.models.Sequential([\n",
    "    keras.layers.GRU(128, return_sequences=True, input_shape=[None, max_id],\n",
    "                     #dropout=0.2, recurrent_dropout=0.2),\n",
    "                     dropout=0.2),\n",
    "    keras.layers.GRU(128, return_sequences=True,\n",
    "                     #dropout=0.2, recurrent_dropout=0.2),\n",
    "                     dropout=0.2),\n",
    "    keras.layers.TimeDistributed(keras.layers.Dense(max_id,\n",
    "                                                    activation=\"softmax\"))\n",
    "])\n",
    "model.compile(loss=\"sparse_categorical_crossentropy\", optimizer=\"adam\")\n",
    "history = model.fit(dataset, epochs=10)"
   ]
  },
  {
   "cell_type": "markdown",
   "metadata": {},
   "source": [
    "## Using the Model to Generate Text"
   ]
  },
  {
   "cell_type": "code",
   "execution_count": 19,
   "metadata": {
    "execution": {
     "iopub.execute_input": "2022-05-06T23:53:05.311682Z",
     "iopub.status.busy": "2022-05-06T23:53:05.311417Z",
     "iopub.status.idle": "2022-05-06T23:53:05.316168Z",
     "shell.execute_reply": "2022-05-06T23:53:05.315669Z"
    }
   },
   "outputs": [],
   "source": [
    "def preprocess(texts):\n",
    "    X = np.array(tokenizer.texts_to_sequences(texts)) - 1\n",
    "    return tf.one_hot(X, max_id)"
   ]
  },
  {
   "cell_type": "markdown",
   "metadata": {},
   "source": [
    "**Warning**: the `predict_classes()` method is deprecated. Instead, we must use `np.argmax(model(X_new), axis=-1)`."
   ]
  },
  {
   "cell_type": "code",
   "execution_count": 20,
   "metadata": {
    "execution": {
     "iopub.execute_input": "2022-05-06T23:53:05.318708Z",
     "iopub.status.busy": "2022-05-06T23:53:05.318496Z",
     "iopub.status.idle": "2022-05-06T23:53:05.336396Z",
     "shell.execute_reply": "2022-05-06T23:53:05.335796Z"
    }
   },
   "outputs": [
    {
     "data": {
      "text/plain": [
       "'u'"
      ]
     },
     "execution_count": 20,
     "metadata": {},
     "output_type": "execute_result"
    }
   ],
   "source": [
    "X_new = preprocess([\"How are yo\"])\n",
    "#Y_pred = model.predict_classes(X_new)\n",
    "Y_pred = np.argmax(model(X_new), axis=-1)\n",
    "tokenizer.sequences_to_texts(Y_pred + 1)[0][-1] # 1st sentence, last char"
   ]
  },
  {
   "cell_type": "code",
   "execution_count": 21,
   "metadata": {
    "execution": {
     "iopub.execute_input": "2022-05-06T23:53:05.339228Z",
     "iopub.status.busy": "2022-05-06T23:53:05.338762Z",
     "iopub.status.idle": "2022-05-06T23:53:05.356373Z",
     "shell.execute_reply": "2022-05-06T23:53:05.355839Z"
    }
   },
   "outputs": [
    {
     "data": {
      "text/plain": [
       "array([[0, 0, 1, 1, 1, 0, 0, 0, 0, 1, 0, 0, 0, 0, 0, 0, 0, 1, 1, 1, 0, 0,\n",
       "        2, 0, 0, 1, 1, 1, 0, 0, 1, 2, 0, 0, 1, 1, 0, 0, 0, 0]])"
      ]
     },
     "execution_count": 21,
     "metadata": {},
     "output_type": "execute_result"
    }
   ],
   "source": [
    "tf.random.set_seed(42)\n",
    "\n",
    "tf.random.categorical([[np.log(0.5), np.log(0.4), np.log(0.1)]], num_samples=40).numpy()"
   ]
  },
  {
   "cell_type": "code",
   "execution_count": 22,
   "metadata": {
    "execution": {
     "iopub.execute_input": "2022-05-06T23:53:05.358960Z",
     "iopub.status.busy": "2022-05-06T23:53:05.358604Z",
     "iopub.status.idle": "2022-05-06T23:53:05.362543Z",
     "shell.execute_reply": "2022-05-06T23:53:05.361996Z"
    }
   },
   "outputs": [],
   "source": [
    "def next_char(text, temperature=1):\n",
    "    X_new = preprocess([text])\n",
    "    y_proba = model(X_new)[0, -1:, :]\n",
    "    rescaled_logits = tf.math.log(y_proba) / temperature\n",
    "    char_id = tf.random.categorical(rescaled_logits, num_samples=1) + 1\n",
    "    return tokenizer.sequences_to_texts(char_id.numpy())[0]"
   ]
  },
  {
   "cell_type": "code",
   "execution_count": 23,
   "metadata": {
    "execution": {
     "iopub.execute_input": "2022-05-06T23:53:05.364853Z",
     "iopub.status.busy": "2022-05-06T23:53:05.364652Z",
     "iopub.status.idle": "2022-05-06T23:53:05.380204Z",
     "shell.execute_reply": "2022-05-06T23:53:05.379708Z"
    }
   },
   "outputs": [
    {
     "data": {
      "text/plain": [
       "'u'"
      ]
     },
     "execution_count": 23,
     "metadata": {},
     "output_type": "execute_result"
    }
   ],
   "source": [
    "tf.random.set_seed(42)\n",
    "\n",
    "next_char(\"How are yo\", temperature=1)"
   ]
  },
  {
   "cell_type": "code",
   "execution_count": 24,
   "metadata": {
    "execution": {
     "iopub.execute_input": "2022-05-06T23:53:05.382573Z",
     "iopub.status.busy": "2022-05-06T23:53:05.382361Z",
     "iopub.status.idle": "2022-05-06T23:53:05.385644Z",
     "shell.execute_reply": "2022-05-06T23:53:05.385099Z"
    }
   },
   "outputs": [],
   "source": [
    "def complete_text(text, n_chars=50, temperature=1):\n",
    "    for _ in range(n_chars):\n",
    "        text += next_char(text, temperature)\n",
    "    return text"
   ]
  },
  {
   "cell_type": "code",
   "execution_count": 25,
   "metadata": {
    "execution": {
     "iopub.execute_input": "2022-05-06T23:53:05.387911Z",
     "iopub.status.busy": "2022-05-06T23:53:05.387710Z",
     "iopub.status.idle": "2022-05-06T23:53:05.911879Z",
     "shell.execute_reply": "2022-05-06T23:53:05.911296Z"
    }
   },
   "outputs": [
    {
     "name": "stdout",
     "output_type": "stream",
     "text": [
      "the matter that she shall be so my father is a scol\n"
     ]
    }
   ],
   "source": [
    "tf.random.set_seed(42)\n",
    "\n",
    "print(complete_text(\"t\", temperature=0.2))"
   ]
  },
  {
   "cell_type": "code",
   "execution_count": 26,
   "metadata": {
    "execution": {
     "iopub.execute_input": "2022-05-06T23:53:05.914811Z",
     "iopub.status.busy": "2022-05-06T23:53:05.914567Z",
     "iopub.status.idle": "2022-05-06T23:53:06.391820Z",
     "shell.execute_reply": "2022-05-06T23:53:06.391266Z"
    }
   },
   "outputs": [
    {
     "name": "stdout",
     "output_type": "stream",
     "text": [
      "toke of advice: i probate\n",
      "shall have thee in resolv\n"
     ]
    }
   ],
   "source": [
    "print(complete_text(\"t\", temperature=1))"
   ]
  },
  {
   "cell_type": "code",
   "execution_count": 27,
   "metadata": {
    "execution": {
     "iopub.execute_input": "2022-05-06T23:53:06.394749Z",
     "iopub.status.busy": "2022-05-06T23:53:06.394552Z",
     "iopub.status.idle": "2022-05-06T23:53:06.867685Z",
     "shell.execute_reply": "2022-05-06T23:53:06.866980Z"
    }
   },
   "outputs": [
    {
     "name": "stdout",
     "output_type": "stream",
     "text": [
      "tpeniomevely!\n",
      "well more: yelreval! dear. rumi-faeem\n"
     ]
    }
   ],
   "source": [
    "print(complete_text(\"t\", temperature=2))"
   ]
  },
  {
   "cell_type": "markdown",
   "metadata": {},
   "source": [
    "## Stateful RNN"
   ]
  },
  {
   "cell_type": "code",
   "execution_count": 28,
   "metadata": {
    "execution": {
     "iopub.execute_input": "2022-05-06T23:53:06.870778Z",
     "iopub.status.busy": "2022-05-06T23:53:06.870459Z",
     "iopub.status.idle": "2022-05-06T23:53:06.875038Z",
     "shell.execute_reply": "2022-05-06T23:53:06.874435Z"
    }
   },
   "outputs": [],
   "source": [
    "tf.random.set_seed(42)"
   ]
  },
  {
   "cell_type": "code",
   "execution_count": 29,
   "metadata": {
    "execution": {
     "iopub.execute_input": "2022-05-06T23:53:06.877703Z",
     "iopub.status.busy": "2022-05-06T23:53:06.877412Z",
     "iopub.status.idle": "2022-05-06T23:53:06.952488Z",
     "shell.execute_reply": "2022-05-06T23:53:06.951603Z"
    }
   },
   "outputs": [],
   "source": [
    "dataset = tf.data.Dataset.from_tensor_slices(encoded[:train_size])\n",
    "dataset = dataset.window(window_length, shift=n_steps, drop_remainder=True)\n",
    "dataset = dataset.flat_map(lambda window: window.batch(window_length))\n",
    "dataset = dataset.batch(1)\n",
    "dataset = dataset.map(lambda windows: (windows[:, :-1], windows[:, 1:]))\n",
    "dataset = dataset.map(\n",
    "    lambda X_batch, Y_batch: (tf.one_hot(X_batch, depth=max_id), Y_batch))\n",
    "dataset = dataset.prefetch(1)"
   ]
  },
  {
   "cell_type": "code",
   "execution_count": 30,
   "metadata": {
    "execution": {
     "iopub.execute_input": "2022-05-06T23:53:06.956227Z",
     "iopub.status.busy": "2022-05-06T23:53:06.955706Z",
     "iopub.status.idle": "2022-05-06T23:53:07.280676Z",
     "shell.execute_reply": "2022-05-06T23:53:07.279782Z"
    }
   },
   "outputs": [],
   "source": [
    "batch_size = 32\n",
    "encoded_parts = np.array_split(encoded[:train_size], batch_size)\n",
    "datasets = []\n",
    "for encoded_part in encoded_parts:\n",
    "    dataset = tf.data.Dataset.from_tensor_slices(encoded_part)\n",
    "    dataset = dataset.window(window_length, shift=n_steps, drop_remainder=True)\n",
    "    dataset = dataset.flat_map(lambda window: window.batch(window_length))\n",
    "    datasets.append(dataset)\n",
    "dataset = tf.data.Dataset.zip(tuple(datasets)).map(lambda *windows: tf.stack(windows))\n",
    "dataset = dataset.map(lambda windows: (windows[:, :-1], windows[:, 1:]))\n",
    "dataset = dataset.map(\n",
    "    lambda X_batch, Y_batch: (tf.one_hot(X_batch, depth=max_id), Y_batch))\n",
    "dataset = dataset.prefetch(1)"
   ]
  },
  {
   "cell_type": "markdown",
   "metadata": {},
   "source": [
    "**Note**: once again, I commented out `recurrent_dropout=0.2` (compared to the book) so you can get GPU acceleration (if you have one)."
   ]
  },
  {
   "cell_type": "code",
   "execution_count": 31,
   "metadata": {
    "execution": {
     "iopub.execute_input": "2022-05-06T23:53:07.285997Z",
     "iopub.status.busy": "2022-05-06T23:53:07.285802Z",
     "iopub.status.idle": "2022-05-06T23:53:07.698268Z",
     "shell.execute_reply": "2022-05-06T23:53:07.697422Z"
    }
   },
   "outputs": [],
   "source": [
    "model = keras.models.Sequential([\n",
    "    keras.layers.GRU(128, return_sequences=True, stateful=True,\n",
    "                     #dropout=0.2, recurrent_dropout=0.2,\n",
    "                     dropout=0.2,\n",
    "                     batch_input_shape=[batch_size, None, max_id]),\n",
    "    keras.layers.GRU(128, return_sequences=True, stateful=True,\n",
    "                     #dropout=0.2, recurrent_dropout=0.2),\n",
    "                     dropout=0.2),\n",
    "    keras.layers.TimeDistributed(keras.layers.Dense(max_id,\n",
    "                                                    activation=\"softmax\"))\n",
    "])"
   ]
  },
  {
   "cell_type": "code",
   "execution_count": 32,
   "metadata": {
    "execution": {
     "iopub.execute_input": "2022-05-06T23:53:07.702935Z",
     "iopub.status.busy": "2022-05-06T23:53:07.702725Z",
     "iopub.status.idle": "2022-05-06T23:53:07.708177Z",
     "shell.execute_reply": "2022-05-06T23:53:07.707221Z"
    }
   },
   "outputs": [],
   "source": [
    "class ResetStatesCallback(keras.callbacks.Callback):\n",
    "    def on_epoch_begin(self, epoch, logs):\n",
    "        self.model.reset_states()"
   ]
  },
  {
   "cell_type": "code",
   "execution_count": 33,
   "metadata": {
    "execution": {
     "iopub.execute_input": "2022-05-06T23:53:07.711590Z",
     "iopub.status.busy": "2022-05-06T23:53:07.710926Z",
     "iopub.status.idle": "2022-05-06T23:56:44.636661Z",
     "shell.execute_reply": "2022-05-06T23:56:44.635896Z"
    }
   },
   "outputs": [
    {
     "name": "stdout",
     "output_type": "stream",
     "text": [
      "Epoch 1/50\n",
      "313/313 [==============================] - 5s 10ms/step - loss: 2.6200\n",
      "Epoch 2/50\n",
      "313/313 [==============================] - 3s 10ms/step - loss: 2.2410\n",
      "Epoch 3/50\n",
      "313/313 [==============================] - 3s 10ms/step - loss: 2.1105\n",
      "Epoch 4/50\n",
      "313/313 [==============================] - 3s 10ms/step - loss: 2.0368\n",
      "Epoch 5/50\n",
      "313/313 [==============================] - 3s 10ms/step - loss: 1.9860\n",
      "Epoch 6/50\n",
      "313/313 [==============================] - 3s 10ms/step - loss: 1.9488\n",
      "Epoch 7/50\n",
      "313/313 [==============================] - 4s 11ms/step - loss: 1.9205\n",
      "Epoch 8/50\n",
      "313/313 [==============================] - 3s 11ms/step - loss: 1.8985\n",
      "Epoch 9/50\n",
      "313/313 [==============================] - 3s 11ms/step - loss: 1.8797\n",
      "Epoch 10/50\n",
      "313/313 [==============================] - 4s 12ms/step - loss: 1.8655\n",
      "Epoch 11/50\n",
      "313/313 [==============================] - 3s 11ms/step - loss: 1.8533\n",
      "Epoch 12/50\n",
      "313/313 [==============================] - 3s 11ms/step - loss: 1.8412\n",
      "Epoch 13/50\n",
      "313/313 [==============================] - 4s 11ms/step - loss: 1.8328\n",
      "Epoch 14/50\n",
      "313/313 [==============================] - 4s 11ms/step - loss: 1.8233\n",
      "Epoch 15/50\n",
      "313/313 [==============================] - 3s 11ms/step - loss: 1.8160\n",
      "Epoch 16/50\n",
      "313/313 [==============================] - 4s 11ms/step - loss: 1.8072\n",
      "Epoch 17/50\n",
      "313/313 [==============================] - 3s 11ms/step - loss: 1.8008\n",
      "Epoch 18/50\n",
      "313/313 [==============================] - 3s 11ms/step - loss: 1.7936\n",
      "Epoch 19/50\n",
      "313/313 [==============================] - 3s 11ms/step - loss: 1.7885\n",
      "Epoch 20/50\n",
      "313/313 [==============================] - 3s 11ms/step - loss: 1.7851\n",
      "Epoch 21/50\n",
      "313/313 [==============================] - 4s 13ms/step - loss: 1.7814\n",
      "Epoch 22/50\n",
      "313/313 [==============================] - 4s 13ms/step - loss: 1.7760\n",
      "Epoch 23/50\n",
      "313/313 [==============================] - 4s 12ms/step - loss: 1.7729\n",
      "Epoch 24/50\n",
      "313/313 [==============================] - 4s 12ms/step - loss: 1.7697\n",
      "Epoch 25/50\n",
      "313/313 [==============================] - 3s 10ms/step - loss: 1.7645\n",
      "Epoch 26/50\n",
      "313/313 [==============================] - 3s 11ms/step - loss: 1.7606\n",
      "Epoch 27/50\n",
      "313/313 [==============================] - 3s 11ms/step - loss: 1.7584\n",
      "Epoch 28/50\n",
      "313/313 [==============================] - 4s 11ms/step - loss: 1.7564\n",
      "Epoch 29/50\n",
      "313/313 [==============================] - 4s 11ms/step - loss: 1.7538\n",
      "Epoch 30/50\n",
      "313/313 [==============================] - 4s 12ms/step - loss: 1.7496\n",
      "Epoch 31/50\n",
      "313/313 [==============================] - 4s 12ms/step - loss: 1.7470\n",
      "Epoch 32/50\n",
      "313/313 [==============================] - 4s 12ms/step - loss: 1.7455\n",
      "Epoch 33/50\n",
      "313/313 [==============================] - 4s 13ms/step - loss: 1.7432\n",
      "Epoch 34/50\n",
      "313/313 [==============================] - 4s 12ms/step - loss: 1.7408\n",
      "Epoch 35/50\n",
      "313/313 [==============================] - 4s 12ms/step - loss: 1.7376\n",
      "Epoch 36/50\n",
      "313/313 [==============================] - 4s 12ms/step - loss: 1.7363\n",
      "Epoch 37/50\n",
      "313/313 [==============================] - 3s 10ms/step - loss: 1.7343\n",
      "Epoch 38/50\n",
      "313/313 [==============================] - 3s 10ms/step - loss: 1.7308\n",
      "Epoch 39/50\n",
      "313/313 [==============================] - 3s 10ms/step - loss: 1.7286\n",
      "Epoch 40/50\n",
      "313/313 [==============================] - 3s 10ms/step - loss: 1.7284\n",
      "Epoch 41/50\n",
      "313/313 [==============================] - 3s 11ms/step - loss: 1.7269\n",
      "Epoch 42/50\n",
      "313/313 [==============================] - 4s 11ms/step - loss: 1.7252\n",
      "Epoch 43/50\n",
      "313/313 [==============================] - 4s 11ms/step - loss: 1.7233\n",
      "Epoch 44/50\n",
      "313/313 [==============================] - 3s 11ms/step - loss: 1.7233\n",
      "Epoch 45/50\n",
      "313/313 [==============================] - 3s 11ms/step - loss: 1.7222\n",
      "Epoch 46/50\n",
      "313/313 [==============================] - 4s 11ms/step - loss: 1.7193\n",
      "Epoch 47/50\n",
      "313/313 [==============================] - 3s 11ms/step - loss: 1.7181\n",
      "Epoch 48/50\n",
      "313/313 [==============================] - 4s 12ms/step - loss: 1.7175\n",
      "Epoch 49/50\n",
      "313/313 [==============================] - 4s 12ms/step - loss: 1.7146\n",
      "Epoch 50/50\n",
      "313/313 [==============================] - 4s 12ms/step - loss: 1.7138\n"
     ]
    }
   ],
   "source": [
    "model.compile(loss=\"sparse_categorical_crossentropy\", optimizer=\"adam\")\n",
    "history = model.fit(dataset, epochs=50,\n",
    "                    callbacks=[ResetStatesCallback()])"
   ]
  },
  {
   "cell_type": "markdown",
   "metadata": {},
   "source": [
    "To use the model with different batch sizes, we need to create a stateless copy. We can get rid of dropout since it is only used during training:"
   ]
  },
  {
   "cell_type": "code",
   "execution_count": 34,
   "metadata": {
    "execution": {
     "iopub.execute_input": "2022-05-06T23:56:44.640565Z",
     "iopub.status.busy": "2022-05-06T23:56:44.640223Z",
     "iopub.status.idle": "2022-05-06T23:56:45.127728Z",
     "shell.execute_reply": "2022-05-06T23:56:45.126729Z"
    }
   },
   "outputs": [],
   "source": [
    "stateless_model = keras.models.Sequential([\n",
    "    keras.layers.GRU(128, return_sequences=True, input_shape=[None, max_id]),\n",
    "    keras.layers.GRU(128, return_sequences=True),\n",
    "    keras.layers.TimeDistributed(keras.layers.Dense(max_id,\n",
    "                                                    activation=\"softmax\"))\n",
    "])"
   ]
  },
  {
   "cell_type": "markdown",
   "metadata": {},
   "source": [
    "To set the weights, we first need to build the model (so the weights get created):"
   ]
  },
  {
   "cell_type": "code",
   "execution_count": 35,
   "metadata": {
    "execution": {
     "iopub.execute_input": "2022-05-06T23:56:45.132691Z",
     "iopub.status.busy": "2022-05-06T23:56:45.132360Z",
     "iopub.status.idle": "2022-05-06T23:56:45.138715Z",
     "shell.execute_reply": "2022-05-06T23:56:45.137784Z"
    }
   },
   "outputs": [],
   "source": [
    "stateless_model.build(tf.TensorShape([None, None, max_id]))"
   ]
  },
  {
   "cell_type": "code",
   "execution_count": 36,
   "metadata": {
    "execution": {
     "iopub.execute_input": "2022-05-06T23:56:45.143210Z",
     "iopub.status.busy": "2022-05-06T23:56:45.142874Z",
     "iopub.status.idle": "2022-05-06T23:56:45.154732Z",
     "shell.execute_reply": "2022-05-06T23:56:45.153635Z"
    }
   },
   "outputs": [],
   "source": [
    "stateless_model.set_weights(model.get_weights())\n",
    "model = stateless_model"
   ]
  },
  {
   "cell_type": "code",
   "execution_count": 37,
   "metadata": {
    "execution": {
     "iopub.execute_input": "2022-05-06T23:56:45.160232Z",
     "iopub.status.busy": "2022-05-06T23:56:45.159786Z",
     "iopub.status.idle": "2022-05-06T23:56:45.743966Z",
     "shell.execute_reply": "2022-05-06T23:56:45.743196Z"
    }
   },
   "outputs": [
    {
     "name": "stdout",
     "output_type": "stream",
     "text": [
      "thing idsumper your shint.\n",
      "why, he has go too stone\n"
     ]
    }
   ],
   "source": [
    "tf.random.set_seed(42)\n",
    "\n",
    "print(complete_text(\"t\"))"
   ]
  },
  {
   "cell_type": "markdown",
   "metadata": {},
   "source": [
    "# Sentiment Analysis"
   ]
  },
  {
   "cell_type": "code",
   "execution_count": 38,
   "metadata": {
    "execution": {
     "iopub.execute_input": "2022-05-06T23:56:45.747260Z",
     "iopub.status.busy": "2022-05-06T23:56:45.746939Z",
     "iopub.status.idle": "2022-05-06T23:56:45.752089Z",
     "shell.execute_reply": "2022-05-06T23:56:45.751233Z"
    }
   },
   "outputs": [],
   "source": [
    "tf.random.set_seed(42)"
   ]
  },
  {
   "cell_type": "markdown",
   "metadata": {},
   "source": [
    "You can load the IMDB dataset easily:"
   ]
  },
  {
   "cell_type": "code",
   "execution_count": 39,
   "metadata": {
    "execution": {
     "iopub.execute_input": "2022-05-06T23:56:45.755252Z",
     "iopub.status.busy": "2022-05-06T23:56:45.754923Z",
     "iopub.status.idle": "2022-05-06T23:56:50.654466Z",
     "shell.execute_reply": "2022-05-06T23:56:50.653726Z"
    }
   },
   "outputs": [],
   "source": [
    "(X_train, y_train), (X_test, y_test) = keras.datasets.imdb.load_data()"
   ]
  },
  {
   "cell_type": "code",
   "execution_count": 40,
   "metadata": {
    "execution": {
     "iopub.execute_input": "2022-05-06T23:56:50.657921Z",
     "iopub.status.busy": "2022-05-06T23:56:50.657714Z",
     "iopub.status.idle": "2022-05-06T23:56:50.663432Z",
     "shell.execute_reply": "2022-05-06T23:56:50.662780Z"
    }
   },
   "outputs": [
    {
     "data": {
      "text/plain": [
       "[1, 14, 22, 16, 43, 530, 973, 1622, 1385, 65]"
      ]
     },
     "execution_count": 40,
     "metadata": {},
     "output_type": "execute_result"
    }
   ],
   "source": [
    "X_train[0][:10]"
   ]
  },
  {
   "cell_type": "code",
   "execution_count": 41,
   "metadata": {
    "execution": {
     "iopub.execute_input": "2022-05-06T23:56:50.666153Z",
     "iopub.status.busy": "2022-05-06T23:56:50.665898Z",
     "iopub.status.idle": "2022-05-06T23:56:50.765344Z",
     "shell.execute_reply": "2022-05-06T23:56:50.764335Z"
    }
   },
   "outputs": [
    {
     "data": {
      "text/plain": [
       "'<sos> this film was just brilliant casting location scenery story'"
      ]
     },
     "execution_count": 41,
     "metadata": {},
     "output_type": "execute_result"
    }
   ],
   "source": [
    "word_index = keras.datasets.imdb.get_word_index()\n",
    "id_to_word = {id_ + 3: word for word, id_ in word_index.items()}\n",
    "for id_, token in enumerate((\"<pad>\", \"<sos>\", \"<unk>\")):\n",
    "    id_to_word[id_] = token\n",
    "\" \".join([id_to_word[id_] for id_ in X_train[0][:10]])"
   ]
  },
  {
   "cell_type": "code",
   "execution_count": 42,
   "metadata": {
    "execution": {
     "iopub.execute_input": "2022-05-06T23:56:50.768212Z",
     "iopub.status.busy": "2022-05-06T23:56:50.768023Z",
     "iopub.status.idle": "2022-05-06T23:56:54.206273Z",
     "shell.execute_reply": "2022-05-06T23:56:54.205196Z"
    }
   },
   "outputs": [],
   "source": [
    "import tensorflow_datasets as tfds\n",
    "\n",
    "datasets, info = tfds.load(\"imdb_reviews\", as_supervised=True, with_info=True)"
   ]
  },
  {
   "cell_type": "code",
   "execution_count": 43,
   "metadata": {
    "execution": {
     "iopub.execute_input": "2022-05-06T23:56:54.210051Z",
     "iopub.status.busy": "2022-05-06T23:56:54.209833Z",
     "iopub.status.idle": "2022-05-06T23:56:54.215807Z",
     "shell.execute_reply": "2022-05-06T23:56:54.214786Z"
    }
   },
   "outputs": [
    {
     "data": {
      "text/plain": [
       "dict_keys(['train', 'test', 'unsupervised'])"
      ]
     },
     "execution_count": 43,
     "metadata": {},
     "output_type": "execute_result"
    }
   ],
   "source": [
    "datasets.keys()"
   ]
  },
  {
   "cell_type": "code",
   "execution_count": 44,
   "metadata": {
    "execution": {
     "iopub.execute_input": "2022-05-06T23:56:54.219422Z",
     "iopub.status.busy": "2022-05-06T23:56:54.218996Z",
     "iopub.status.idle": "2022-05-06T23:56:54.224139Z",
     "shell.execute_reply": "2022-05-06T23:56:54.223286Z"
    }
   },
   "outputs": [],
   "source": [
    "train_size = info.splits[\"train\"].num_examples\n",
    "test_size = info.splits[\"test\"].num_examples"
   ]
  },
  {
   "cell_type": "code",
   "execution_count": 45,
   "metadata": {
    "execution": {
     "iopub.execute_input": "2022-05-06T23:56:54.227627Z",
     "iopub.status.busy": "2022-05-06T23:56:54.227275Z",
     "iopub.status.idle": "2022-05-06T23:56:54.233399Z",
     "shell.execute_reply": "2022-05-06T23:56:54.232745Z"
    }
   },
   "outputs": [
    {
     "data": {
      "text/plain": [
       "(25000, 25000)"
      ]
     },
     "execution_count": 45,
     "metadata": {},
     "output_type": "execute_result"
    }
   ],
   "source": [
    "train_size, test_size"
   ]
  },
  {
   "cell_type": "code",
   "execution_count": 46,
   "metadata": {
    "execution": {
     "iopub.execute_input": "2022-05-06T23:56:54.238370Z",
     "iopub.status.busy": "2022-05-06T23:56:54.238092Z",
     "iopub.status.idle": "2022-05-06T23:56:54.390469Z",
     "shell.execute_reply": "2022-05-06T23:56:54.387591Z"
    }
   },
   "outputs": [
    {
     "name": "stdout",
     "output_type": "stream",
     "text": [
      "Review: This was an absolutely terrible movie. Don't be lured in by Christopher Walken or Michael Ironside. Both are great actors, but this must simply be their worst role in history. Even their great acting  ...\n",
      "Label: 0 = Negative\n",
      "\n",
      "Review: I have been known to fall asleep during films, but this is usually due to a combination of things including, really tired, being warm and comfortable on the sette and having just eaten a lot. However  ...\n",
      "Label: 0 = Negative\n",
      "\n"
     ]
    },
    {
     "name": "stderr",
     "output_type": "stream",
     "text": [
      "2022-05-06 19:56:54.380030: W tensorflow/core/kernels/data/cache_dataset_ops.cc:768] The calling iterator did not fully read the dataset being cached. In order to avoid unexpected truncation of the dataset, the partially cached contents of the dataset  will be discarded. This can happen if you have an input pipeline similar to `dataset.cache().take(k).repeat()`. You should use `dataset.take(k).cache().repeat()` instead.\n"
     ]
    }
   ],
   "source": [
    "for X_batch, y_batch in datasets[\"train\"].batch(2).take(1):\n",
    "    for review, label in zip(X_batch.numpy(), y_batch.numpy()):\n",
    "        print(\"Review:\", review.decode(\"utf-8\")[:200], \"...\")\n",
    "        print(\"Label:\", label, \"= Positive\" if label else \"= Negative\")\n",
    "        print()"
   ]
  },
  {
   "cell_type": "code",
   "execution_count": 47,
   "metadata": {
    "execution": {
     "iopub.execute_input": "2022-05-06T23:56:54.395293Z",
     "iopub.status.busy": "2022-05-06T23:56:54.394915Z",
     "iopub.status.idle": "2022-05-06T23:56:54.401892Z",
     "shell.execute_reply": "2022-05-06T23:56:54.401032Z"
    }
   },
   "outputs": [],
   "source": [
    "def preprocess(X_batch, y_batch):\n",
    "    X_batch = tf.strings.substr(X_batch, 0, 300)\n",
    "    X_batch = tf.strings.regex_replace(X_batch, rb\"<br\\s*/?>\", b\" \")\n",
    "    X_batch = tf.strings.regex_replace(X_batch, b\"[^a-zA-Z']\", b\" \")\n",
    "    X_batch = tf.strings.split(X_batch)\n",
    "    return X_batch.to_tensor(default_value=b\"<pad>\"), y_batch"
   ]
  },
  {
   "cell_type": "code",
   "execution_count": 48,
   "metadata": {
    "execution": {
     "iopub.execute_input": "2022-05-06T23:56:54.406296Z",
     "iopub.status.busy": "2022-05-06T23:56:54.405959Z",
     "iopub.status.idle": "2022-05-06T23:56:54.420889Z",
     "shell.execute_reply": "2022-05-06T23:56:54.419954Z"
    }
   },
   "outputs": [
    {
     "data": {
      "text/plain": [
       "(<tf.Tensor: shape=(2, 53), dtype=string, numpy=\n",
       " array([[b'This', b'was', b'an', b'absolutely', b'terrible', b'movie',\n",
       "         b\"Don't\", b'be', b'lured', b'in', b'by', b'Christopher',\n",
       "         b'Walken', b'or', b'Michael', b'Ironside', b'Both', b'are',\n",
       "         b'great', b'actors', b'but', b'this', b'must', b'simply', b'be',\n",
       "         b'their', b'worst', b'role', b'in', b'history', b'Even',\n",
       "         b'their', b'great', b'acting', b'could', b'not', b'redeem',\n",
       "         b'this', b\"movie's\", b'ridiculous', b'storyline', b'This',\n",
       "         b'movie', b'is', b'an', b'early', b'nineties', b'US',\n",
       "         b'propaganda', b'pi', b'<pad>', b'<pad>', b'<pad>'],\n",
       "        [b'I', b'have', b'been', b'known', b'to', b'fall', b'asleep',\n",
       "         b'during', b'films', b'but', b'this', b'is', b'usually', b'due',\n",
       "         b'to', b'a', b'combination', b'of', b'things', b'including',\n",
       "         b'really', b'tired', b'being', b'warm', b'and', b'comfortable',\n",
       "         b'on', b'the', b'sette', b'and', b'having', b'just', b'eaten',\n",
       "         b'a', b'lot', b'However', b'on', b'this', b'occasion', b'I',\n",
       "         b'fell', b'asleep', b'because', b'the', b'film', b'was',\n",
       "         b'rubbish', b'The', b'plot', b'development', b'was', b'constant',\n",
       "         b'Cons']], dtype=object)>,\n",
       " <tf.Tensor: shape=(2,), dtype=int64, numpy=array([0, 0])>)"
      ]
     },
     "execution_count": 48,
     "metadata": {},
     "output_type": "execute_result"
    }
   ],
   "source": [
    "preprocess(X_batch, y_batch)"
   ]
  },
  {
   "cell_type": "code",
   "execution_count": 49,
   "metadata": {
    "execution": {
     "iopub.execute_input": "2022-05-06T23:56:54.424604Z",
     "iopub.status.busy": "2022-05-06T23:56:54.424280Z",
     "iopub.status.idle": "2022-05-06T23:57:02.591418Z",
     "shell.execute_reply": "2022-05-06T23:57:02.590827Z"
    }
   },
   "outputs": [],
   "source": [
    "from collections import Counter\n",
    "\n",
    "vocabulary = Counter()\n",
    "for X_batch, y_batch in datasets[\"train\"].batch(32).map(preprocess):\n",
    "    for review in X_batch:\n",
    "        vocabulary.update(list(review.numpy()))"
   ]
  },
  {
   "cell_type": "code",
   "execution_count": 50,
   "metadata": {
    "execution": {
     "iopub.execute_input": "2022-05-06T23:57:02.594646Z",
     "iopub.status.busy": "2022-05-06T23:57:02.594441Z",
     "iopub.status.idle": "2022-05-06T23:57:02.616682Z",
     "shell.execute_reply": "2022-05-06T23:57:02.616031Z"
    }
   },
   "outputs": [
    {
     "data": {
      "text/plain": [
       "[(b'<pad>', 214309), (b'the', 61137), (b'a', 38564)]"
      ]
     },
     "execution_count": 50,
     "metadata": {},
     "output_type": "execute_result"
    }
   ],
   "source": [
    "vocabulary.most_common()[:3]"
   ]
  },
  {
   "cell_type": "code",
   "execution_count": 51,
   "metadata": {
    "execution": {
     "iopub.execute_input": "2022-05-06T23:57:02.619614Z",
     "iopub.status.busy": "2022-05-06T23:57:02.619132Z",
     "iopub.status.idle": "2022-05-06T23:57:02.623845Z",
     "shell.execute_reply": "2022-05-06T23:57:02.623254Z"
    }
   },
   "outputs": [
    {
     "data": {
      "text/plain": [
       "53893"
      ]
     },
     "execution_count": 51,
     "metadata": {},
     "output_type": "execute_result"
    }
   ],
   "source": [
    "len(vocabulary)"
   ]
  },
  {
   "cell_type": "code",
   "execution_count": 52,
   "metadata": {
    "execution": {
     "iopub.execute_input": "2022-05-06T23:57:02.626658Z",
     "iopub.status.busy": "2022-05-06T23:57:02.626196Z",
     "iopub.status.idle": "2022-05-06T23:57:02.646354Z",
     "shell.execute_reply": "2022-05-06T23:57:02.645641Z"
    }
   },
   "outputs": [],
   "source": [
    "vocab_size = 10000\n",
    "truncated_vocabulary = [\n",
    "    word for word, count in vocabulary.most_common()[:vocab_size]]"
   ]
  },
  {
   "cell_type": "code",
   "execution_count": 53,
   "metadata": {
    "execution": {
     "iopub.execute_input": "2022-05-06T23:57:02.649005Z",
     "iopub.status.busy": "2022-05-06T23:57:02.648800Z",
     "iopub.status.idle": "2022-05-06T23:57:02.655566Z",
     "shell.execute_reply": "2022-05-06T23:57:02.655038Z"
    }
   },
   "outputs": [
    {
     "name": "stdout",
     "output_type": "stream",
     "text": [
      "22\n",
      "12\n",
      "11\n",
      "10000\n"
     ]
    }
   ],
   "source": [
    "word_to_id = {word: index for index, word in enumerate(truncated_vocabulary)}\n",
    "for word in b\"This movie was faaaaaantastic\".split():\n",
    "    print(word_to_id.get(word) or vocab_size)"
   ]
  },
  {
   "cell_type": "code",
   "execution_count": 54,
   "metadata": {
    "execution": {
     "iopub.execute_input": "2022-05-06T23:57:02.658045Z",
     "iopub.status.busy": "2022-05-06T23:57:02.657851Z",
     "iopub.status.idle": "2022-05-06T23:57:02.663998Z",
     "shell.execute_reply": "2022-05-06T23:57:02.663441Z"
    }
   },
   "outputs": [],
   "source": [
    "words = tf.constant(truncated_vocabulary)\n",
    "word_ids = tf.range(len(truncated_vocabulary), dtype=tf.int64)\n",
    "vocab_init = tf.lookup.KeyValueTensorInitializer(words, word_ids)\n",
    "num_oov_buckets = 1000\n",
    "table = tf.lookup.StaticVocabularyTable(vocab_init, num_oov_buckets)"
   ]
  },
  {
   "cell_type": "code",
   "execution_count": 55,
   "metadata": {
    "execution": {
     "iopub.execute_input": "2022-05-06T23:57:02.666574Z",
     "iopub.status.busy": "2022-05-06T23:57:02.666343Z",
     "iopub.status.idle": "2022-05-06T23:57:02.673192Z",
     "shell.execute_reply": "2022-05-06T23:57:02.672667Z"
    }
   },
   "outputs": [
    {
     "data": {
      "text/plain": [
       "<tf.Tensor: shape=(1, 4), dtype=int64, numpy=array([[   22,    12,    11, 10053]])>"
      ]
     },
     "execution_count": 55,
     "metadata": {},
     "output_type": "execute_result"
    }
   ],
   "source": [
    "table.lookup(tf.constant([b\"This movie was faaaaaantastic\".split()]))"
   ]
  },
  {
   "cell_type": "code",
   "execution_count": 56,
   "metadata": {
    "execution": {
     "iopub.execute_input": "2022-05-06T23:57:02.675736Z",
     "iopub.status.busy": "2022-05-06T23:57:02.675494Z",
     "iopub.status.idle": "2022-05-06T23:57:02.745883Z",
     "shell.execute_reply": "2022-05-06T23:57:02.745171Z"
    }
   },
   "outputs": [],
   "source": [
    "def encode_words(X_batch, y_batch):\n",
    "    return table.lookup(X_batch), y_batch\n",
    "\n",
    "train_set = datasets[\"train\"].batch(32).map(preprocess)\n",
    "train_set = train_set.map(encode_words).prefetch(1)"
   ]
  },
  {
   "cell_type": "code",
   "execution_count": 57,
   "metadata": {
    "execution": {
     "iopub.execute_input": "2022-05-06T23:57:02.750099Z",
     "iopub.status.busy": "2022-05-06T23:57:02.749830Z",
     "iopub.status.idle": "2022-05-06T23:57:02.814822Z",
     "shell.execute_reply": "2022-05-06T23:57:02.813969Z"
    }
   },
   "outputs": [
    {
     "name": "stdout",
     "output_type": "stream",
     "text": [
      "tf.Tensor(\n",
      "[[  22   11   28 ...    0    0    0]\n",
      " [   6   21   70 ...    0    0    0]\n",
      " [4099 6881    1 ...    0    0    0]\n",
      " ...\n",
      " [  22   12  118 ...  331 1047    0]\n",
      " [1757 4101  451 ...    0    0    0]\n",
      " [3365 4392    6 ...    0    0    0]], shape=(32, 60), dtype=int64)\n",
      "tf.Tensor([0 0 0 1 1 1 0 0 0 0 0 1 1 0 1 0 1 1 1 0 1 1 1 1 1 0 0 0 1 0 0 0], shape=(32,), dtype=int64)\n"
     ]
    }
   ],
   "source": [
    "for X_batch, y_batch in train_set.take(1):\n",
    "    print(X_batch)\n",
    "    print(y_batch)"
   ]
  },
  {
   "cell_type": "code",
   "execution_count": 58,
   "metadata": {
    "execution": {
     "iopub.execute_input": "2022-05-06T23:57:02.818400Z",
     "iopub.status.busy": "2022-05-06T23:57:02.818169Z",
     "iopub.status.idle": "2022-05-07T00:03:44.125743Z",
     "shell.execute_reply": "2022-05-07T00:03:44.125110Z"
    }
   },
   "outputs": [
    {
     "name": "stdout",
     "output_type": "stream",
     "text": [
      "Epoch 1/40\n",
      "782/782 [==============================] - 16s 11ms/step - loss: 0.5305 - accuracy: 0.7281\n",
      "Epoch 2/40\n",
      "782/782 [==============================] - 9s 11ms/step - loss: 0.3459 - accuracy: 0.8549\n",
      "Epoch 3/40\n",
      "782/782 [==============================] - 9s 11ms/step - loss: 0.1934 - accuracy: 0.9313\n",
      "Epoch 4/40\n",
      "782/782 [==============================] - 9s 11ms/step - loss: 0.1361 - accuracy: 0.9503\n",
      "Epoch 5/40\n",
      "782/782 [==============================] - 10s 13ms/step - loss: 0.1032 - accuracy: 0.9634\n",
      "Epoch 6/40\n",
      "782/782 [==============================] - 10s 13ms/step - loss: 0.0716 - accuracy: 0.9742\n",
      "Epoch 7/40\n",
      "782/782 [==============================] - 10s 13ms/step - loss: 0.0587 - accuracy: 0.9796\n",
      "Epoch 8/40\n",
      "782/782 [==============================] - 10s 13ms/step - loss: 0.0421 - accuracy: 0.9853\n",
      "Epoch 9/40\n",
      "782/782 [==============================] - 10s 13ms/step - loss: 0.0347 - accuracy: 0.9888\n",
      "Epoch 10/40\n",
      "782/782 [==============================] - 10s 13ms/step - loss: 0.0273 - accuracy: 0.9902\n",
      "Epoch 11/40\n",
      "782/782 [==============================] - 10s 13ms/step - loss: 0.0237 - accuracy: 0.9917\n",
      "Epoch 12/40\n",
      "782/782 [==============================] - 9s 12ms/step - loss: 0.0204 - accuracy: 0.9931\n",
      "Epoch 13/40\n",
      "782/782 [==============================] - 9s 12ms/step - loss: 0.0167 - accuracy: 0.9945\n",
      "Epoch 14/40\n",
      "782/782 [==============================] - 9s 12ms/step - loss: 0.0170 - accuracy: 0.9941\n",
      "Epoch 15/40\n",
      "782/782 [==============================] - 9s 11ms/step - loss: 0.0182 - accuracy: 0.9938\n",
      "Epoch 16/40\n",
      "782/782 [==============================] - 9s 12ms/step - loss: 0.0119 - accuracy: 0.9964\n",
      "Epoch 17/40\n",
      "782/782 [==============================] - 9s 11ms/step - loss: 0.0108 - accuracy: 0.9966\n",
      "Epoch 18/40\n",
      "782/782 [==============================] - 9s 12ms/step - loss: 0.0098 - accuracy: 0.9967\n",
      "Epoch 19/40\n",
      "782/782 [==============================] - 10s 13ms/step - loss: 0.0078 - accuracy: 0.9975\n",
      "Epoch 20/40\n",
      "782/782 [==============================] - 10s 13ms/step - loss: 0.0083 - accuracy: 0.9976\n",
      "Epoch 21/40\n",
      "782/782 [==============================] - 10s 13ms/step - loss: 0.0084 - accuracy: 0.9973\n",
      "Epoch 22/40\n",
      "782/782 [==============================] - 10s 13ms/step - loss: 0.0035 - accuracy: 0.9988\n",
      "Epoch 23/40\n",
      "782/782 [==============================] - 10s 13ms/step - loss: 0.0044 - accuracy: 0.9988\n",
      "Epoch 24/40\n",
      "782/782 [==============================] - 10s 13ms/step - loss: 0.0049 - accuracy: 0.9986\n",
      "Epoch 25/40\n",
      "782/782 [==============================] - 10s 12ms/step - loss: 0.0020 - accuracy: 0.9994\n",
      "Epoch 26/40\n",
      "782/782 [==============================] - 10s 12ms/step - loss: 0.0047 - accuracy: 0.9982\n",
      "Epoch 27/40\n",
      "782/782 [==============================] - 10s 13ms/step - loss: 0.0054 - accuracy: 0.9983\n",
      "Epoch 28/40\n",
      "782/782 [==============================] - 9s 12ms/step - loss: 0.0051 - accuracy: 0.9982\n",
      "Epoch 29/40\n",
      "782/782 [==============================] - 9s 11ms/step - loss: 0.0012 - accuracy: 0.9996\n",
      "Epoch 30/40\n",
      "782/782 [==============================] - 9s 11ms/step - loss: 9.4628e-04 - accuracy: 0.9998\n",
      "Epoch 31/40\n",
      "782/782 [==============================] - 10s 12ms/step - loss: 0.0012 - accuracy: 0.9996\n",
      "Epoch 32/40\n",
      "782/782 [==============================] - 10s 13ms/step - loss: 0.0033 - accuracy: 0.9988\n",
      "Epoch 33/40\n",
      "782/782 [==============================] - 10s 13ms/step - loss: 0.0044 - accuracy: 0.9986\n",
      "Epoch 34/40\n",
      "782/782 [==============================] - 10s 13ms/step - loss: 0.0018 - accuracy: 0.9995\n",
      "Epoch 35/40\n",
      "782/782 [==============================] - 10s 13ms/step - loss: 0.0027 - accuracy: 0.9994\n",
      "Epoch 36/40\n",
      "782/782 [==============================] - 10s 13ms/step - loss: 0.0013 - accuracy: 0.9997\n",
      "Epoch 37/40\n",
      "782/782 [==============================] - 11s 14ms/step - loss: 0.0018 - accuracy: 0.9993\n",
      "Epoch 38/40\n",
      "782/782 [==============================] - 8s 11ms/step - loss: 0.0015 - accuracy: 0.9996\n",
      "Epoch 39/40\n",
      "782/782 [==============================] - 8s 11ms/step - loss: 0.0018 - accuracy: 0.9995\n",
      "Epoch 40/40\n",
      "782/782 [==============================] - 9s 11ms/step - loss: 0.0026 - accuracy: 0.9992\n"
     ]
    }
   ],
   "source": [
    "embed_size = 128\n",
    "model = keras.models.Sequential([\n",
    "    keras.layers.Embedding(vocab_size + num_oov_buckets, embed_size,\n",
    "                           mask_zero=True, # not shown in the book\n",
    "                           input_shape=[None]),\n",
    "    keras.layers.GRU(128, return_sequences=True),\n",
    "    keras.layers.GRU(128),\n",
    "    keras.layers.Dense(1, activation=\"sigmoid\")\n",
    "])\n",
    "model.compile(loss=\"binary_crossentropy\", optimizer=\"adam\", metrics=[\"accuracy\"])\n",
    "history = model.fit(train_set, epochs=40)"
   ]
  },
  {
   "cell_type": "markdown",
   "metadata": {},
   "source": [
    "Or using manual masking:"
   ]
  },
  {
   "cell_type": "code",
   "execution_count": 59,
   "metadata": {
    "execution": {
     "iopub.execute_input": "2022-05-07T00:03:44.128729Z",
     "iopub.status.busy": "2022-05-07T00:03:44.128505Z",
     "iopub.status.idle": "2022-05-07T00:10:49.540608Z",
     "shell.execute_reply": "2022-05-07T00:10:49.539889Z"
    }
   },
   "outputs": [
    {
     "name": "stdout",
     "output_type": "stream",
     "text": [
      "Epoch 1/40\n",
      "782/782 [==============================] - 17s 12ms/step - loss: 0.5426 - accuracy: 0.7156\n",
      "Epoch 2/40\n",
      "782/782 [==============================] - 10s 12ms/step - loss: 0.3469 - accuracy: 0.8572\n",
      "Epoch 3/40\n",
      "782/782 [==============================] - 11s 14ms/step - loss: 0.1758 - accuracy: 0.9389\n",
      "Epoch 4/40\n",
      "782/782 [==============================] - 10s 13ms/step - loss: 0.1318 - accuracy: 0.9521\n",
      "Epoch 5/40\n",
      "782/782 [==============================] - 11s 13ms/step - loss: 0.1109 - accuracy: 0.9594\n",
      "Epoch 6/40\n",
      "782/782 [==============================] - 11s 14ms/step - loss: 0.0802 - accuracy: 0.9707\n",
      "Epoch 7/40\n",
      "782/782 [==============================] - 9s 12ms/step - loss: 0.0667 - accuracy: 0.9762\n",
      "Epoch 8/40\n",
      "782/782 [==============================] - 9s 11ms/step - loss: 0.0585 - accuracy: 0.9787\n",
      "Epoch 9/40\n",
      "782/782 [==============================] - 9s 11ms/step - loss: 0.0489 - accuracy: 0.9827\n",
      "Epoch 10/40\n",
      "782/782 [==============================] - 9s 11ms/step - loss: 0.0381 - accuracy: 0.9863\n",
      "Epoch 11/40\n",
      "782/782 [==============================] - 9s 12ms/step - loss: 0.0305 - accuracy: 0.9900\n",
      "Epoch 12/40\n",
      "782/782 [==============================] - 9s 12ms/step - loss: 0.0232 - accuracy: 0.9915\n",
      "Epoch 13/40\n",
      "782/782 [==============================] - 10s 12ms/step - loss: 0.0195 - accuracy: 0.9938\n",
      "Epoch 14/40\n",
      "782/782 [==============================] - 11s 13ms/step - loss: 0.0159 - accuracy: 0.9942\n",
      "Epoch 15/40\n",
      "782/782 [==============================] - 11s 14ms/step - loss: 0.0161 - accuracy: 0.9949\n",
      "Epoch 16/40\n",
      "782/782 [==============================] - 10s 13ms/step - loss: 0.0157 - accuracy: 0.9949\n",
      "Epoch 17/40\n",
      "782/782 [==============================] - 10s 13ms/step - loss: 0.0146 - accuracy: 0.9953\n",
      "Epoch 18/40\n",
      "782/782 [==============================] - 10s 13ms/step - loss: 0.0153 - accuracy: 0.9950\n",
      "Epoch 19/40\n",
      "782/782 [==============================] - 10s 13ms/step - loss: 0.0128 - accuracy: 0.9956\n",
      "Epoch 20/40\n",
      "782/782 [==============================] - 9s 12ms/step - loss: 0.0104 - accuracy: 0.9968\n",
      "Epoch 21/40\n",
      "782/782 [==============================] - 9s 12ms/step - loss: 0.0075 - accuracy: 0.9975\n",
      "Epoch 22/40\n",
      "782/782 [==============================] - 9s 12ms/step - loss: 0.0070 - accuracy: 0.9974\n",
      "Epoch 23/40\n",
      "782/782 [==============================] - 9s 12ms/step - loss: 0.0064 - accuracy: 0.9980\n",
      "Epoch 24/40\n",
      "782/782 [==============================] - 9s 12ms/step - loss: 0.0037 - accuracy: 0.9990\n",
      "Epoch 25/40\n",
      "782/782 [==============================] - 10s 13ms/step - loss: 0.0062 - accuracy: 0.9983\n",
      "Epoch 26/40\n",
      "782/782 [==============================] - 10s 13ms/step - loss: 0.0079 - accuracy: 0.9978\n",
      "Epoch 27/40\n",
      "782/782 [==============================] - 10s 13ms/step - loss: 0.0046 - accuracy: 0.9984\n",
      "Epoch 28/40\n",
      "782/782 [==============================] - 11s 14ms/step - loss: 0.0030 - accuracy: 0.9990\n",
      "Epoch 29/40\n",
      "782/782 [==============================] - 10s 13ms/step - loss: 0.0022 - accuracy: 0.9994\n",
      "Epoch 30/40\n",
      "782/782 [==============================] - 11s 14ms/step - loss: 0.0035 - accuracy: 0.9988\n",
      "Epoch 31/40\n",
      "782/782 [==============================] - 11s 15ms/step - loss: 0.0062 - accuracy: 0.9981\n",
      "Epoch 32/40\n",
      "782/782 [==============================] - 11s 14ms/step - loss: 0.0037 - accuracy: 0.9987\n",
      "Epoch 33/40\n",
      "782/782 [==============================] - 11s 14ms/step - loss: 3.6826e-04 - accuracy: 0.9998\n",
      "Epoch 34/40\n",
      "782/782 [==============================] - 9s 11ms/step - loss: 0.0031 - accuracy: 0.9990\n",
      "Epoch 35/40\n",
      "782/782 [==============================] - 9s 11ms/step - loss: 0.0021 - accuracy: 0.9993\n",
      "Epoch 36/40\n",
      "782/782 [==============================] - 9s 12ms/step - loss: 0.0047 - accuracy: 0.9987\n",
      "Epoch 37/40\n",
      "782/782 [==============================] - 10s 12ms/step - loss: 0.0025 - accuracy: 0.9991\n",
      "Epoch 38/40\n",
      "782/782 [==============================] - 10s 13ms/step - loss: 3.7502e-04 - accuracy: 0.9998\n",
      "Epoch 39/40\n",
      "782/782 [==============================] - 11s 14ms/step - loss: 3.3559e-05 - accuracy: 1.0000\n",
      "Epoch 40/40\n",
      "782/782 [==============================] - 11s 14ms/step - loss: 8.6024e-06 - accuracy: 1.0000\n"
     ]
    }
   ],
   "source": [
    "K = keras.backend\n",
    "embed_size = 128\n",
    "inputs = keras.layers.Input(shape=[None])\n",
    "mask = keras.layers.Lambda(lambda inputs: K.not_equal(inputs, 0))(inputs)\n",
    "z = keras.layers.Embedding(vocab_size + num_oov_buckets, embed_size)(inputs)\n",
    "z = keras.layers.GRU(128, return_sequences=True)(z, mask=mask)\n",
    "z = keras.layers.GRU(128)(z, mask=mask)\n",
    "outputs = keras.layers.Dense(1, activation=\"sigmoid\")(z)\n",
    "model = keras.models.Model(inputs=[inputs], outputs=[outputs])\n",
    "model.compile(loss=\"binary_crossentropy\", optimizer=\"adam\", metrics=[\"accuracy\"])\n",
    "history = model.fit(train_set, epochs=40)"
   ]
  },
  {
   "cell_type": "markdown",
   "metadata": {},
   "source": [
    "## Reusing Pretrained Embeddings"
   ]
  },
  {
   "cell_type": "code",
   "execution_count": 60,
   "metadata": {
    "execution": {
     "iopub.execute_input": "2022-05-07T00:10:49.544517Z",
     "iopub.status.busy": "2022-05-07T00:10:49.544180Z",
     "iopub.status.idle": "2022-05-07T00:10:49.628660Z",
     "shell.execute_reply": "2022-05-07T00:10:49.627831Z"
    }
   },
   "outputs": [],
   "source": [
    "tf.random.set_seed(42)"
   ]
  },
  {
   "cell_type": "code",
   "execution_count": 61,
   "metadata": {
    "execution": {
     "iopub.execute_input": "2022-05-07T00:10:49.635392Z",
     "iopub.status.busy": "2022-05-07T00:10:49.635072Z",
     "iopub.status.idle": "2022-05-07T00:10:49.639424Z",
     "shell.execute_reply": "2022-05-07T00:10:49.638554Z"
    }
   },
   "outputs": [],
   "source": [
    "TFHUB_CACHE_DIR = os.path.join(os.curdir, \"my_tfhub_cache\")\n",
    "os.environ[\"TFHUB_CACHE_DIR\"] = TFHUB_CACHE_DIR"
   ]
  },
  {
   "cell_type": "code",
   "execution_count": 62,
   "metadata": {
    "execution": {
     "iopub.execute_input": "2022-05-07T00:10:49.643251Z",
     "iopub.status.busy": "2022-05-07T00:10:49.642675Z",
     "iopub.status.idle": "2022-05-07T00:10:52.767788Z",
     "shell.execute_reply": "2022-05-07T00:10:52.766823Z"
    }
   },
   "outputs": [],
   "source": [
    "import tensorflow_hub as hub\n",
    "\n",
    "model = keras.Sequential([\n",
    "    hub.KerasLayer(\"https://tfhub.dev/google/tf2-preview/nnlm-en-dim50/1\",\n",
    "                   dtype=tf.string, input_shape=[], output_shape=[50]),\n",
    "    keras.layers.Dense(128, activation=\"relu\"),\n",
    "    keras.layers.Dense(1, activation=\"sigmoid\")\n",
    "])\n",
    "model.compile(loss=\"binary_crossentropy\", optimizer=\"adam\",\n",
    "              metrics=[\"accuracy\"])"
   ]
  },
  {
   "cell_type": "code",
   "execution_count": 63,
   "metadata": {
    "execution": {
     "iopub.execute_input": "2022-05-07T00:10:52.771465Z",
     "iopub.status.busy": "2022-05-07T00:10:52.771136Z",
     "iopub.status.idle": "2022-05-07T00:10:52.777666Z",
     "shell.execute_reply": "2022-05-07T00:10:52.776779Z"
    }
   },
   "outputs": [
    {
     "name": "stdout",
     "output_type": "stream",
     "text": [
      "./my_tfhub_cache/82c4aaf4250ffb09088bd48368ee7fd00e5464fe.descriptor.txt\n",
      "./my_tfhub_cache/82c4aaf4250ffb09088bd48368ee7fd00e5464fe/saved_model.pb\n",
      "./my_tfhub_cache/82c4aaf4250ffb09088bd48368ee7fd00e5464fe/assets/tokens.txt\n",
      "./my_tfhub_cache/82c4aaf4250ffb09088bd48368ee7fd00e5464fe/variables/variables.index\n",
      "./my_tfhub_cache/82c4aaf4250ffb09088bd48368ee7fd00e5464fe/variables/variables.data-00000-of-00001\n"
     ]
    }
   ],
   "source": [
    "for dirpath, dirnames, filenames in os.walk(TFHUB_CACHE_DIR):\n",
    "    for filename in filenames:\n",
    "        print(os.path.join(dirpath, filename))"
   ]
  },
  {
   "cell_type": "code",
   "execution_count": 64,
   "metadata": {
    "execution": {
     "iopub.execute_input": "2022-05-07T00:10:52.781179Z",
     "iopub.status.busy": "2022-05-07T00:10:52.780805Z",
     "iopub.status.idle": "2022-05-07T00:13:03.997270Z",
     "shell.execute_reply": "2022-05-07T00:13:03.996589Z"
    }
   },
   "outputs": [
    {
     "name": "stdout",
     "output_type": "stream",
     "text": [
      "Epoch 1/40\n",
      "782/782 [==============================] - 5s 6ms/step - loss: 0.5461 - accuracy: 0.7267\n",
      "Epoch 2/40\n",
      "782/782 [==============================] - 4s 5ms/step - loss: 0.5130 - accuracy: 0.7495\n",
      "Epoch 3/40\n",
      "782/782 [==============================] - 4s 5ms/step - loss: 0.5081 - accuracy: 0.7532\n",
      "Epoch 4/40\n",
      "782/782 [==============================] - 4s 5ms/step - loss: 0.5047 - accuracy: 0.7540\n",
      "Epoch 5/40\n",
      "782/782 [==============================] - 4s 5ms/step - loss: 0.5018 - accuracy: 0.7566\n",
      "Epoch 6/40\n",
      "782/782 [==============================] - 4s 5ms/step - loss: 0.4993 - accuracy: 0.7585\n",
      "Epoch 7/40\n",
      "782/782 [==============================] - 3s 4ms/step - loss: 0.4970 - accuracy: 0.7591\n",
      "Epoch 8/40\n",
      "782/782 [==============================] - 3s 4ms/step - loss: 0.4946 - accuracy: 0.7610\n",
      "Epoch 9/40\n",
      "782/782 [==============================] - 3s 4ms/step - loss: 0.4924 - accuracy: 0.7624\n",
      "Epoch 10/40\n",
      "782/782 [==============================] - 3s 4ms/step - loss: 0.4903 - accuracy: 0.7635\n",
      "Epoch 11/40\n",
      "782/782 [==============================] - 3s 4ms/step - loss: 0.4880 - accuracy: 0.7649\n",
      "Epoch 12/40\n",
      "782/782 [==============================] - 3s 3ms/step - loss: 0.4859 - accuracy: 0.7669\n",
      "Epoch 13/40\n",
      "782/782 [==============================] - 3s 3ms/step - loss: 0.4839 - accuracy: 0.7687\n",
      "Epoch 14/40\n",
      "782/782 [==============================] - 3s 4ms/step - loss: 0.4818 - accuracy: 0.7696\n",
      "Epoch 15/40\n",
      "782/782 [==============================] - 3s 4ms/step - loss: 0.4799 - accuracy: 0.7707\n",
      "Epoch 16/40\n",
      "782/782 [==============================] - 3s 4ms/step - loss: 0.4779 - accuracy: 0.7721\n",
      "Epoch 17/40\n",
      "782/782 [==============================] - 3s 4ms/step - loss: 0.4763 - accuracy: 0.7725\n",
      "Epoch 18/40\n",
      "782/782 [==============================] - 3s 4ms/step - loss: 0.4745 - accuracy: 0.7737\n",
      "Epoch 19/40\n",
      "782/782 [==============================] - 3s 4ms/step - loss: 0.4728 - accuracy: 0.7752\n",
      "Epoch 20/40\n",
      "782/782 [==============================] - 3s 4ms/step - loss: 0.4714 - accuracy: 0.7752\n",
      "Epoch 21/40\n",
      "782/782 [==============================] - 3s 4ms/step - loss: 0.4696 - accuracy: 0.7764\n",
      "Epoch 22/40\n",
      "782/782 [==============================] - 3s 4ms/step - loss: 0.4679 - accuracy: 0.7770\n",
      "Epoch 23/40\n",
      "782/782 [==============================] - 3s 4ms/step - loss: 0.4664 - accuracy: 0.7773\n",
      "Epoch 24/40\n",
      "782/782 [==============================] - 3s 4ms/step - loss: 0.4649 - accuracy: 0.7781\n",
      "Epoch 25/40\n",
      "782/782 [==============================] - 3s 4ms/step - loss: 0.4632 - accuracy: 0.7800\n",
      "Epoch 26/40\n",
      "782/782 [==============================] - 3s 4ms/step - loss: 0.4618 - accuracy: 0.7811\n",
      "Epoch 27/40\n",
      "782/782 [==============================] - 3s 4ms/step - loss: 0.4603 - accuracy: 0.7820\n",
      "Epoch 28/40\n",
      "782/782 [==============================] - 4s 5ms/step - loss: 0.4588 - accuracy: 0.7825\n",
      "Epoch 29/40\n",
      "782/782 [==============================] - 4s 5ms/step - loss: 0.4574 - accuracy: 0.7839\n",
      "Epoch 30/40\n",
      "782/782 [==============================] - 4s 5ms/step - loss: 0.4559 - accuracy: 0.7852\n",
      "Epoch 31/40\n",
      "782/782 [==============================] - 4s 5ms/step - loss: 0.4543 - accuracy: 0.7860\n",
      "Epoch 32/40\n",
      "782/782 [==============================] - 4s 5ms/step - loss: 0.4528 - accuracy: 0.7871\n",
      "Epoch 33/40\n",
      "782/782 [==============================] - 4s 5ms/step - loss: 0.4512 - accuracy: 0.7880\n",
      "Epoch 34/40\n",
      "782/782 [==============================] - 4s 5ms/step - loss: 0.4499 - accuracy: 0.7893\n",
      "Epoch 35/40\n",
      "782/782 [==============================] - 3s 4ms/step - loss: 0.4484 - accuracy: 0.7893\n",
      "Epoch 36/40\n",
      "782/782 [==============================] - 3s 4ms/step - loss: 0.4469 - accuracy: 0.7900\n",
      "Epoch 37/40\n",
      "782/782 [==============================] - 3s 4ms/step - loss: 0.4455 - accuracy: 0.7912\n",
      "Epoch 38/40\n",
      "782/782 [==============================] - 3s 4ms/step - loss: 0.4440 - accuracy: 0.7921\n",
      "Epoch 39/40\n",
      "782/782 [==============================] - 3s 4ms/step - loss: 0.4427 - accuracy: 0.7928\n",
      "Epoch 40/40\n",
      "782/782 [==============================] - 3s 4ms/step - loss: 0.4414 - accuracy: 0.7938\n"
     ]
    }
   ],
   "source": [
    "import tensorflow_datasets as tfds\n",
    "\n",
    "datasets, info = tfds.load(\"imdb_reviews\", as_supervised=True, with_info=True)\n",
    "train_size = info.splits[\"train\"].num_examples\n",
    "batch_size = 32\n",
    "train_set = datasets[\"train\"].batch(batch_size).prefetch(1)\n",
    "history = model.fit(train_set, epochs=40)"
   ]
  },
  {
   "cell_type": "markdown",
   "metadata": {},
   "source": [
    "## Automatic Translation"
   ]
  },
  {
   "cell_type": "code",
   "execution_count": 65,
   "metadata": {
    "execution": {
     "iopub.execute_input": "2022-05-07T00:13:04.000570Z",
     "iopub.status.busy": "2022-05-07T00:13:04.000288Z",
     "iopub.status.idle": "2022-05-07T00:13:04.007820Z",
     "shell.execute_reply": "2022-05-07T00:13:04.007227Z"
    }
   },
   "outputs": [],
   "source": [
    "tf.random.set_seed(42)"
   ]
  },
  {
   "cell_type": "code",
   "execution_count": 66,
   "metadata": {
    "execution": {
     "iopub.execute_input": "2022-05-07T00:13:04.010577Z",
     "iopub.status.busy": "2022-05-07T00:13:04.010324Z",
     "iopub.status.idle": "2022-05-07T00:13:04.014593Z",
     "shell.execute_reply": "2022-05-07T00:13:04.014025Z"
    }
   },
   "outputs": [],
   "source": [
    "vocab_size = 100\n",
    "embed_size = 10"
   ]
  },
  {
   "cell_type": "code",
   "execution_count": 67,
   "metadata": {
    "execution": {
     "iopub.execute_input": "2022-05-07T00:13:04.017324Z",
     "iopub.status.busy": "2022-05-07T00:13:04.017081Z",
     "iopub.status.idle": "2022-05-07T00:13:11.660235Z",
     "shell.execute_reply": "2022-05-07T00:13:11.659532Z"
    }
   },
   "outputs": [],
   "source": [
    "import tensorflow_addons as tfa\n",
    "\n",
    "encoder_inputs = keras.layers.Input(shape=[None], dtype=np.int32)\n",
    "decoder_inputs = keras.layers.Input(shape=[None], dtype=np.int32)\n",
    "sequence_lengths = keras.layers.Input(shape=[], dtype=np.int32)\n",
    "\n",
    "embeddings = keras.layers.Embedding(vocab_size, embed_size)\n",
    "encoder_embeddings = embeddings(encoder_inputs)\n",
    "decoder_embeddings = embeddings(decoder_inputs)\n",
    "\n",
    "encoder = keras.layers.LSTM(512, return_state=True)\n",
    "encoder_outputs, state_h, state_c = encoder(encoder_embeddings)\n",
    "encoder_state = [state_h, state_c]\n",
    "\n",
    "sampler = tfa.seq2seq.sampler.TrainingSampler()\n",
    "\n",
    "decoder_cell = keras.layers.LSTMCell(512)\n",
    "output_layer = keras.layers.Dense(vocab_size)\n",
    "decoder = tfa.seq2seq.basic_decoder.BasicDecoder(decoder_cell, sampler,\n",
    "                                                 output_layer=output_layer)\n",
    "final_outputs, final_state, final_sequence_lengths = decoder(\n",
    "    decoder_embeddings, initial_state=encoder_state,\n",
    "    sequence_length=sequence_lengths)\n",
    "Y_proba = tf.nn.softmax(final_outputs.rnn_output)\n",
    "\n",
    "model = keras.models.Model(\n",
    "    inputs=[encoder_inputs, decoder_inputs, sequence_lengths],\n",
    "    outputs=[Y_proba])"
   ]
  },
  {
   "cell_type": "code",
   "execution_count": 68,
   "metadata": {
    "execution": {
     "iopub.execute_input": "2022-05-07T00:13:11.663473Z",
     "iopub.status.busy": "2022-05-07T00:13:11.663224Z",
     "iopub.status.idle": "2022-05-07T00:13:11.671791Z",
     "shell.execute_reply": "2022-05-07T00:13:11.671131Z"
    }
   },
   "outputs": [],
   "source": [
    "model.compile(loss=\"sparse_categorical_crossentropy\", optimizer=\"adam\")"
   ]
  },
  {
   "cell_type": "code",
   "execution_count": 69,
   "metadata": {
    "execution": {
     "iopub.execute_input": "2022-05-07T00:13:11.674624Z",
     "iopub.status.busy": "2022-05-07T00:13:11.674385Z",
     "iopub.status.idle": "2022-05-07T00:13:37.379970Z",
     "shell.execute_reply": "2022-05-07T00:13:37.379398Z"
    }
   },
   "outputs": [
    {
     "name": "stdout",
     "output_type": "stream",
     "text": [
      "Epoch 1/20\n",
      "32/32 [==============================] - 5s 36ms/step - loss: 4.6054\n",
      "Epoch 2/20\n",
      "32/32 [==============================] - 1s 36ms/step - loss: 4.6031\n",
      "Epoch 3/20\n",
      "32/32 [==============================] - 1s 36ms/step - loss: 4.6013\n",
      "Epoch 4/20\n",
      "32/32 [==============================] - 1s 35ms/step - loss: 4.5987\n",
      "Epoch 5/20\n",
      "32/32 [==============================] - 1s 39ms/step - loss: 4.5954\n",
      "Epoch 6/20\n",
      "32/32 [==============================] - 1s 36ms/step - loss: 4.5895\n",
      "Epoch 7/20\n",
      "32/32 [==============================] - 1s 34ms/step - loss: 4.5814\n",
      "Epoch 8/20\n",
      "32/32 [==============================] - 1s 35ms/step - loss: 4.5745\n",
      "Epoch 9/20\n",
      "32/32 [==============================] - 1s 34ms/step - loss: 4.5609\n",
      "Epoch 10/20\n",
      "32/32 [==============================] - 1s 34ms/step - loss: 4.5485\n",
      "Epoch 11/20\n",
      "32/32 [==============================] - 1s 34ms/step - loss: 4.5337\n",
      "Epoch 12/20\n",
      "32/32 [==============================] - 1s 34ms/step - loss: 4.5140\n",
      "Epoch 13/20\n",
      "32/32 [==============================] - 1s 34ms/step - loss: 4.4925\n",
      "Epoch 14/20\n",
      "32/32 [==============================] - 1s 34ms/step - loss: 4.4749\n",
      "Epoch 15/20\n",
      "32/32 [==============================] - 1s 34ms/step - loss: 4.4364\n",
      "Epoch 16/20\n",
      "32/32 [==============================] - 1s 33ms/step - loss: 4.4023\n",
      "Epoch 17/20\n",
      "32/32 [==============================] - 1s 34ms/step - loss: 4.3445\n",
      "Epoch 18/20\n",
      "32/32 [==============================] - 1s 34ms/step - loss: 4.2892\n",
      "Epoch 19/20\n",
      "32/32 [==============================] - 1s 34ms/step - loss: 4.2107\n",
      "Epoch 20/20\n",
      "32/32 [==============================] - 1s 34ms/step - loss: 4.1271\n"
     ]
    }
   ],
   "source": [
    "X = np.random.randint(100, size=10*1000).reshape(1000, 10)\n",
    "Y = np.random.randint(100, size=15*1000).reshape(1000, 15)\n",
    "X_decoder = np.c_[np.zeros((1000, 1)), Y[:, :-1]]\n",
    "seq_lengths = np.full([1000], 15)\n",
    "\n",
    "history = model.fit([X, X_decoder, seq_lengths], Y, epochs=20)"
   ]
  },
  {
   "cell_type": "markdown",
   "metadata": {},
   "source": [
    "### Bidirectional Recurrent Layers"
   ]
  },
  {
   "cell_type": "code",
   "execution_count": 70,
   "metadata": {
    "execution": {
     "iopub.execute_input": "2022-05-07T00:13:37.382897Z",
     "iopub.status.busy": "2022-05-07T00:13:37.382663Z",
     "iopub.status.idle": "2022-05-07T00:13:37.971668Z",
     "shell.execute_reply": "2022-05-07T00:13:37.971040Z"
    }
   },
   "outputs": [
    {
     "name": "stdout",
     "output_type": "stream",
     "text": [
      "Model: \"sequential_5\"\n",
      "_________________________________________________________________\n",
      " Layer (type)                Output Shape              Param #   \n",
      "=================================================================\n",
      " gru_10 (GRU)                (None, None, 10)          660       \n",
      "                                                                 \n",
      " bidirectional (Bidirectiona  (None, None, 20)         1320      \n",
      " l)                                                              \n",
      "                                                                 \n",
      "=================================================================\n",
      "Total params: 1,980\n",
      "Trainable params: 1,980\n",
      "Non-trainable params: 0\n",
      "_________________________________________________________________\n"
     ]
    }
   ],
   "source": [
    "model = keras.models.Sequential([\n",
    "    keras.layers.GRU(10, return_sequences=True, input_shape=[None, 10]),\n",
    "    keras.layers.Bidirectional(keras.layers.GRU(10, return_sequences=True))\n",
    "])\n",
    "\n",
    "model.summary()"
   ]
  },
  {
   "cell_type": "markdown",
   "metadata": {},
   "source": [
    "### Positional Encoding"
   ]
  },
  {
   "cell_type": "code",
   "execution_count": 71,
   "metadata": {
    "execution": {
     "iopub.execute_input": "2022-05-07T00:13:37.976691Z",
     "iopub.status.busy": "2022-05-07T00:13:37.976361Z",
     "iopub.status.idle": "2022-05-07T00:13:37.983164Z",
     "shell.execute_reply": "2022-05-07T00:13:37.982589Z"
    }
   },
   "outputs": [],
   "source": [
    "class PositionalEncoding(keras.layers.Layer):\n",
    "    def __init__(self, max_steps, max_dims, dtype=tf.float32, **kwargs):\n",
    "        super().__init__(dtype=dtype, **kwargs)\n",
    "        if max_dims % 2 == 1: max_dims += 1 # max_dims must be even\n",
    "        p, i = np.meshgrid(np.arange(max_steps), np.arange(max_dims // 2))\n",
    "        pos_emb = np.empty((1, max_steps, max_dims))\n",
    "        pos_emb[0, :, ::2] = np.sin(p / 10000**(2 * i / max_dims)).T\n",
    "        pos_emb[0, :, 1::2] = np.cos(p / 10000**(2 * i / max_dims)).T\n",
    "        self.positional_embedding = tf.constant(pos_emb.astype(self.dtype))\n",
    "    def call(self, inputs):\n",
    "        shape = tf.shape(inputs)\n",
    "        return inputs + self.positional_embedding[:, :shape[-2], :shape[-1]]"
   ]
  },
  {
   "cell_type": "code",
   "execution_count": 72,
   "metadata": {
    "execution": {
     "iopub.execute_input": "2022-05-07T00:13:37.987433Z",
     "iopub.status.busy": "2022-05-07T00:13:37.987157Z",
     "iopub.status.idle": "2022-05-07T00:13:38.004222Z",
     "shell.execute_reply": "2022-05-07T00:13:38.003596Z"
    }
   },
   "outputs": [],
   "source": [
    "max_steps = 201\n",
    "max_dims = 512\n",
    "pos_emb = PositionalEncoding(max_steps, max_dims)\n",
    "PE = pos_emb(np.zeros((1, max_steps, max_dims), np.float32))[0].numpy()"
   ]
  },
  {
   "cell_type": "code",
   "execution_count": 73,
   "metadata": {
    "execution": {
     "iopub.execute_input": "2022-05-07T00:13:38.008265Z",
     "iopub.status.busy": "2022-05-07T00:13:38.008061Z",
     "iopub.status.idle": "2022-05-07T00:13:39.568026Z",
     "shell.execute_reply": "2022-05-07T00:13:39.567357Z"
    }
   },
   "outputs": [
    {
     "name": "stdout",
     "output_type": "stream",
     "text": [
      "Saving figure positional_embedding_plot\n"
     ]
    },
    {
     "data": {
      "image/png": "[encoded data removed]",
      "text/plain": [
       "<Figure size 648x360 with 2 Axes>"
      ]
     },
     "metadata": {
      "needs_background": "light"
     },
     "output_type": "display_data"
    }
   ],
   "source": [
    "i1, i2, crop_i = 100, 101, 150\n",
    "p1, p2, p3 = 22, 60, 35\n",
    "fig, (ax1, ax2) = plt.subplots(nrows=2, ncols=1, sharex=True, figsize=(9, 5))\n",
    "ax1.plot([p1, p1], [-1, 1], \"k--\", label=\"$p = {}$\".format(p1))\n",
    "ax1.plot([p2, p2], [-1, 1], \"k--\", label=\"$p = {}$\".format(p2), alpha=0.5)\n",
    "ax1.plot(p3, PE[p3, i1], \"bx\", label=\"$p = {}$\".format(p3))\n",
    "ax1.plot(PE[:,i1], \"b-\", label=\"$i = {}$\".format(i1))\n",
    "ax1.plot(PE[:,i2], \"r-\", label=\"$i = {}$\".format(i2))\n",
    "ax1.plot([p1, p2], [PE[p1, i1], PE[p2, i1]], \"bo\")\n",
    "ax1.plot([p1, p2], [PE[p1, i2], PE[p2, i2]], \"ro\")\n",
    "ax1.legend(loc=\"center right\", fontsize=14, framealpha=0.95)\n",
    "ax1.set_ylabel(\"$P_{(p,i)}$\", rotation=0, fontsize=16)\n",
    "ax1.grid(True, alpha=0.3)\n",
    "ax1.hlines(0, 0, max_steps - 1, color=\"k\", linewidth=1, alpha=0.3)\n",
    "ax1.axis([0, max_steps - 1, -1, 1])\n",
    "ax2.imshow(PE.T[:crop_i], cmap=\"gray\", interpolation=\"bilinear\", aspect=\"auto\")\n",
    "ax2.hlines(i1, 0, max_steps - 1, color=\"b\")\n",
    "cheat = 2 # need to raise the red line a bit, or else it hides the blue one\n",
    "ax2.hlines(i2+cheat, 0, max_steps - 1, color=\"r\")\n",
    "ax2.plot([p1, p1], [0, crop_i], \"k--\")\n",
    "ax2.plot([p2, p2], [0, crop_i], \"k--\", alpha=0.5)\n",
    "ax2.plot([p1, p2], [i2+cheat, i2+cheat], \"ro\")\n",
    "ax2.plot([p1, p2], [i1, i1], \"bo\")\n",
    "ax2.axis([0, max_steps - 1, 0, crop_i])\n",
    "ax2.set_xlabel(\"$p$\", fontsize=16)\n",
    "ax2.set_ylabel(\"$i$\", rotation=0, fontsize=16)\n",
    "save_fig(\"positional_embedding_plot\")\n",
    "plt.show()"
   ]
  },
  {
   "cell_type": "code",
   "execution_count": 74,
   "metadata": {
    "execution": {
     "iopub.execute_input": "2022-05-07T00:13:39.572053Z",
     "iopub.status.busy": "2022-05-07T00:13:39.571863Z",
     "iopub.status.idle": "2022-05-07T00:13:39.662552Z",
     "shell.execute_reply": "2022-05-07T00:13:39.661958Z"
    }
   },
   "outputs": [],
   "source": [
    "embed_size = 512; max_steps = 500; vocab_size = 10000\n",
    "encoder_inputs = keras.layers.Input(shape=[None], dtype=np.int32)\n",
    "decoder_inputs = keras.layers.Input(shape=[None], dtype=np.int32)\n",
    "embeddings = keras.layers.Embedding(vocab_size, embed_size)\n",
    "encoder_embeddings = embeddings(encoder_inputs)\n",
    "decoder_embeddings = embeddings(decoder_inputs)\n",
    "positional_encoding = PositionalEncoding(max_steps, max_dims=embed_size)\n",
    "encoder_in = positional_encoding(encoder_embeddings)\n",
    "decoder_in = positional_encoding(decoder_embeddings)"
   ]
  },
  {
   "cell_type": "markdown",
   "metadata": {},
   "source": [
    "Here is a (very) simplified Transformer (the actual architecture has skip connections, layer norm, dense nets, and most importantly it uses Multi-Head Attention instead of regular Attention):"
   ]
  },
  {
   "cell_type": "code",
   "execution_count": 75,
   "metadata": {
    "execution": {
     "iopub.execute_input": "2022-05-07T00:13:39.665947Z",
     "iopub.status.busy": "2022-05-07T00:13:39.665763Z",
     "iopub.status.idle": "2022-05-07T00:13:39.877788Z",
     "shell.execute_reply": "2022-05-07T00:13:39.877051Z"
    }
   },
   "outputs": [],
   "source": [
    "Z = encoder_in\n",
    "for N in range(6):\n",
    "    Z = keras.layers.Attention(use_scale=True)([Z, Z])\n",
    "\n",
    "encoder_outputs = Z\n",
    "Z = decoder_in\n",
    "for N in range(6):\n",
    "    Z = keras.layers.Attention(use_scale=True, causal=True)([Z, Z])\n",
    "    Z = keras.layers.Attention(use_scale=True)([Z, encoder_outputs])\n",
    "\n",
    "outputs = keras.layers.TimeDistributed(\n",
    "    keras.layers.Dense(vocab_size, activation=\"softmax\"))(Z)"
   ]
  },
  {
   "cell_type": "markdown",
   "metadata": {},
   "source": [
    "Here's a basic implementation of the `MultiHeadAttention` layer. One will likely be added to `keras.layers` in the near future. Note that `Conv1D` layers with `kernel_size=1` (and the default `padding=\"valid\"` and `strides=1`) is equivalent to a `TimeDistributed(Dense(...))` layer."
   ]
  },
  {
   "cell_type": "code",
   "execution_count": 76,
   "metadata": {
    "execution": {
     "iopub.execute_input": "2022-05-07T00:13:39.881044Z",
     "iopub.status.busy": "2022-05-07T00:13:39.880869Z",
     "iopub.status.idle": "2022-05-07T00:13:39.896159Z",
     "shell.execute_reply": "2022-05-07T00:13:39.895354Z"
    }
   },
   "outputs": [],
   "source": [
    "K = keras.backend\n",
    "\n",
    "class MultiHeadAttention(keras.layers.Layer):\n",
    "    def __init__(self, n_heads, causal=False, use_scale=False, **kwargs):\n",
    "        self.n_heads = n_heads\n",
    "        self.causal = causal\n",
    "        self.use_scale = use_scale\n",
    "        super().__init__(**kwargs)\n",
    "    def build(self, batch_input_shape):\n",
    "        self.dims = batch_input_shape[0][-1]\n",
    "        self.q_dims, self.v_dims, self.k_dims = [self.dims // self.n_heads] * 3 # could be hyperparameters instead\n",
    "        self.q_linear = keras.layers.Conv1D(self.n_heads * self.q_dims, kernel_size=1, use_bias=False)\n",
    "        self.v_linear = keras.layers.Conv1D(self.n_heads * self.v_dims, kernel_size=1, use_bias=False)\n",
    "        self.k_linear = keras.layers.Conv1D(self.n_heads * self.k_dims, kernel_size=1, use_bias=False)\n",
    "        self.attention = keras.layers.Attention(causal=self.causal, use_scale=self.use_scale)\n",
    "        self.out_linear = keras.layers.Conv1D(self.dims, kernel_size=1, use_bias=False)\n",
    "        super().build(batch_input_shape)\n",
    "    def _multi_head_linear(self, inputs, linear):\n",
    "        shape = K.concatenate([K.shape(inputs)[:-1], [self.n_heads, -1]])\n",
    "        projected = K.reshape(linear(inputs), shape)\n",
    "        perm = K.permute_dimensions(projected, [0, 2, 1, 3])\n",
    "        return K.reshape(perm, [shape[0] * self.n_heads, shape[1], -1])\n",
    "    def call(self, inputs):\n",
    "        q = inputs[0]\n",
    "        v = inputs[1]\n",
    "        k = inputs[2] if len(inputs) > 2 else v\n",
    "        shape = K.shape(q)\n",
    "        q_proj = self._multi_head_linear(q, self.q_linear)\n",
    "        v_proj = self._multi_head_linear(v, self.v_linear)\n",
    "        k_proj = self._multi_head_linear(k, self.k_linear)\n",
    "        multi_attended = self.attention([q_proj, v_proj, k_proj])\n",
    "        shape_attended = K.shape(multi_attended)\n",
    "        reshaped_attended = K.reshape(multi_attended, [shape[0], self.n_heads, shape_attended[1], shape_attended[2]])\n",
    "        perm = K.permute_dimensions(reshaped_attended, [0, 2, 1, 3])\n",
    "        concat = K.reshape(perm, [shape[0], shape_attended[1], -1])\n",
    "        return self.out_linear(concat)"
   ]
  },
  {
   "cell_type": "code",
   "execution_count": 77,
   "metadata": {
    "execution": {
     "iopub.execute_input": "2022-05-07T00:13:39.899336Z",
     "iopub.status.busy": "2022-05-07T00:13:39.898986Z",
     "iopub.status.idle": "2022-05-07T00:13:39.945726Z",
     "shell.execute_reply": "2022-05-07T00:13:39.945100Z"
    }
   },
   "outputs": [
    {
     "data": {
      "text/plain": [
       "TensorShape([2, 50, 512])"
      ]
     },
     "execution_count": 77,
     "metadata": {},
     "output_type": "execute_result"
    }
   ],
   "source": [
    "Q = np.random.rand(2, 50, 512)\n",
    "V = np.random.rand(2, 80, 512)\n",
    "multi_attn = MultiHeadAttention(8)\n",
    "multi_attn([Q, V]).shape"
   ]
  },
  {
   "cell_type": "markdown",
   "metadata": {},
   "source": [
    "# Exercise solutions"
   ]
  },
  {
   "cell_type": "markdown",
   "metadata": {},
   "source": [
    "## 1. to 7."
   ]
  },
  {
   "cell_type": "markdown",
   "metadata": {},
   "source": [
    "See Appendix A."
   ]
  },
  {
   "cell_type": "markdown",
   "metadata": {},
   "source": [
    "## 8.\n",
    "_Exercise:_ Embedded Reber grammars _were used by Hochreiter and Schmidhuber in [their paper](https://homl.info/93) about LSTMs. They are artificial grammars that produce strings such as \"BPBTSXXVPSEPE.\" Check out Jenny Orr's [nice introduction](https://homl.info/108) to this topic. Choose a particular embedded Reber grammar (such as the one represented on Jenny Orr's page), then train an RNN to identify whether a string respects that grammar or not. You will first need to write a function capable of generating a training batch containing about 50% strings that respect the grammar, and 50% that don't._"
   ]
  },
  {
   "cell_type": "markdown",
   "metadata": {},
   "source": [
    "First we need to build a function that generates strings based on a grammar. The grammar will be represented as a list of possible transitions for each state. A transition specifies the string to output (or a grammar to generate it) and the next state."
   ]
  },
  {
   "cell_type": "code",
   "execution_count": 78,
   "metadata": {
    "execution": {
     "iopub.execute_input": "2022-05-07T00:13:39.949581Z",
     "iopub.status.busy": "2022-05-07T00:13:39.949350Z",
     "iopub.status.idle": "2022-05-07T00:13:39.956897Z",
     "shell.execute_reply": "2022-05-07T00:13:39.956338Z"
    }
   },
   "outputs": [],
   "source": [
    "default_reber_grammar = [\n",
    "    [(\"B\", 1)],           # (state 0) =B=>(state 1)\n",
    "    [(\"T\", 2), (\"P\", 3)], # (state 1) =T=>(state 2) or =P=>(state 3)\n",
    "    [(\"S\", 2), (\"X\", 4)], # (state 2) =S=>(state 2) or =X=>(state 4)\n",
    "    [(\"T\", 3), (\"V\", 5)], # and so on...\n",
    "    [(\"X\", 3), (\"S\", 6)],\n",
    "    [(\"P\", 4), (\"V\", 6)],\n",
    "    [(\"E\", None)]]        # (state 6) =E=>(terminal state)\n",
    "\n",
    "embedded_reber_grammar = [\n",
    "    [(\"B\", 1)],\n",
    "    [(\"T\", 2), (\"P\", 3)],\n",
    "    [(default_reber_grammar, 4)],\n",
    "    [(default_reber_grammar, 5)],\n",
    "    [(\"T\", 6)],\n",
    "    [(\"P\", 6)],\n",
    "    [(\"E\", None)]]\n",
    "\n",
    "def generate_string(grammar):\n",
    "    state = 0\n",
    "    output = []\n",
    "    while state is not None:\n",
    "        index = np.random.randint(len(grammar[state]))\n",
    "        production, state = grammar[state][index]\n",
    "        if isinstance(production, list):\n",
    "            production = generate_string(grammar=production)\n",
    "        output.append(production)\n",
    "    return \"\".join(output)"
   ]
  },
  {
   "cell_type": "markdown",
   "metadata": {},
   "source": [
    "Let's generate a few strings based on the default Reber grammar:"
   ]
  },
  {
   "cell_type": "code",
   "execution_count": 79,
   "metadata": {
    "execution": {
     "iopub.execute_input": "2022-05-07T00:13:39.960020Z",
     "iopub.status.busy": "2022-05-07T00:13:39.959792Z",
     "iopub.status.idle": "2022-05-07T00:13:39.969238Z",
     "shell.execute_reply": "2022-05-07T00:13:39.968687Z"
    }
   },
   "outputs": [
    {
     "name": "stdout",
     "output_type": "stream",
     "text": [
      "BTXXTTVPXTVPXTTVPSE BPVPSE BTXSE BPVVE BPVVE BTSXSE BPTVPXTTTVVE BPVVE BTXSE BTXXVPSE BPTTTTTTTTVVE BTXSE BPVPSE BTXSE BPTVPSE BTXXTVPSE BPVVE BPVVE BPVVE BPTTVVE BPVVE BPVVE BTXXVVE BTXXVVE BTXXVPXVVE "
     ]
    }
   ],
   "source": [
    "np.random.seed(42)\n",
    "\n",
    "for _ in range(25):\n",
    "    print(generate_string(default_reber_grammar), end=\" \")"
   ]
  },
  {
   "cell_type": "markdown",
   "metadata": {},
   "source": [
    "Looks good. Now let's generate a few strings based on the embedded Reber grammar:"
   ]
  },
  {
   "cell_type": "code",
   "execution_count": 80,
   "metadata": {
    "execution": {
     "iopub.execute_input": "2022-05-07T00:13:39.972516Z",
     "iopub.status.busy": "2022-05-07T00:13:39.972212Z",
     "iopub.status.idle": "2022-05-07T00:13:39.981449Z",
     "shell.execute_reply": "2022-05-07T00:13:39.980853Z"
    }
   },
   "outputs": [
    {
     "name": "stdout",
     "output_type": "stream",
     "text": [
      "BTBPTTTVPXTVPXTTVPSETE BPBPTVPSEPE BPBPVVEPE BPBPVPXVVEPE BPBTXXTTTTVVEPE BPBPVPSEPE BPBTXXVPSEPE BPBTSSSSSSSXSEPE BTBPVVETE BPBTXXVVEPE BPBTXXVPSEPE BTBTXXVVETE BPBPVVEPE BPBPVVEPE BPBTSXSEPE BPBPVVEPE BPBPTVPSEPE BPBTXXVVEPE BTBPTVPXVVETE BTBPVVETE BTBTSSSSSSSXXVVETE BPBTSSSXXTTTTVPSEPE BTBPTTVVETE BPBTXXTVVEPE BTBTXSETE "
     ]
    }
   ],
   "source": [
    "np.random.seed(42)\n",
    "\n",
    "for _ in range(25):\n",
    "    print(generate_string(embedded_reber_grammar), end=\" \")"
   ]
  },
  {
   "cell_type": "markdown",
   "metadata": {},
   "source": [
    "Okay, now we need a function to generate strings that do not respect the grammar. We could generate a random string, but the task would be a bit too easy, so instead we will generate a string that respects the grammar, and we will corrupt it by changing just one character:"
   ]
  },
  {
   "cell_type": "code",
   "execution_count": 81,
   "metadata": {
    "execution": {
     "iopub.execute_input": "2022-05-07T00:13:39.984154Z",
     "iopub.status.busy": "2022-05-07T00:13:39.983891Z",
     "iopub.status.idle": "2022-05-07T00:13:39.988967Z",
     "shell.execute_reply": "2022-05-07T00:13:39.988293Z"
    }
   },
   "outputs": [],
   "source": [
    "POSSIBLE_CHARS = \"BEPSTVX\"\n",
    "\n",
    "def generate_corrupted_string(grammar, chars=POSSIBLE_CHARS):\n",
    "    good_string = generate_string(grammar)\n",
    "    index = np.random.randint(len(good_string))\n",
    "    good_char = good_string[index]\n",
    "    bad_char = np.random.choice(sorted(set(chars) - set(good_char)))\n",
    "    return good_string[:index] + bad_char + good_string[index + 1:]"
   ]
  },
  {
   "cell_type": "markdown",
   "metadata": {},
   "source": [
    "Let's look at a few corrupted strings:"
   ]
  },
  {
   "cell_type": "code",
   "execution_count": 82,
   "metadata": {
    "execution": {
     "iopub.execute_input": "2022-05-07T00:13:39.991642Z",
     "iopub.status.busy": "2022-05-07T00:13:39.991375Z",
     "iopub.status.idle": "2022-05-07T00:13:40.002092Z",
     "shell.execute_reply": "2022-05-07T00:13:40.001253Z"
    }
   },
   "outputs": [
    {
     "name": "stdout",
     "output_type": "stream",
     "text": [
      "BTBPTTTPPXTVPXTTVPSETE BPBTXEEPE BPBPTVVVEPE BPBTSSSSXSETE BPTTXSEPE BTBPVPXTTTTTTEVETE BPBTXXSVEPE BSBPTTVPSETE BPBXVVEPE BEBTXSETE BPBPVPSXPE BTBPVVVETE BPBTSXSETE BPBPTTTPTTTTTVPSEPE BTBTXXTTSTVPSETE BBBTXSETE BPBTPXSEPE BPBPVPXTTTTVPXTVPXVPXTTTVVEVE BTBXXXTVPSETE BEBTSSSSSXXVPXTVVETE BTBXTTVVETE BPBTXSTPE BTBTXXTTTVPSBTE BTBTXSETX BTBTSXSSTE "
     ]
    }
   ],
   "source": [
    "np.random.seed(42)\n",
    "\n",
    "for _ in range(25):\n",
    "    print(generate_corrupted_string(embedded_reber_grammar), end=\" \")"
   ]
  },
  {
   "cell_type": "markdown",
   "metadata": {},
   "source": [
    "We cannot feed strings directly to an RNN, so we need to encode them somehow. One option would be to one-hot encode each character. Another option is to use embeddings. Let's go for the second option (but since there are just a handful of characters, one-hot encoding would probably be a good option as well). For embeddings to work, we need to convert each string into a sequence of character IDs. Let's write a function for that, using each character's index in the string of possible characters \"BEPSTVX\":"
   ]
  },
  {
   "cell_type": "code",
   "execution_count": 83,
   "metadata": {
    "execution": {
     "iopub.execute_input": "2022-05-07T00:13:40.004955Z",
     "iopub.status.busy": "2022-05-07T00:13:40.004692Z",
     "iopub.status.idle": "2022-05-07T00:13:40.008422Z",
     "shell.execute_reply": "2022-05-07T00:13:40.007714Z"
    }
   },
   "outputs": [],
   "source": [
    "def string_to_ids(s, chars=POSSIBLE_CHARS):\n",
    "    return [chars.index(c) for c in s]"
   ]
  },
  {
   "cell_type": "code",
   "execution_count": 84,
   "metadata": {
    "execution": {
     "iopub.execute_input": "2022-05-07T00:13:40.011084Z",
     "iopub.status.busy": "2022-05-07T00:13:40.010856Z",
     "iopub.status.idle": "2022-05-07T00:13:40.016250Z",
     "shell.execute_reply": "2022-05-07T00:13:40.015542Z"
    }
   },
   "outputs": [
    {
     "data": {
      "text/plain": [
       "[0, 4, 4, 4, 6, 6, 5, 5, 1, 4, 1]"
      ]
     },
     "execution_count": 84,
     "metadata": {},
     "output_type": "execute_result"
    }
   ],
   "source": [
    "string_to_ids(\"BTTTXXVVETE\")"
   ]
  },
  {
   "cell_type": "markdown",
   "metadata": {},
   "source": [
    "We can now generate the dataset, with 50% good strings, and 50% bad strings:"
   ]
  },
  {
   "cell_type": "code",
   "execution_count": 85,
   "metadata": {
    "execution": {
     "iopub.execute_input": "2022-05-07T00:13:40.018995Z",
     "iopub.status.busy": "2022-05-07T00:13:40.018738Z",
     "iopub.status.idle": "2022-05-07T00:13:40.024453Z",
     "shell.execute_reply": "2022-05-07T00:13:40.023816Z"
    }
   },
   "outputs": [],
   "source": [
    "def generate_dataset(size):\n",
    "    good_strings = [string_to_ids(generate_string(embedded_reber_grammar))\n",
    "                    for _ in range(size // 2)]\n",
    "    bad_strings = [string_to_ids(generate_corrupted_string(embedded_reber_grammar))\n",
    "                   for _ in range(size - size // 2)]\n",
    "    all_strings = good_strings + bad_strings\n",
    "    X = tf.ragged.constant(all_strings, ragged_rank=1)\n",
    "    y = np.array([[1.] for _ in range(len(good_strings))] +\n",
    "                 [[0.] for _ in range(len(bad_strings))])\n",
    "    return X, y"
   ]
  },
  {
   "cell_type": "code",
   "execution_count": 86,
   "metadata": {
    "execution": {
     "iopub.execute_input": "2022-05-07T00:13:40.027131Z",
     "iopub.status.busy": "2022-05-07T00:13:40.026875Z",
     "iopub.status.idle": "2022-05-07T00:13:43.059124Z",
     "shell.execute_reply": "2022-05-07T00:13:43.058186Z"
    }
   },
   "outputs": [],
   "source": [
    "np.random.seed(42)\n",
    "\n",
    "X_train, y_train = generate_dataset(10000)\n",
    "X_valid, y_valid = generate_dataset(2000)"
   ]
  },
  {
   "cell_type": "markdown",
   "metadata": {},
   "source": [
    "Let's take a look at the first training sequence:"
   ]
  },
  {
   "cell_type": "code",
   "execution_count": 87,
   "metadata": {
    "execution": {
     "iopub.execute_input": "2022-05-07T00:13:43.063822Z",
     "iopub.status.busy": "2022-05-07T00:13:43.063534Z",
     "iopub.status.idle": "2022-05-07T00:13:43.073033Z",
     "shell.execute_reply": "2022-05-07T00:13:43.072270Z"
    }
   },
   "outputs": [
    {
     "data": {
      "text/plain": [
       "<tf.Tensor: shape=(22,), dtype=int32, numpy=\n",
       "array([0, 4, 0, 2, 4, 4, 4, 5, 2, 6, 4, 5, 2, 6, 4, 4, 5, 2, 3, 1, 4, 1],\n",
       "      dtype=int32)>"
      ]
     },
     "execution_count": 87,
     "metadata": {},
     "output_type": "execute_result"
    }
   ],
   "source": [
    "X_train[0]"
   ]
  },
  {
   "cell_type": "markdown",
   "metadata": {},
   "source": [
    "What class does it belong to?"
   ]
  },
  {
   "cell_type": "code",
   "execution_count": 88,
   "metadata": {
    "execution": {
     "iopub.execute_input": "2022-05-07T00:13:43.076704Z",
     "iopub.status.busy": "2022-05-07T00:13:43.076495Z",
     "iopub.status.idle": "2022-05-07T00:13:43.082161Z",
     "shell.execute_reply": "2022-05-07T00:13:43.081175Z"
    }
   },
   "outputs": [
    {
     "data": {
      "text/plain": [
       "array([1.])"
      ]
     },
     "execution_count": 88,
     "metadata": {},
     "output_type": "execute_result"
    }
   ],
   "source": [
    "y_train[0]"
   ]
  },
  {
   "cell_type": "markdown",
   "metadata": {},
   "source": [
    "Perfect! We are ready to create the RNN to identify good strings. We build a simple sequence binary classifier:"
   ]
  },
  {
   "cell_type": "code",
   "execution_count": 89,
   "metadata": {
    "execution": {
     "iopub.execute_input": "2022-05-07T00:13:43.086968Z",
     "iopub.status.busy": "2022-05-07T00:13:43.086542Z",
     "iopub.status.idle": "2022-05-07T00:20:00.219201Z",
     "shell.execute_reply": "2022-05-07T00:20:00.218458Z"
    }
   },
   "outputs": [
    {
     "name": "stdout",
     "output_type": "stream",
     "text": [
      "Epoch 1/20\n"
     ]
    },
    {
     "name": "stderr",
     "output_type": "stream",
     "text": [
      "/home/lid/miniconda3/lib/python3.7/site-packages/tensorflow/python/framework/indexed_slices.py:450: UserWarning: Converting sparse IndexedSlices(IndexedSlices(indices=Tensor(\"gradient_tape/sequential_6/gru_12/RaggedToTensor/boolean_mask_1/GatherV2:0\", shape=(None,), dtype=int32), values=Tensor(\"gradient_tape/sequential_6/gru_12/RaggedToTensor/boolean_mask/GatherV2:0\", shape=(None, 5), dtype=float32), dense_shape=Tensor(\"gradient_tape/sequential_6/gru_12/RaggedToTensor/Shape:0\", shape=(2,), dtype=int32))) to a dense Tensor of unknown shape. This may consume a large amount of memory.\n",
      "  \"shape. This may consume a large amount of memory.\" % value)\n"
     ]
    },
    {
     "name": "stdout",
     "output_type": "stream",
     "text": [
      "313/313 [==============================] - 21s 63ms/step - loss: 0.6910 - accuracy: 0.5095 - val_loss: 0.6825 - val_accuracy: 0.5645\n",
      "Epoch 2/20\n",
      "313/313 [==============================] - 20s 64ms/step - loss: 0.6678 - accuracy: 0.5659 - val_loss: 0.6635 - val_accuracy: 0.6105\n",
      "Epoch 3/20\n",
      "313/313 [==============================] - 20s 63ms/step - loss: 0.6504 - accuracy: 0.5766 - val_loss: 0.6521 - val_accuracy: 0.6110\n",
      "Epoch 4/20\n",
      "313/313 [==============================] - 19s 61ms/step - loss: 0.6347 - accuracy: 0.5980 - val_loss: 0.6224 - val_accuracy: 0.6445\n",
      "Epoch 5/20\n",
      "313/313 [==============================] - 20s 63ms/step - loss: 0.6054 - accuracy: 0.6361 - val_loss: 0.5779 - val_accuracy: 0.6980\n",
      "Epoch 6/20\n",
      "313/313 [==============================] - 17s 55ms/step - loss: 0.5414 - accuracy: 0.7093 - val_loss: 0.4695 - val_accuracy: 0.7795\n",
      "Epoch 7/20\n",
      "313/313 [==============================] - 18s 56ms/step - loss: 0.4099 - accuracy: 0.8192 - val_loss: 0.4100 - val_accuracy: 0.8200\n",
      "Epoch 8/20\n",
      "313/313 [==============================] - 19s 60ms/step - loss: 0.3460 - accuracy: 0.8573 - val_loss: 0.3736 - val_accuracy: 0.7915\n",
      "Epoch 9/20\n",
      "313/313 [==============================] - 18s 58ms/step - loss: 0.2456 - accuracy: 0.9166 - val_loss: 0.2243 - val_accuracy: 0.9280\n",
      "Epoch 10/20\n",
      "313/313 [==============================] - 19s 62ms/step - loss: 0.1728 - accuracy: 0.9472 - val_loss: 0.1765 - val_accuracy: 0.9525\n",
      "Epoch 11/20\n",
      "313/313 [==============================] - 19s 61ms/step - loss: 0.1413 - accuracy: 0.9575 - val_loss: 0.0926 - val_accuracy: 0.9770\n",
      "Epoch 12/20\n",
      "313/313 [==============================] - 20s 63ms/step - loss: 0.0785 - accuracy: 0.9823 - val_loss: 0.0642 - val_accuracy: 0.9855\n",
      "Epoch 13/20\n",
      "313/313 [==============================] - 19s 61ms/step - loss: 0.0488 - accuracy: 0.9863 - val_loss: 0.0427 - val_accuracy: 0.9905\n",
      "Epoch 14/20\n",
      "313/313 [==============================] - 17s 56ms/step - loss: 0.0386 - accuracy: 0.9905 - val_loss: 0.1880 - val_accuracy: 0.9395\n",
      "Epoch 15/20\n",
      "313/313 [==============================] - 17s 56ms/step - loss: 0.0820 - accuracy: 0.9767 - val_loss: 0.0296 - val_accuracy: 0.9935\n",
      "Epoch 16/20\n",
      "313/313 [==============================] - 19s 60ms/step - loss: 0.0270 - accuracy: 0.9939 - val_loss: 0.0144 - val_accuracy: 0.9975\n",
      "Epoch 17/20\n",
      "313/313 [==============================] - 19s 62ms/step - loss: 0.0181 - accuracy: 0.9963 - val_loss: 0.0180 - val_accuracy: 0.9965\n",
      "Epoch 18/20\n",
      "313/313 [==============================] - 19s 60ms/step - loss: 0.0324 - accuracy: 0.9929 - val_loss: 0.1512 - val_accuracy: 0.9355\n",
      "Epoch 19/20\n",
      "313/313 [==============================] - 18s 57ms/step - loss: 0.0382 - accuracy: 0.9910 - val_loss: 0.0132 - val_accuracy: 0.9975\n",
      "Epoch 20/20\n",
      "313/313 [==============================] - 18s 59ms/step - loss: 0.0080 - accuracy: 0.9984 - val_loss: 0.0017 - val_accuracy: 1.0000\n"
     ]
    }
   ],
   "source": [
    "np.random.seed(42)\n",
    "tf.random.set_seed(42)\n",
    "\n",
    "embedding_size = 5\n",
    "\n",
    "model = keras.models.Sequential([\n",
    "    keras.layers.InputLayer(input_shape=[None], dtype=tf.int32, ragged=True),\n",
    "    keras.layers.Embedding(input_dim=len(POSSIBLE_CHARS), output_dim=embedding_size),\n",
    "    keras.layers.GRU(30),\n",
    "    keras.layers.Dense(1, activation=\"sigmoid\")\n",
    "])\n",
    "optimizer = keras.optimizers.SGD(learning_rate=0.02, momentum = 0.95, nesterov=True)\n",
    "model.compile(loss=\"binary_crossentropy\", optimizer=optimizer, metrics=[\"accuracy\"])\n",
    "history = model.fit(X_train, y_train, epochs=20, validation_data=(X_valid, y_valid))"
   ]
  },
  {
   "cell_type": "markdown",
   "metadata": {},
   "source": [
    "Now let's test our RNN on two tricky strings: the first one is bad while the second one is good. They only differ by the second to last character. If the RNN gets this right, it shows that it managed to notice the pattern that the second letter should always be equal to the second to last letter. That requires a fairly long short-term memory (which is the reason why we used a GRU cell)."
   ]
  },
  {
   "cell_type": "code",
   "execution_count": 90,
   "metadata": {
    "execution": {
     "iopub.execute_input": "2022-05-07T00:20:00.223502Z",
     "iopub.status.busy": "2022-05-07T00:20:00.223180Z",
     "iopub.status.idle": "2022-05-07T00:20:00.580119Z",
     "shell.execute_reply": "2022-05-07T00:20:00.579426Z"
    }
   },
   "outputs": [
    {
     "name": "stdout",
     "output_type": "stream",
     "text": [
      "\n",
      "Estimated probability that these are Reber strings:\n",
      "BPBTSSSSSSSXXTTVPXVPXTTTTTVVETE: 1.24%\n",
      "BPBTSSSSSSSXXTTVPXVPXTTTTTVVEPE: 99.74%\n"
     ]
    }
   ],
   "source": [
    "test_strings = [\"BPBTSSSSSSSXXTTVPXVPXTTTTTVVETE\",\n",
    "                \"BPBTSSSSSSSXXTTVPXVPXTTTTTVVEPE\"]\n",
    "X_test = tf.ragged.constant([string_to_ids(s) for s in test_strings], ragged_rank=1)\n",
    "\n",
    "y_proba = model.predict(X_test)\n",
    "print()\n",
    "print(\"Estimated probability that these are Reber strings:\")\n",
    "for index, string in enumerate(test_strings):\n",
    "    print(\"{}: {:.2f}%\".format(string, 100 * y_proba[index][0]))"
   ]
  },
  {
   "cell_type": "markdown",
   "metadata": {},
   "source": [
    "Ta-da! It worked fine. The RNN found the correct answers with very high confidence. :)"
   ]
  },
  {
   "cell_type": "markdown",
   "metadata": {},
   "source": [
    "## 9.\n",
    "_Exercise: Train an Encoder–Decoder model that can convert a date string from one format to another (e.g., from \"April 22, 2019\" to \"2019-04-22\")._"
   ]
  },
  {
   "cell_type": "markdown",
   "metadata": {},
   "source": [
    "Let's start by creating the dataset. We will use random days between 1000-01-01 and 9999-12-31:"
   ]
  },
  {
   "cell_type": "code",
   "execution_count": 91,
   "metadata": {
    "execution": {
     "iopub.execute_input": "2022-05-07T00:20:00.583312Z",
     "iopub.status.busy": "2022-05-07T00:20:00.583080Z",
     "iopub.status.idle": "2022-05-07T00:20:00.589512Z",
     "shell.execute_reply": "2022-05-07T00:20:00.588811Z"
    }
   },
   "outputs": [],
   "source": [
    "from datetime import date\n",
    "\n",
    "# cannot use strftime()'s %B format since it depends on the locale\n",
    "MONTHS = [\"January\", \"February\", \"March\", \"April\", \"May\", \"June\",\n",
    "          \"July\", \"August\", \"September\", \"October\", \"November\", \"December\"]\n",
    "\n",
    "def random_dates(n_dates):\n",
    "    min_date = date(1000, 1, 1).toordinal()\n",
    "    max_date = date(9999, 12, 31).toordinal()\n",
    "\n",
    "    ordinals = np.random.randint(max_date - min_date, size=n_dates) + min_date\n",
    "    dates = [date.fromordinal(ordinal) for ordinal in ordinals]\n",
    "\n",
    "    x = [MONTHS[dt.month - 1] + \" \" + dt.strftime(\"%d, %Y\") for dt in dates]\n",
    "    y = [dt.isoformat() for dt in dates]\n",
    "    return x, y"
   ]
  },
  {
   "cell_type": "markdown",
   "metadata": {},
   "source": [
    "Here are a few random dates, displayed in both the input format and the target format:"
   ]
  },
  {
   "cell_type": "code",
   "execution_count": 92,
   "metadata": {
    "execution": {
     "iopub.execute_input": "2022-05-07T00:20:00.592516Z",
     "iopub.status.busy": "2022-05-07T00:20:00.592226Z",
     "iopub.status.idle": "2022-05-07T00:20:00.597882Z",
     "shell.execute_reply": "2022-05-07T00:20:00.597291Z"
    }
   },
   "outputs": [
    {
     "name": "stdout",
     "output_type": "stream",
     "text": [
      "Input                    Target                   \n",
      "--------------------------------------------------\n",
      "September 20, 7075       7075-09-20               \n",
      "May 15, 8579             8579-05-15               \n",
      "January 11, 7103         7103-01-11               \n"
     ]
    }
   ],
   "source": [
    "np.random.seed(42)\n",
    "\n",
    "n_dates = 3\n",
    "x_example, y_example = random_dates(n_dates)\n",
    "print(\"{:25s}{:25s}\".format(\"Input\", \"Target\"))\n",
    "print(\"-\" * 50)\n",
    "for idx in range(n_dates):\n",
    "    print(\"{:25s}{:25s}\".format(x_example[idx], y_example[idx]))"
   ]
  },
  {
   "cell_type": "markdown",
   "metadata": {},
   "source": [
    "Let's get the list of all possible characters in the inputs:"
   ]
  },
  {
   "cell_type": "code",
   "execution_count": 93,
   "metadata": {
    "execution": {
     "iopub.execute_input": "2022-05-07T00:20:00.600836Z",
     "iopub.status.busy": "2022-05-07T00:20:00.600566Z",
     "iopub.status.idle": "2022-05-07T00:20:00.608544Z",
     "shell.execute_reply": "2022-05-07T00:20:00.607938Z"
    }
   },
   "outputs": [
    {
     "data": {
      "text/plain": [
       "' ,0123456789ADFJMNOSabceghilmnoprstuvy'"
      ]
     },
     "execution_count": 93,
     "metadata": {},
     "output_type": "execute_result"
    }
   ],
   "source": [
    "INPUT_CHARS = \"\".join(sorted(set(\"\".join(MONTHS) + \"0123456789, \")))\n",
    "INPUT_CHARS"
   ]
  },
  {
   "cell_type": "markdown",
   "metadata": {},
   "source": [
    "And here's the list of possible characters in the outputs:"
   ]
  },
  {
   "cell_type": "code",
   "execution_count": 94,
   "metadata": {
    "execution": {
     "iopub.execute_input": "2022-05-07T00:20:00.611586Z",
     "iopub.status.busy": "2022-05-07T00:20:00.611295Z",
     "iopub.status.idle": "2022-05-07T00:20:00.614632Z",
     "shell.execute_reply": "2022-05-07T00:20:00.614007Z"
    }
   },
   "outputs": [],
   "source": [
    "OUTPUT_CHARS = \"0123456789-\""
   ]
  },
  {
   "cell_type": "markdown",
   "metadata": {},
   "source": [
    "Let's write a function to convert a string to a list of character IDs, as we did in the previous exercise:"
   ]
  },
  {
   "cell_type": "code",
   "execution_count": 95,
   "metadata": {
    "execution": {
     "iopub.execute_input": "2022-05-07T00:20:00.617616Z",
     "iopub.status.busy": "2022-05-07T00:20:00.617358Z",
     "iopub.status.idle": "2022-05-07T00:20:00.620903Z",
     "shell.execute_reply": "2022-05-07T00:20:00.620285Z"
    }
   },
   "outputs": [],
   "source": [
    "def date_str_to_ids(date_str, chars=INPUT_CHARS):\n",
    "    return [chars.index(c) for c in date_str]"
   ]
  },
  {
   "cell_type": "code",
   "execution_count": 96,
   "metadata": {
    "execution": {
     "iopub.execute_input": "2022-05-07T00:20:00.623993Z",
     "iopub.status.busy": "2022-05-07T00:20:00.623789Z",
     "iopub.status.idle": "2022-05-07T00:20:00.628577Z",
     "shell.execute_reply": "2022-05-07T00:20:00.627963Z"
    }
   },
   "outputs": [
    {
     "data": {
      "text/plain": [
       "[19, 23, 31, 34, 23, 28, 21, 23, 32, 0, 4, 2, 1, 0, 9, 2, 9, 7]"
      ]
     },
     "execution_count": 96,
     "metadata": {},
     "output_type": "execute_result"
    }
   ],
   "source": [
    "date_str_to_ids(x_example[0], INPUT_CHARS)"
   ]
  },
  {
   "cell_type": "code",
   "execution_count": 97,
   "metadata": {
    "execution": {
     "iopub.execute_input": "2022-05-07T00:20:00.632717Z",
     "iopub.status.busy": "2022-05-07T00:20:00.632484Z",
     "iopub.status.idle": "2022-05-07T00:20:00.637285Z",
     "shell.execute_reply": "2022-05-07T00:20:00.636674Z"
    }
   },
   "outputs": [
    {
     "data": {
      "text/plain": [
       "[7, 0, 7, 5, 10, 0, 9, 10, 2, 0]"
      ]
     },
     "execution_count": 97,
     "metadata": {},
     "output_type": "execute_result"
    }
   ],
   "source": [
    "date_str_to_ids(y_example[0], OUTPUT_CHARS)"
   ]
  },
  {
   "cell_type": "code",
   "execution_count": 98,
   "metadata": {
    "execution": {
     "iopub.execute_input": "2022-05-07T00:20:00.641498Z",
     "iopub.status.busy": "2022-05-07T00:20:00.641196Z",
     "iopub.status.idle": "2022-05-07T00:20:00.645971Z",
     "shell.execute_reply": "2022-05-07T00:20:00.645317Z"
    }
   },
   "outputs": [],
   "source": [
    "def prepare_date_strs(date_strs, chars=INPUT_CHARS):\n",
    "    X_ids = [date_str_to_ids(dt, chars) for dt in date_strs]\n",
    "    X = tf.ragged.constant(X_ids, ragged_rank=1)\n",
    "    return (X + 1).to_tensor() # using 0 as the padding token ID\n",
    "\n",
    "def create_dataset(n_dates):\n",
    "    x, y = random_dates(n_dates)\n",
    "    return prepare_date_strs(x, INPUT_CHARS), prepare_date_strs(y, OUTPUT_CHARS)"
   ]
  },
  {
   "cell_type": "code",
   "execution_count": 99,
   "metadata": {
    "execution": {
     "iopub.execute_input": "2022-05-07T00:20:00.649338Z",
     "iopub.status.busy": "2022-05-07T00:20:00.649104Z",
     "iopub.status.idle": "2022-05-07T00:20:05.738797Z",
     "shell.execute_reply": "2022-05-07T00:20:05.737913Z"
    }
   },
   "outputs": [],
   "source": [
    "np.random.seed(42)\n",
    "\n",
    "X_train, Y_train = create_dataset(10000)\n",
    "X_valid, Y_valid = create_dataset(2000)\n",
    "X_test, Y_test = create_dataset(2000)"
   ]
  },
  {
   "cell_type": "code",
   "execution_count": 100,
   "metadata": {
    "execution": {
     "iopub.execute_input": "2022-05-07T00:20:05.743943Z",
     "iopub.status.busy": "2022-05-07T00:20:05.743765Z",
     "iopub.status.idle": "2022-05-07T00:20:05.750244Z",
     "shell.execute_reply": "2022-05-07T00:20:05.749178Z"
    }
   },
   "outputs": [
    {
     "data": {
      "text/plain": [
       "<tf.Tensor: shape=(10,), dtype=int32, numpy=array([ 8,  1,  8,  6, 11,  1, 10, 11,  3,  1], dtype=int32)>"
      ]
     },
     "execution_count": 100,
     "metadata": {},
     "output_type": "execute_result"
    }
   ],
   "source": [
    "Y_train[0]"
   ]
  },
  {
   "cell_type": "markdown",
   "metadata": {},
   "source": [
    "### First version: a very basic seq2seq model"
   ]
  },
  {
   "cell_type": "markdown",
   "metadata": {},
   "source": [
    "Let's first try the simplest possible model: we feed in the input sequence, which first goes through the encoder (an embedding layer followed by a single LSTM layer), which outputs a vector, then it goes through a decoder (a single LSTM layer, followed by a dense output layer), which outputs a sequence of vectors, each representing the estimated probabilities for all possible output character.\n",
    "\n",
    "Since the decoder expects a sequence as input, we repeat the vector (which is output by the encoder) as many times as the longest possible output sequence."
   ]
  },
  {
   "cell_type": "code",
   "execution_count": 101,
   "metadata": {
    "execution": {
     "iopub.execute_input": "2022-05-07T00:20:05.755658Z",
     "iopub.status.busy": "2022-05-07T00:20:05.755194Z",
     "iopub.status.idle": "2022-05-07T00:20:59.216244Z",
     "shell.execute_reply": "2022-05-07T00:20:59.215512Z"
    }
   },
   "outputs": [
    {
     "name": "stdout",
     "output_type": "stream",
     "text": [
      "Epoch 1/20\n",
      "313/313 [==============================] - 7s 10ms/step - loss: 1.8215 - accuracy: 0.3470 - val_loss: 1.3890 - val_accuracy: 0.4821\n",
      "Epoch 2/20\n",
      "313/313 [==============================] - 2s 7ms/step - loss: 1.4318 - accuracy: 0.4820 - val_loss: 1.1972 - val_accuracy: 0.5662\n",
      "Epoch 3/20\n",
      "313/313 [==============================] - 2s 7ms/step - loss: 1.0699 - accuracy: 0.6129 - val_loss: 1.0856 - val_accuracy: 0.6061\n",
      "Epoch 4/20\n",
      "313/313 [==============================] - 2s 7ms/step - loss: 0.9964 - accuracy: 0.6471 - val_loss: 1.0460 - val_accuracy: 0.6313\n",
      "Epoch 5/20\n",
      "313/313 [==============================] - 2s 8ms/step - loss: 0.7590 - accuracy: 0.7150 - val_loss: 0.6583 - val_accuracy: 0.7430\n",
      "Epoch 6/20\n",
      "313/313 [==============================] - 2s 7ms/step - loss: 0.5603 - accuracy: 0.7781 - val_loss: 0.4835 - val_accuracy: 0.8090\n",
      "Epoch 7/20\n",
      "313/313 [==============================] - 2s 7ms/step - loss: 0.6792 - accuracy: 0.7604 - val_loss: 0.5660 - val_accuracy: 0.7993\n",
      "Epoch 8/20\n",
      "313/313 [==============================] - 2s 7ms/step - loss: 0.3960 - accuracy: 0.8629 - val_loss: 0.3015 - val_accuracy: 0.8978\n",
      "Epoch 9/20\n",
      "313/313 [==============================] - 2s 8ms/step - loss: 0.3029 - accuracy: 0.9075 - val_loss: 0.1890 - val_accuracy: 0.9498\n",
      "Epoch 10/20\n",
      "313/313 [==============================] - 2s 8ms/step - loss: 0.1312 - accuracy: 0.9702 - val_loss: 0.1008 - val_accuracy: 0.9786\n",
      "Epoch 11/20\n",
      "313/313 [==============================] - 2s 8ms/step - loss: 0.0708 - accuracy: 0.9882 - val_loss: 0.0572 - val_accuracy: 0.9907\n",
      "Epoch 12/20\n",
      "313/313 [==============================] - 2s 7ms/step - loss: 0.1370 - accuracy: 0.9721 - val_loss: 0.0463 - val_accuracy: 0.9934\n",
      "Epoch 13/20\n",
      "313/313 [==============================] - 2s 8ms/step - loss: 0.0321 - accuracy: 0.9970 - val_loss: 0.0277 - val_accuracy: 0.9969\n",
      "Epoch 14/20\n",
      "313/313 [==============================] - 2s 8ms/step - loss: 0.0199 - accuracy: 0.9989 - val_loss: 0.0191 - val_accuracy: 0.9987\n",
      "Epoch 15/20\n",
      "313/313 [==============================] - 2s 7ms/step - loss: 0.0134 - accuracy: 0.9995 - val_loss: 0.0133 - val_accuracy: 0.9994\n",
      "Epoch 16/20\n",
      "313/313 [==============================] - 2s 7ms/step - loss: 0.0094 - accuracy: 0.9998 - val_loss: 0.0098 - val_accuracy: 0.9995\n",
      "Epoch 17/20\n",
      "313/313 [==============================] - 3s 9ms/step - loss: 0.0068 - accuracy: 0.9999 - val_loss: 0.0072 - val_accuracy: 0.9998\n",
      "Epoch 18/20\n",
      "313/313 [==============================] - 3s 9ms/step - loss: 0.0051 - accuracy: 1.0000 - val_loss: 0.0055 - val_accuracy: 0.9999\n",
      "Epoch 19/20\n",
      "313/313 [==============================] - 3s 9ms/step - loss: 0.0038 - accuracy: 1.0000 - val_loss: 0.0043 - val_accuracy: 0.9999\n",
      "Epoch 20/20\n",
      "313/313 [==============================] - 3s 9ms/step - loss: 0.0030 - accuracy: 1.0000 - val_loss: 0.0033 - val_accuracy: 1.0000\n"
     ]
    }
   ],
   "source": [
    "embedding_size = 32\n",
    "max_output_length = Y_train.shape[1]\n",
    "\n",
    "np.random.seed(42)\n",
    "tf.random.set_seed(42)\n",
    "\n",
    "encoder = keras.models.Sequential([\n",
    "    keras.layers.Embedding(input_dim=len(INPUT_CHARS) + 1,\n",
    "                           output_dim=embedding_size,\n",
    "                           input_shape=[None]),\n",
    "    keras.layers.LSTM(128)\n",
    "])\n",
    "\n",
    "decoder = keras.models.Sequential([\n",
    "    keras.layers.LSTM(128, return_sequences=True),\n",
    "    keras.layers.Dense(len(OUTPUT_CHARS) + 1, activation=\"softmax\")\n",
    "])\n",
    "\n",
    "model = keras.models.Sequential([\n",
    "    encoder,\n",
    "    keras.layers.RepeatVector(max_output_length),\n",
    "    decoder\n",
    "])\n",
    "\n",
    "optimizer = keras.optimizers.Nadam()\n",
    "model.compile(loss=\"sparse_categorical_crossentropy\", optimizer=optimizer,\n",
    "              metrics=[\"accuracy\"])\n",
    "history = model.fit(X_train, Y_train, epochs=20,\n",
    "                    validation_data=(X_valid, Y_valid))"
   ]
  },
  {
   "cell_type": "markdown",
   "metadata": {},
   "source": [
    "Looks great, we reach 100% validation accuracy! Let's use the model to make some predictions. We will need to be able to convert a sequence of character IDs to a readable string:"
   ]
  },
  {
   "cell_type": "code",
   "execution_count": 102,
   "metadata": {
    "execution": {
     "iopub.execute_input": "2022-05-07T00:20:59.220522Z",
     "iopub.status.busy": "2022-05-07T00:20:59.220174Z",
     "iopub.status.idle": "2022-05-07T00:20:59.224960Z",
     "shell.execute_reply": "2022-05-07T00:20:59.224142Z"
    }
   },
   "outputs": [],
   "source": [
    "def ids_to_date_strs(ids, chars=OUTPUT_CHARS):\n",
    "    return [\"\".join([(\"?\" + chars)[index] for index in sequence])\n",
    "            for sequence in ids]"
   ]
  },
  {
   "cell_type": "markdown",
   "metadata": {},
   "source": [
    "Now we can use the model to convert some dates"
   ]
  },
  {
   "cell_type": "code",
   "execution_count": 103,
   "metadata": {
    "execution": {
     "iopub.execute_input": "2022-05-07T00:20:59.228324Z",
     "iopub.status.busy": "2022-05-07T00:20:59.227744Z",
     "iopub.status.idle": "2022-05-07T00:20:59.233863Z",
     "shell.execute_reply": "2022-05-07T00:20:59.233213Z"
    }
   },
   "outputs": [],
   "source": [
    "X_new = prepare_date_strs([\"September 17, 2009\", \"July 14, 1789\"])"
   ]
  },
  {
   "cell_type": "code",
   "execution_count": 104,
   "metadata": {
    "execution": {
     "iopub.execute_input": "2022-05-07T00:20:59.237053Z",
     "iopub.status.busy": "2022-05-07T00:20:59.236760Z",
     "iopub.status.idle": "2022-05-07T00:21:00.148654Z",
     "shell.execute_reply": "2022-05-07T00:21:00.147919Z"
    }
   },
   "outputs": [
    {
     "name": "stdout",
     "output_type": "stream",
     "text": [
      "2009-09-17\n",
      "1789-07-14\n"
     ]
    }
   ],
   "source": [
    "#ids = model.predict_classes(X_new)\n",
    "ids = np.argmax(model.predict(X_new), axis=-1)\n",
    "for date_str in ids_to_date_strs(ids):\n",
    "    print(date_str)"
   ]
  },
  {
   "cell_type": "markdown",
   "metadata": {},
   "source": [
    "Perfect! :)"
   ]
  },
  {
   "cell_type": "markdown",
   "metadata": {},
   "source": [
    "However, since the model was only trained on input strings of length 18 (which is the length of the longest date), it does not perform well if we try to use it to make predictions on shorter sequences:"
   ]
  },
  {
   "cell_type": "code",
   "execution_count": 105,
   "metadata": {
    "execution": {
     "iopub.execute_input": "2022-05-07T00:21:00.152114Z",
     "iopub.status.busy": "2022-05-07T00:21:00.151609Z",
     "iopub.status.idle": "2022-05-07T00:21:00.158404Z",
     "shell.execute_reply": "2022-05-07T00:21:00.157806Z"
    }
   },
   "outputs": [],
   "source": [
    "X_new = prepare_date_strs([\"May 02, 2020\", \"July 14, 1789\"])"
   ]
  },
  {
   "cell_type": "code",
   "execution_count": 106,
   "metadata": {
    "execution": {
     "iopub.execute_input": "2022-05-07T00:21:00.161646Z",
     "iopub.status.busy": "2022-05-07T00:21:00.161366Z",
     "iopub.status.idle": "2022-05-07T00:21:01.058597Z",
     "shell.execute_reply": "2022-05-07T00:21:01.057622Z"
    }
   },
   "outputs": [
    {
     "name": "stdout",
     "output_type": "stream",
     "text": [
      "2020-01-02\n",
      "1789-09-14\n"
     ]
    }
   ],
   "source": [
    "#ids = model.predict_classes(X_new)\n",
    "ids = np.argmax(model.predict(X_new), axis=-1)\n",
    "for date_str in ids_to_date_strs(ids):\n",
    "    print(date_str)"
   ]
  },
  {
   "cell_type": "markdown",
   "metadata": {},
   "source": [
    "Oops! We need to ensure that we always pass sequences of the same length as during training, using padding if necessary. Let's write a little helper function for that:"
   ]
  },
  {
   "cell_type": "code",
   "execution_count": 107,
   "metadata": {
    "execution": {
     "iopub.execute_input": "2022-05-07T00:21:01.063104Z",
     "iopub.status.busy": "2022-05-07T00:21:01.062792Z",
     "iopub.status.idle": "2022-05-07T00:21:01.071663Z",
     "shell.execute_reply": "2022-05-07T00:21:01.070697Z"
    }
   },
   "outputs": [],
   "source": [
    "max_input_length = X_train.shape[1]\n",
    "\n",
    "def prepare_date_strs_padded(date_strs):\n",
    "    X = prepare_date_strs(date_strs)\n",
    "    if X.shape[1] < max_input_length:\n",
    "        X = tf.pad(X, [[0, 0], [0, max_input_length - X.shape[1]]])\n",
    "    return X\n",
    "\n",
    "def convert_date_strs(date_strs):\n",
    "    X = prepare_date_strs_padded(date_strs)\n",
    "    #ids = model.predict_classes(X)\n",
    "    ids = np.argmax(model.predict(X), axis=-1)\n",
    "    return ids_to_date_strs(ids)"
   ]
  },
  {
   "cell_type": "code",
   "execution_count": 108,
   "metadata": {
    "execution": {
     "iopub.execute_input": "2022-05-07T00:21:01.075699Z",
     "iopub.status.busy": "2022-05-07T00:21:01.075288Z",
     "iopub.status.idle": "2022-05-07T00:21:01.153579Z",
     "shell.execute_reply": "2022-05-07T00:21:01.152681Z"
    }
   },
   "outputs": [
    {
     "data": {
      "text/plain": [
       "['2020-05-02', '1789-07-14']"
      ]
     },
     "execution_count": 108,
     "metadata": {},
     "output_type": "execute_result"
    }
   ],
   "source": [
    "convert_date_strs([\"May 02, 2020\", \"July 14, 1789\"])"
   ]
  },
  {
   "cell_type": "markdown",
   "metadata": {},
   "source": [
    "Cool! Granted, there are certainly much easier ways to write a date conversion tool (e.g., using regular expressions or even basic string manipulation), but you have to admit that using neural networks is way cooler. ;-)"
   ]
  },
  {
   "cell_type": "markdown",
   "metadata": {},
   "source": [
    "However, real-life sequence-to-sequence problems will usually be harder, so for the sake of completeness, let's build a more powerful model."
   ]
  },
  {
   "cell_type": "markdown",
   "metadata": {},
   "source": [
    "### Second version: feeding the shifted targets to the decoder (teacher forcing)"
   ]
  },
  {
   "cell_type": "markdown",
   "metadata": {},
   "source": [
    "Instead of feeding the decoder a simple repetition of the encoder's output vector, we can feed it the target sequence, shifted by one time step to the right. This way, at each time step the decoder will know what the previous target character was. This should help is tackle more complex sequence-to-sequence problems.\n",
    "\n",
    "Since the first output character of each target sequence has no previous character, we will need a new token to represent the start-of-sequence (sos).\n",
    "\n",
    "During inference, we won't know the target, so what will we feed the decoder? We can just predict one character at a time, starting with an sos token, then feeding the decoder all the characters that were predicted so far (we will look at this in more details later in this notebook).\n",
    "\n",
    "But if the decoder's LSTM expects to get the previous target as input at each step, how shall we pass it it the vector output by the encoder? Well, one option is to ignore the output vector, and instead use the encoder's LSTM state as the initial state of the decoder's LSTM (which requires that encoder's LSTM must have the same number of units as the decoder's LSTM).\n",
    "\n",
    "Now let's create the decoder's inputs (for training, validation and testing). The sos token will be represented using the last possible output character's ID + 1."
   ]
  },
  {
   "cell_type": "code",
   "execution_count": 109,
   "metadata": {
    "execution": {
     "iopub.execute_input": "2022-05-07T00:21:01.159100Z",
     "iopub.status.busy": "2022-05-07T00:21:01.158826Z",
     "iopub.status.idle": "2022-05-07T00:21:01.167132Z",
     "shell.execute_reply": "2022-05-07T00:21:01.166455Z"
    }
   },
   "outputs": [],
   "source": [
    "sos_id = len(OUTPUT_CHARS) + 1\n",
    "\n",
    "def shifted_output_sequences(Y):\n",
    "    sos_tokens = tf.fill(dims=(len(Y), 1), value=sos_id)\n",
    "    return tf.concat([sos_tokens, Y[:, :-1]], axis=1)\n",
    "\n",
    "X_train_decoder = shifted_output_sequences(Y_train)\n",
    "X_valid_decoder = shifted_output_sequences(Y_valid)\n",
    "X_test_decoder = shifted_output_sequences(Y_test)"
   ]
  },
  {
   "cell_type": "markdown",
   "metadata": {},
   "source": [
    "Let's take a look at the decoder's training inputs:"
   ]
  },
  {
   "cell_type": "code",
   "execution_count": 110,
   "metadata": {
    "execution": {
     "iopub.execute_input": "2022-05-07T00:21:01.172099Z",
     "iopub.status.busy": "2022-05-07T00:21:01.171835Z",
     "iopub.status.idle": "2022-05-07T00:21:01.177582Z",
     "shell.execute_reply": "2022-05-07T00:21:01.176926Z"
    }
   },
   "outputs": [
    {
     "data": {
      "text/plain": [
       "<tf.Tensor: shape=(10000, 10), dtype=int32, numpy=\n",
       "array([[12,  8,  1, ..., 10, 11,  3],\n",
       "       [12,  9,  6, ...,  6, 11,  2],\n",
       "       [12,  8,  2, ...,  2, 11,  2],\n",
       "       ...,\n",
       "       [12, 10,  8, ...,  2, 11,  4],\n",
       "       [12,  2,  2, ...,  3, 11,  3],\n",
       "       [12,  8,  9, ...,  8, 11,  3]], dtype=int32)>"
      ]
     },
     "execution_count": 110,
     "metadata": {},
     "output_type": "execute_result"
    }
   ],
   "source": [
    "X_train_decoder"
   ]
  },
  {
   "cell_type": "markdown",
   "metadata": {},
   "source": [
    "Now let's build the model. It's not a simple sequential model anymore, so let's use the functional API:"
   ]
  },
  {
   "cell_type": "code",
   "execution_count": 111,
   "metadata": {
    "execution": {
     "iopub.execute_input": "2022-05-07T00:21:01.183625Z",
     "iopub.status.busy": "2022-05-07T00:21:01.183264Z",
     "iopub.status.idle": "2022-05-07T00:22:03.316972Z",
     "shell.execute_reply": "2022-05-07T00:22:03.316232Z"
    }
   },
   "outputs": [
    {
     "name": "stdout",
     "output_type": "stream",
     "text": [
      "Epoch 1/20\n",
      "313/313 [==============================] - 8s 11ms/step - loss: 1.6803 - accuracy: 0.3743 - val_loss: 1.4173 - val_accuracy: 0.4509\n",
      "Epoch 2/20\n",
      "313/313 [==============================] - 3s 8ms/step - loss: 1.1884 - accuracy: 0.5598 - val_loss: 0.8908 - val_accuracy: 0.6734\n",
      "Epoch 3/20\n",
      "313/313 [==============================] - 3s 8ms/step - loss: 0.6512 - accuracy: 0.7680 - val_loss: 0.4229 - val_accuracy: 0.8540\n",
      "Epoch 4/20\n",
      "313/313 [==============================] - 2s 8ms/step - loss: 0.2203 - accuracy: 0.9445 - val_loss: 0.1277 - val_accuracy: 0.9749\n",
      "Epoch 5/20\n",
      "313/313 [==============================] - 2s 8ms/step - loss: 0.0797 - accuracy: 0.9894 - val_loss: 0.0472 - val_accuracy: 0.9973\n",
      "Epoch 6/20\n",
      "313/313 [==============================] - 3s 8ms/step - loss: 0.0541 - accuracy: 0.9919 - val_loss: 0.0354 - val_accuracy: 0.9977\n",
      "Epoch 7/20\n",
      "313/313 [==============================] - 3s 10ms/step - loss: 0.0192 - accuracy: 0.9996 - val_loss: 0.0144 - val_accuracy: 0.9998\n",
      "Epoch 8/20\n",
      "313/313 [==============================] - 3s 8ms/step - loss: 0.0266 - accuracy: 0.9963 - val_loss: 0.0113 - val_accuracy: 0.9998\n",
      "Epoch 9/20\n",
      "313/313 [==============================] - 3s 10ms/step - loss: 0.0077 - accuracy: 1.0000 - val_loss: 0.0068 - val_accuracy: 0.9999\n",
      "Epoch 10/20\n",
      "313/313 [==============================] - 3s 10ms/step - loss: 0.0051 - accuracy: 1.0000 - val_loss: 0.0112 - val_accuracy: 0.9981\n",
      "Epoch 11/20\n",
      "313/313 [==============================] - 3s 9ms/step - loss: 0.0338 - accuracy: 0.9934 - val_loss: 0.0057 - val_accuracy: 0.9999\n",
      "Epoch 12/20\n",
      "313/313 [==============================] - 3s 10ms/step - loss: 0.0039 - accuracy: 1.0000 - val_loss: 0.0037 - val_accuracy: 0.9999\n",
      "Epoch 13/20\n",
      "313/313 [==============================] - 3s 10ms/step - loss: 0.0027 - accuracy: 1.0000 - val_loss: 0.0027 - val_accuracy: 0.9999\n",
      "Epoch 14/20\n",
      "313/313 [==============================] - 3s 9ms/step - loss: 0.0020 - accuracy: 1.0000 - val_loss: 0.0021 - val_accuracy: 1.0000\n",
      "Epoch 15/20\n",
      "313/313 [==============================] - 3s 9ms/step - loss: 0.0016 - accuracy: 1.0000 - val_loss: 0.0017 - val_accuracy: 0.9999\n",
      "Epoch 16/20\n",
      "313/313 [==============================] - 3s 10ms/step - loss: 0.0012 - accuracy: 1.0000 - val_loss: 0.0014 - val_accuracy: 0.9999\n",
      "Epoch 17/20\n",
      "313/313 [==============================] - 3s 9ms/step - loss: 0.0010 - accuracy: 1.0000 - val_loss: 0.0011 - val_accuracy: 1.0000\n",
      "Epoch 18/20\n",
      "313/313 [==============================] - 3s 9ms/step - loss: 8.2249e-04 - accuracy: 1.0000 - val_loss: 9.3611e-04 - val_accuracy: 1.0000\n",
      "Epoch 19/20\n",
      "313/313 [==============================] - 3s 9ms/step - loss: 6.7836e-04 - accuracy: 1.0000 - val_loss: 7.8336e-04 - val_accuracy: 1.0000\n",
      "Epoch 20/20\n",
      "313/313 [==============================] - 3s 10ms/step - loss: 5.5725e-04 - accuracy: 1.0000 - val_loss: 6.4672e-04 - val_accuracy: 1.0000\n"
     ]
    }
   ],
   "source": [
    "encoder_embedding_size = 32\n",
    "decoder_embedding_size = 32\n",
    "lstm_units = 128\n",
    "\n",
    "np.random.seed(42)\n",
    "tf.random.set_seed(42)\n",
    "\n",
    "encoder_input = keras.layers.Input(shape=[None], dtype=tf.int32)\n",
    "encoder_embedding = keras.layers.Embedding(\n",
    "    input_dim=len(INPUT_CHARS) + 1,\n",
    "    output_dim=encoder_embedding_size)(encoder_input)\n",
    "_, encoder_state_h, encoder_state_c = keras.layers.LSTM(\n",
    "    lstm_units, return_state=True)(encoder_embedding)\n",
    "encoder_state = [encoder_state_h, encoder_state_c]\n",
    "\n",
    "decoder_input = keras.layers.Input(shape=[None], dtype=tf.int32)\n",
    "decoder_embedding = keras.layers.Embedding(\n",
    "    input_dim=len(OUTPUT_CHARS) + 2,\n",
    "    output_dim=decoder_embedding_size)(decoder_input)\n",
    "decoder_lstm_output = keras.layers.LSTM(lstm_units, return_sequences=True)(\n",
    "    decoder_embedding, initial_state=encoder_state)\n",
    "decoder_output = keras.layers.Dense(len(OUTPUT_CHARS) + 1,\n",
    "                                    activation=\"softmax\")(decoder_lstm_output)\n",
    "\n",
    "model = keras.models.Model(inputs=[encoder_input, decoder_input],\n",
    "                           outputs=[decoder_output])\n",
    "\n",
    "optimizer = keras.optimizers.Nadam()\n",
    "model.compile(loss=\"sparse_categorical_crossentropy\", optimizer=optimizer,\n",
    "              metrics=[\"accuracy\"])\n",
    "history = model.fit([X_train, X_train_decoder], Y_train, epochs=20,\n",
    "                    validation_data=([X_valid, X_valid_decoder], Y_valid))"
   ]
  },
  {
   "cell_type": "markdown",
   "metadata": {},
   "source": [
    "This model also reaches 100% validation accuracy, but it does so even faster."
   ]
  },
  {
   "cell_type": "markdown",
   "metadata": {},
   "source": [
    "Let's once again use the model to make some predictions. This time we need to predict characters one by one."
   ]
  },
  {
   "cell_type": "code",
   "execution_count": 112,
   "metadata": {
    "execution": {
     "iopub.execute_input": "2022-05-07T00:22:03.320911Z",
     "iopub.status.busy": "2022-05-07T00:22:03.320573Z",
     "iopub.status.idle": "2022-05-07T00:22:03.327639Z",
     "shell.execute_reply": "2022-05-07T00:22:03.326771Z"
    }
   },
   "outputs": [],
   "source": [
    "sos_id = len(OUTPUT_CHARS) + 1\n",
    "\n",
    "def predict_date_strs(date_strs):\n",
    "    X = prepare_date_strs_padded(date_strs)\n",
    "    Y_pred = tf.fill(dims=(len(X), 1), value=sos_id)\n",
    "    for index in range(max_output_length):\n",
    "        pad_size = max_output_length - Y_pred.shape[1]\n",
    "        X_decoder = tf.pad(Y_pred, [[0, 0], [0, pad_size]])\n",
    "        Y_probas_next = model.predict([X, X_decoder])[:, index:index+1]\n",
    "        Y_pred_next = tf.argmax(Y_probas_next, axis=-1, output_type=tf.int32)\n",
    "        Y_pred = tf.concat([Y_pred, Y_pred_next], axis=1)\n",
    "    return ids_to_date_strs(Y_pred[:, 1:])"
   ]
  },
  {
   "cell_type": "code",
   "execution_count": 113,
   "metadata": {
    "execution": {
     "iopub.execute_input": "2022-05-07T00:22:03.330792Z",
     "iopub.status.busy": "2022-05-07T00:22:03.330365Z",
     "iopub.status.idle": "2022-05-07T00:22:04.931962Z",
     "shell.execute_reply": "2022-05-07T00:22:04.931102Z"
    }
   },
   "outputs": [
    {
     "data": {
      "text/plain": [
       "['1789-07-14', '2020-05-01']"
      ]
     },
     "execution_count": 113,
     "metadata": {},
     "output_type": "execute_result"
    }
   ],
   "source": [
    "predict_date_strs([\"July 14, 1789\", \"May 01, 2020\"])"
   ]
  },
  {
   "cell_type": "markdown",
   "metadata": {},
   "source": [
    "Works fine! :)"
   ]
  },
  {
   "cell_type": "markdown",
   "metadata": {},
   "source": [
    "### Third version: using TF-Addons's seq2seq implementation"
   ]
  },
  {
   "cell_type": "markdown",
   "metadata": {},
   "source": [
    "Let's build exactly the same model, but using TF-Addon's seq2seq API. The implementation below is almost very similar to the TFA example higher in this notebook, except without the model input to specify the output sequence length, for simplicity (but you can easily add it back in if you need it for your projects, when the output sequences have very different lengths)."
   ]
  },
  {
   "cell_type": "code",
   "execution_count": 114,
   "metadata": {
    "execution": {
     "iopub.execute_input": "2022-05-07T00:22:04.936069Z",
     "iopub.status.busy": "2022-05-07T00:22:04.935723Z",
     "iopub.status.idle": "2022-05-07T00:25:07.406393Z",
     "shell.execute_reply": "2022-05-07T00:25:07.405724Z"
    }
   },
   "outputs": [
    {
     "name": "stdout",
     "output_type": "stream",
     "text": [
      "Epoch 1/20\n",
      "313/313 [==============================] - 13s 30ms/step - loss: 1.6777 - accuracy: 0.3661 - val_loss: 1.4674 - val_accuracy: 0.4196\n",
      "Epoch 2/20\n",
      "313/313 [==============================] - 8s 27ms/step - loss: 1.3864 - accuracy: 0.4589 - val_loss: 1.2080 - val_accuracy: 0.5419\n",
      "Epoch 3/20\n",
      "313/313 [==============================] - 9s 28ms/step - loss: 0.9911 - accuracy: 0.6304 - val_loss: 0.7751 - val_accuracy: 0.7040\n",
      "Epoch 4/20\n",
      "313/313 [==============================] - 9s 29ms/step - loss: 0.4643 - accuracy: 0.8456 - val_loss: 0.2607 - val_accuracy: 0.9360\n",
      "Epoch 5/20\n",
      "313/313 [==============================] - 9s 29ms/step - loss: 0.1648 - accuracy: 0.9667 - val_loss: 0.0838 - val_accuracy: 0.9918\n",
      "Epoch 6/20\n",
      "313/313 [==============================] - 10s 31ms/step - loss: 0.0533 - accuracy: 0.9968 - val_loss: 0.0389 - val_accuracy: 0.9984\n",
      "Epoch 7/20\n",
      "313/313 [==============================] - 10s 31ms/step - loss: 0.0506 - accuracy: 0.9931 - val_loss: 0.0223 - val_accuracy: 0.9994\n",
      "Epoch 8/20\n",
      "313/313 [==============================] - 9s 30ms/step - loss: 0.0162 - accuracy: 0.9998 - val_loss: 0.0137 - val_accuracy: 0.9999\n",
      "Epoch 9/20\n",
      "313/313 [==============================] - 9s 29ms/step - loss: 0.0103 - accuracy: 1.0000 - val_loss: 0.0095 - val_accuracy: 0.9998\n",
      "Epoch 10/20\n",
      "313/313 [==============================] - 8s 27ms/step - loss: 0.0506 - accuracy: 0.9905 - val_loss: 0.0107 - val_accuracy: 0.9999\n",
      "Epoch 11/20\n",
      "313/313 [==============================] - 8s 27ms/step - loss: 0.0075 - accuracy: 1.0000 - val_loss: 0.0062 - val_accuracy: 0.9999\n",
      "Epoch 12/20\n",
      "313/313 [==============================] - 8s 26ms/step - loss: 0.0048 - accuracy: 1.0000 - val_loss: 0.0044 - val_accuracy: 1.0000\n",
      "Epoch 13/20\n",
      "313/313 [==============================] - 8s 26ms/step - loss: 0.0035 - accuracy: 1.0000 - val_loss: 0.0034 - val_accuracy: 1.0000\n",
      "Epoch 14/20\n",
      "313/313 [==============================] - 8s 26ms/step - loss: 0.0415 - accuracy: 0.9905 - val_loss: 0.0388 - val_accuracy: 0.9956\n",
      "Epoch 15/20\n",
      "313/313 [==============================] - 8s 26ms/step - loss: 0.0075 - accuracy: 0.9998 - val_loss: 0.0037 - val_accuracy: 1.0000\n",
      "Epoch 16/20\n",
      "313/313 [==============================] - 9s 28ms/step - loss: 0.0026 - accuracy: 1.0000 - val_loss: 0.0025 - val_accuracy: 1.0000\n",
      "Epoch 17/20\n",
      "313/313 [==============================] - 10s 31ms/step - loss: 0.0018 - accuracy: 1.0000 - val_loss: 0.0018 - val_accuracy: 1.0000\n",
      "Epoch 18/20\n",
      "313/313 [==============================] - 9s 29ms/step - loss: 0.0014 - accuracy: 1.0000 - val_loss: 0.0014 - val_accuracy: 1.0000\n",
      "Epoch 19/20\n",
      "313/313 [==============================] - 9s 29ms/step - loss: 0.0011 - accuracy: 1.0000 - val_loss: 0.0012 - val_accuracy: 1.0000\n",
      "Epoch 20/20\n",
      "313/313 [==============================] - 9s 29ms/step - loss: 8.9928e-04 - accuracy: 1.0000 - val_loss: 9.6501e-04 - val_accuracy: 1.0000\n"
     ]
    }
   ],
   "source": [
    "import tensorflow_addons as tfa\n",
    "\n",
    "np.random.seed(42)\n",
    "tf.random.set_seed(42)\n",
    "\n",
    "encoder_embedding_size = 32\n",
    "decoder_embedding_size = 32\n",
    "units = 128\n",
    "\n",
    "encoder_inputs = keras.layers.Input(shape=[None], dtype=np.int32)\n",
    "decoder_inputs = keras.layers.Input(shape=[None], dtype=np.int32)\n",
    "sequence_lengths = keras.layers.Input(shape=[], dtype=np.int32)\n",
    "\n",
    "encoder_embeddings = keras.layers.Embedding(\n",
    "    len(INPUT_CHARS) + 1, encoder_embedding_size)(encoder_inputs)\n",
    "\n",
    "decoder_embedding_layer = keras.layers.Embedding(\n",
    "    len(OUTPUT_CHARS) + 2, decoder_embedding_size)\n",
    "decoder_embeddings = decoder_embedding_layer(decoder_inputs)\n",
    "\n",
    "encoder = keras.layers.LSTM(units, return_state=True)\n",
    "encoder_outputs, state_h, state_c = encoder(encoder_embeddings)\n",
    "encoder_state = [state_h, state_c]\n",
    "\n",
    "sampler = tfa.seq2seq.sampler.TrainingSampler()\n",
    "\n",
    "decoder_cell = keras.layers.LSTMCell(units)\n",
    "output_layer = keras.layers.Dense(len(OUTPUT_CHARS) + 1)\n",
    "\n",
    "decoder = tfa.seq2seq.basic_decoder.BasicDecoder(decoder_cell,\n",
    "                                                 sampler,\n",
    "                                                 output_layer=output_layer)\n",
    "final_outputs, final_state, final_sequence_lengths = decoder(\n",
    "    decoder_embeddings,\n",
    "    initial_state=encoder_state)\n",
    "Y_proba = keras.layers.Activation(\"softmax\")(final_outputs.rnn_output)\n",
    "\n",
    "model = keras.models.Model(inputs=[encoder_inputs, decoder_inputs],\n",
    "                           outputs=[Y_proba])\n",
    "optimizer = keras.optimizers.Nadam()\n",
    "model.compile(loss=\"sparse_categorical_crossentropy\", optimizer=optimizer,\n",
    "              metrics=[\"accuracy\"])\n",
    "history = model.fit([X_train, X_train_decoder], Y_train, epochs=20,\n",
    "                    validation_data=([X_valid, X_valid_decoder], Y_valid))"
   ]
  },
  {
   "cell_type": "markdown",
   "metadata": {},
   "source": [
    "And once again, 100% validation accuracy! To use the model, we can just reuse the `predict_date_strs()` function:"
   ]
  },
  {
   "cell_type": "code",
   "execution_count": 115,
   "metadata": {
    "execution": {
     "iopub.execute_input": "2022-05-07T00:25:07.409940Z",
     "iopub.status.busy": "2022-05-07T00:25:07.409654Z",
     "iopub.status.idle": "2022-05-07T00:25:08.805261Z",
     "shell.execute_reply": "2022-05-07T00:25:08.804524Z"
    },
    "scrolled": true
   },
   "outputs": [
    {
     "data": {
      "text/plain": [
       "['1789-07-14', '2020-05-01']"
      ]
     },
     "execution_count": 115,
     "metadata": {},
     "output_type": "execute_result"
    }
   ],
   "source": [
    "predict_date_strs([\"July 14, 1789\", \"May 01, 2020\"])"
   ]
  },
  {
   "cell_type": "markdown",
   "metadata": {},
   "source": [
    "However, there's a much more efficient way to perform inference. Until now, during inference, we've run the model once for each new character. Instead, we can create a new decoder, based on the previously trained layers, but using a `GreedyEmbeddingSampler` instead of a `TrainingSampler`.\n",
    "\n",
    "At each time step, the `GreedyEmbeddingSampler` will compute the argmax of the decoder's outputs, and run the resulting token IDs through the decoder's embedding layer. Then it will feed the resulting embeddings to the decoder's LSTM cell at the next time step. This way, we only need to run the decoder once to get the full prediction."
   ]
  },
  {
   "cell_type": "code",
   "execution_count": 116,
   "metadata": {
    "execution": {
     "iopub.execute_input": "2022-05-07T00:25:08.808518Z",
     "iopub.status.busy": "2022-05-07T00:25:08.808181Z",
     "iopub.status.idle": "2022-05-07T00:25:09.322248Z",
     "shell.execute_reply": "2022-05-07T00:25:09.321190Z"
    }
   },
   "outputs": [],
   "source": [
    "inference_sampler = tfa.seq2seq.sampler.GreedyEmbeddingSampler(\n",
    "    embedding_fn=decoder_embedding_layer)\n",
    "inference_decoder = tfa.seq2seq.basic_decoder.BasicDecoder(\n",
    "    decoder_cell, inference_sampler, output_layer=output_layer,\n",
    "    maximum_iterations=max_output_length)\n",
    "batch_size = tf.shape(encoder_inputs)[:1]\n",
    "start_tokens = tf.fill(dims=batch_size, value=sos_id)\n",
    "final_outputs, final_state, final_sequence_lengths = inference_decoder(\n",
    "    start_tokens,\n",
    "    initial_state=encoder_state,\n",
    "    start_tokens=start_tokens,\n",
    "    end_token=0)\n",
    "\n",
    "inference_model = keras.models.Model(inputs=[encoder_inputs],\n",
    "                                     outputs=[final_outputs.sample_id])"
   ]
  },
  {
   "cell_type": "markdown",
   "metadata": {},
   "source": [
    "A few notes:\n",
    "* The `GreedyEmbeddingSampler` needs the `start_tokens` (a vector containing the start-of-sequence ID for each decoder sequence), and the `end_token` (the decoder will stop decoding a sequence once the model outputs this token).\n",
    "* We must set `maximum_iterations` when creating the `BasicDecoder`, or else it may run into an infinite loop (if the model never outputs the end token for at least one of the sequences). This would force you would to restart the Jupyter kernel.\n",
    "* The decoder inputs are not needed anymore, since all the decoder inputs are generated dynamically based on the outputs from the previous time step.\n",
    "* The model's outputs are `final_outputs.sample_id` instead of the softmax of `final_outputs.rnn_outputs`. This allows us to directly get the argmax of the model's outputs. If you prefer to have access to the logits, you can replace `final_outputs.sample_id` with `final_outputs.rnn_outputs`."
   ]
  },
  {
   "cell_type": "markdown",
   "metadata": {},
   "source": [
    "Now we can write a simple function that uses the model to perform the date format conversion:"
   ]
  },
  {
   "cell_type": "code",
   "execution_count": 117,
   "metadata": {
    "execution": {
     "iopub.execute_input": "2022-05-07T00:25:09.326725Z",
     "iopub.status.busy": "2022-05-07T00:25:09.326416Z",
     "iopub.status.idle": "2022-05-07T00:25:09.332105Z",
     "shell.execute_reply": "2022-05-07T00:25:09.331281Z"
    }
   },
   "outputs": [],
   "source": [
    "def fast_predict_date_strs(date_strs):\n",
    "    X = prepare_date_strs_padded(date_strs)\n",
    "    Y_pred = inference_model.predict(X)\n",
    "    return ids_to_date_strs(Y_pred)"
   ]
  },
  {
   "cell_type": "code",
   "execution_count": 118,
   "metadata": {
    "execution": {
     "iopub.execute_input": "2022-05-07T00:25:09.335773Z",
     "iopub.status.busy": "2022-05-07T00:25:09.335478Z",
     "iopub.status.idle": "2022-05-07T00:25:10.072087Z",
     "shell.execute_reply": "2022-05-07T00:25:10.071384Z"
    },
    "scrolled": true
   },
   "outputs": [
    {
     "data": {
      "text/plain": [
       "['1789-07-14', '2020-05-01']"
      ]
     },
     "execution_count": 118,
     "metadata": {},
     "output_type": "execute_result"
    }
   ],
   "source": [
    "fast_predict_date_strs([\"July 14, 1789\", \"May 01, 2020\"])"
   ]
  },
  {
   "cell_type": "markdown",
   "metadata": {},
   "source": [
    "Let's check that it really is faster:"
   ]
  },
  {
   "cell_type": "code",
   "execution_count": 119,
   "metadata": {
    "execution": {
     "iopub.execute_input": "2022-05-07T00:25:10.075676Z",
     "iopub.status.busy": "2022-05-07T00:25:10.075336Z",
     "iopub.status.idle": "2022-05-07T00:25:16.420901Z",
     "shell.execute_reply": "2022-05-07T00:25:16.419911Z"
    }
   },
   "outputs": [
    {
     "name": "stdout",
     "output_type": "stream",
     "text": [
      "706 ms ± 31.6 ms per loop (mean ± std. dev. of 7 runs, 1 loop each)\n"
     ]
    }
   ],
   "source": [
    "%timeit predict_date_strs([\"July 14, 1789\", \"May 01, 2020\"])"
   ]
  },
  {
   "cell_type": "code",
   "execution_count": 120,
   "metadata": {
    "execution": {
     "iopub.execute_input": "2022-05-07T00:25:16.425975Z",
     "iopub.status.busy": "2022-05-07T00:25:16.425712Z",
     "iopub.status.idle": "2022-05-07T00:25:22.390271Z",
     "shell.execute_reply": "2022-05-07T00:25:22.389310Z"
    }
   },
   "outputs": [
    {
     "name": "stdout",
     "output_type": "stream",
     "text": [
      "72.8 ms ± 5.37 ms per loop (mean ± std. dev. of 7 runs, 10 loops each)\n"
     ]
    }
   ],
   "source": [
    "%timeit fast_predict_date_strs([\"July 14, 1789\", \"May 01, 2020\"])"
   ]
  },
  {
   "cell_type": "markdown",
   "metadata": {},
   "source": [
    "That's more than a 10x speedup! And it would be even more if we were handling longer sequences."
   ]
  },
  {
   "cell_type": "markdown",
   "metadata": {},
   "source": [
    "### Fourth version: using TF-Addons's seq2seq implementation with a scheduled sampler"
   ]
  },
  {
   "cell_type": "markdown",
   "metadata": {},
   "source": [
    "**Warning**: due to a TF bug, this version only works using TensorFlow 2.2 or above."
   ]
  },
  {
   "cell_type": "markdown",
   "metadata": {},
   "source": [
    "When we trained the previous model, at each time step _t_ we gave the model the target token for time step _t_ - 1. However, at inference time, the model did not get the previous target at each time step. Instead, it got the previous prediction. So there is a discrepancy between training and inference, which may lead to disappointing performance. To alleviate this, we can gradually replace the targets with the predictions, during training. For this, we just need to replace the `TrainingSampler` with a `ScheduledEmbeddingTrainingSampler`, and use a Keras callback to gradually increase the `sampling_probability` (i.e., the probability that the decoder will use the prediction from the previous time step rather than the target for the previous time step)."
   ]
  },
  {
   "cell_type": "code",
   "execution_count": 121,
   "metadata": {
    "execution": {
     "iopub.execute_input": "2022-05-07T00:25:22.394914Z",
     "iopub.status.busy": "2022-05-07T00:25:22.394719Z",
     "iopub.status.idle": "2022-05-07T00:29:55.899207Z",
     "shell.execute_reply": "2022-05-07T00:29:55.898522Z"
    }
   },
   "outputs": [
    {
     "name": "stdout",
     "output_type": "stream",
     "text": [
      "Epoch 1/20\n"
     ]
    },
    {
     "name": "stderr",
     "output_type": "stream",
     "text": [
      "/home/lid/miniconda3/lib/python3.7/site-packages/tensorflow/python/framework/indexed_slices.py:450: UserWarning: Converting sparse IndexedSlices(IndexedSlices(indices=Tensor(\"gradient_tape/model_5/basic_decoder_3/decoder/while/gradients/model_5/basic_decoder_3/decoder/while/cond_1_grad/Identity_4:0\", shape=(None,), dtype=int32), values=Tensor(\"gradient_tape/model_5/basic_decoder_3/decoder/while/gradients/model_5/basic_decoder_3/decoder/while/cond_1_grad/Identity_3:0\", shape=(None, 32), dtype=float32), dense_shape=Tensor(\"gradient_tape/model_5/basic_decoder_3/decoder/while/gradients/model_5/basic_decoder_3/decoder/while/cond_1_grad/Identity_5:0\", shape=(2,), dtype=int32))) to a dense Tensor of unknown shape. This may consume a large amount of memory.\n",
      "  \"shape. This may consume a large amount of memory.\" % value)\n",
      "/home/lid/miniconda3/lib/python3.7/site-packages/tensorflow/python/framework/indexed_slices.py:450: UserWarning: Converting sparse IndexedSlices(IndexedSlices(indices=Tensor(\"gradient_tape/model_5/basic_decoder_3/decoder/while/gradients/model_5/basic_decoder_3/decoder/while/cond_grad/gradients/grad_ys_0_indices:0\", shape=(None,), dtype=int32), values=Tensor(\"gradient_tape/model_5/basic_decoder_3/decoder/while/gradients/model_5/basic_decoder_3/decoder/while/cond_grad/gradients/grad_ys_0_values:0\", shape=(None, 32), dtype=float32), dense_shape=Tensor(\"gradient_tape/model_5/basic_decoder_3/decoder/while/gradients/model_5/basic_decoder_3/decoder/while/cond_grad/gradients/grad_ys_0_shape:0\", shape=(2,), dtype=int32))) to a dense Tensor of unknown shape. This may consume a large amount of memory.\n",
      "  \"shape. This may consume a large amount of memory.\" % value)\n",
      "/home/lid/miniconda3/lib/python3.7/site-packages/tensorflow/python/framework/indexed_slices.py:450: UserWarning: Converting sparse IndexedSlices(IndexedSlices(indices=Tensor(\"gradient_tape/model_5/basic_decoder_3/decoder/while/gradients/model_5/basic_decoder_3/decoder/while/cond_grad/Identity_1:0\", shape=(None,), dtype=int32), values=Tensor(\"gradient_tape/model_5/basic_decoder_3/decoder/while/gradients/model_5/basic_decoder_3/decoder/while/cond_grad/Identity:0\", shape=(None, 32), dtype=float32), dense_shape=Tensor(\"gradient_tape/model_5/basic_decoder_3/decoder/while/gradients/model_5/basic_decoder_3/decoder/while/cond_grad/Identity_2:0\", shape=(2,), dtype=int32))) to a dense Tensor of unknown shape. This may consume a large amount of memory.\n",
      "  \"shape. This may consume a large amount of memory.\" % value)\n"
     ]
    },
    {
     "name": "stdout",
     "output_type": "stream",
     "text": [
      "313/313 [==============================] - 19s 48ms/step - loss: 1.6785 - accuracy: 0.3655 - val_loss: 1.4598 - val_accuracy: 0.4448\n",
      "Epoch 2/20\n",
      "313/313 [==============================] - 12s 40ms/step - loss: 1.4028 - accuracy: 0.4530 - val_loss: 1.2463 - val_accuracy: 0.5267\n",
      "Epoch 3/20\n",
      "313/313 [==============================] - 13s 43ms/step - loss: 1.0787 - accuracy: 0.5941 - val_loss: 0.9752 - val_accuracy: 0.6216\n",
      "Epoch 4/20\n",
      "313/313 [==============================] - 15s 47ms/step - loss: 0.6892 - accuracy: 0.7444 - val_loss: 0.5137 - val_accuracy: 0.8052\n",
      "Epoch 5/20\n",
      "313/313 [==============================] - 15s 47ms/step - loss: 0.4160 - accuracy: 0.8525 - val_loss: 0.3031 - val_accuracy: 0.8977\n",
      "Epoch 6/20\n",
      "313/313 [==============================] - 14s 45ms/step - loss: 0.2383 - accuracy: 0.9278 - val_loss: 0.1839 - val_accuracy: 0.9484\n",
      "Epoch 7/20\n",
      "313/313 [==============================] - 13s 43ms/step - loss: 0.1855 - accuracy: 0.9511 - val_loss: 0.1197 - val_accuracy: 0.9679\n",
      "Epoch 8/20\n",
      "313/313 [==============================] - 13s 43ms/step - loss: 0.0858 - accuracy: 0.9808 - val_loss: 0.0657 - val_accuracy: 0.9861\n",
      "Epoch 9/20\n",
      "313/313 [==============================] - 13s 42ms/step - loss: 0.1020 - accuracy: 0.9789 - val_loss: 0.0458 - val_accuracy: 0.9918\n",
      "Epoch 10/20\n",
      "313/313 [==============================] - 13s 43ms/step - loss: 0.0343 - accuracy: 0.9946 - val_loss: 0.0274 - val_accuracy: 0.9958\n",
      "Epoch 11/20\n",
      "313/313 [==============================] - 14s 45ms/step - loss: 0.0215 - accuracy: 0.9970 - val_loss: 0.0193 - val_accuracy: 0.9969\n",
      "Epoch 12/20\n",
      "313/313 [==============================] - 13s 41ms/step - loss: 0.0148 - accuracy: 0.9980 - val_loss: 0.0138 - val_accuracy: 0.9977\n",
      "Epoch 13/20\n",
      "313/313 [==============================] - 12s 40ms/step - loss: 0.0095 - accuracy: 0.9989 - val_loss: 0.0092 - val_accuracy: 0.9985\n",
      "Epoch 14/20\n",
      "313/313 [==============================] - 13s 40ms/step - loss: 0.0073 - accuracy: 0.9991 - val_loss: 0.0078 - val_accuracy: 0.9990\n",
      "Epoch 15/20\n",
      "313/313 [==============================] - 13s 42ms/step - loss: 0.0048 - accuracy: 0.9995 - val_loss: 0.0054 - val_accuracy: 0.9995\n",
      "Epoch 16/20\n",
      "313/313 [==============================] - 13s 42ms/step - loss: 0.0040 - accuracy: 0.9996 - val_loss: 0.0051 - val_accuracy: 0.9994\n",
      "Epoch 17/20\n",
      "313/313 [==============================] - 14s 45ms/step - loss: 0.0902 - accuracy: 0.9817 - val_loss: 0.0112 - val_accuracy: 0.9992\n",
      "Epoch 18/20\n",
      "313/313 [==============================] - 13s 43ms/step - loss: 0.0061 - accuracy: 0.9997 - val_loss: 0.0054 - val_accuracy: 0.9995\n",
      "Epoch 19/20\n",
      "313/313 [==============================] - 13s 40ms/step - loss: 0.0035 - accuracy: 0.9998 - val_loss: 0.0032 - val_accuracy: 0.9998\n",
      "Epoch 20/20\n",
      "313/313 [==============================] - 12s 39ms/step - loss: 0.0026 - accuracy: 0.9998 - val_loss: 0.0028 - val_accuracy: 0.9996\n"
     ]
    }
   ],
   "source": [
    "import tensorflow_addons as tfa\n",
    "\n",
    "np.random.seed(42)\n",
    "tf.random.set_seed(42)\n",
    "\n",
    "n_epochs = 20\n",
    "encoder_embedding_size = 32\n",
    "decoder_embedding_size = 32\n",
    "units = 128\n",
    "\n",
    "encoder_inputs = keras.layers.Input(shape=[None], dtype=np.int32)\n",
    "decoder_inputs = keras.layers.Input(shape=[None], dtype=np.int32)\n",
    "sequence_lengths = keras.layers.Input(shape=[], dtype=np.int32)\n",
    "\n",
    "encoder_embeddings = keras.layers.Embedding(\n",
    "    len(INPUT_CHARS) + 1, encoder_embedding_size)(encoder_inputs)\n",
    "\n",
    "decoder_embedding_layer = keras.layers.Embedding(\n",
    "    len(OUTPUT_CHARS) + 2, decoder_embedding_size)\n",
    "decoder_embeddings = decoder_embedding_layer(decoder_inputs)\n",
    "\n",
    "encoder = keras.layers.LSTM(units, return_state=True)\n",
    "encoder_outputs, state_h, state_c = encoder(encoder_embeddings)\n",
    "encoder_state = [state_h, state_c]\n",
    "\n",
    "sampler = tfa.seq2seq.sampler.ScheduledEmbeddingTrainingSampler(\n",
    "    sampling_probability=0.,\n",
    "    embedding_fn=decoder_embedding_layer)\n",
    "# we must set the sampling_probability after creating the sampler\n",
    "# (see https://github.com/tensorflow/addons/pull/1714)\n",
    "sampler.sampling_probability = tf.Variable(0.)\n",
    "\n",
    "decoder_cell = keras.layers.LSTMCell(units)\n",
    "output_layer = keras.layers.Dense(len(OUTPUT_CHARS) + 1)\n",
    "\n",
    "decoder = tfa.seq2seq.basic_decoder.BasicDecoder(decoder_cell,\n",
    "                                                 sampler,\n",
    "                                                 output_layer=output_layer)\n",
    "final_outputs, final_state, final_sequence_lengths = decoder(\n",
    "    decoder_embeddings,\n",
    "    initial_state=encoder_state)\n",
    "Y_proba = keras.layers.Activation(\"softmax\")(final_outputs.rnn_output)\n",
    "\n",
    "model = keras.models.Model(inputs=[encoder_inputs, decoder_inputs],\n",
    "                           outputs=[Y_proba])\n",
    "optimizer = keras.optimizers.Nadam()\n",
    "model.compile(loss=\"sparse_categorical_crossentropy\", optimizer=optimizer,\n",
    "              metrics=[\"accuracy\"])\n",
    "\n",
    "def update_sampling_probability(epoch, logs):\n",
    "    proba = min(1.0, epoch / (n_epochs - 10))\n",
    "    sampler.sampling_probability.assign(proba)\n",
    "\n",
    "sampling_probability_cb = keras.callbacks.LambdaCallback(\n",
    "    on_epoch_begin=update_sampling_probability)\n",
    "history = model.fit([X_train, X_train_decoder], Y_train, epochs=n_epochs,\n",
    "                    validation_data=([X_valid, X_valid_decoder], Y_valid),\n",
    "                    callbacks=[sampling_probability_cb])"
   ]
  },
  {
   "cell_type": "markdown",
   "metadata": {},
   "source": [
    "Not quite 100% validation accuracy, but close enough!"
   ]
  },
  {
   "cell_type": "markdown",
   "metadata": {},
   "source": [
    "For inference, we could do the exact same thing as earlier, using a `GreedyEmbeddingSampler`. However, just for the sake of completeness, let's use a `SampleEmbeddingSampler` instead. It's almost the same thing, except that instead of using the argmax of the model's output to find the token ID, it treats the outputs as logits and uses them to sample a token ID randomly. This can be useful when you want to generate text. The `softmax_temperature` argument serves the \n",
    "same purpose as when we generated Shakespeare-like text (the higher this argument, the more random the generated text will be)."
   ]
  },
  {
   "cell_type": "code",
   "execution_count": 122,
   "metadata": {
    "execution": {
     "iopub.execute_input": "2022-05-07T00:29:55.902560Z",
     "iopub.status.busy": "2022-05-07T00:29:55.902237Z",
     "iopub.status.idle": "2022-05-07T00:29:56.185142Z",
     "shell.execute_reply": "2022-05-07T00:29:56.184314Z"
    }
   },
   "outputs": [],
   "source": [
    "softmax_temperature = tf.Variable(1.)\n",
    "\n",
    "inference_sampler = tfa.seq2seq.sampler.SampleEmbeddingSampler(\n",
    "    embedding_fn=decoder_embedding_layer,\n",
    "    softmax_temperature=softmax_temperature)\n",
    "inference_decoder = tfa.seq2seq.basic_decoder.BasicDecoder(\n",
    "    decoder_cell, inference_sampler, output_layer=output_layer,\n",
    "    maximum_iterations=max_output_length)\n",
    "batch_size = tf.shape(encoder_inputs)[:1]\n",
    "start_tokens = tf.fill(dims=batch_size, value=sos_id)\n",
    "final_outputs, final_state, final_sequence_lengths = inference_decoder(\n",
    "    start_tokens,\n",
    "    initial_state=encoder_state,\n",
    "    start_tokens=start_tokens,\n",
    "    end_token=0)\n",
    "\n",
    "inference_model = keras.models.Model(inputs=[encoder_inputs],\n",
    "                                     outputs=[final_outputs.sample_id])"
   ]
  },
  {
   "cell_type": "code",
   "execution_count": 123,
   "metadata": {
    "execution": {
     "iopub.execute_input": "2022-05-07T00:29:56.188359Z",
     "iopub.status.busy": "2022-05-07T00:29:56.188114Z",
     "iopub.status.idle": "2022-05-07T00:29:56.192223Z",
     "shell.execute_reply": "2022-05-07T00:29:56.191404Z"
    }
   },
   "outputs": [],
   "source": [
    "def creative_predict_date_strs(date_strs, temperature=1.0):\n",
    "    softmax_temperature.assign(temperature)\n",
    "    X = prepare_date_strs_padded(date_strs)\n",
    "    Y_pred = inference_model.predict(X)\n",
    "    return ids_to_date_strs(Y_pred)"
   ]
  },
  {
   "cell_type": "code",
   "execution_count": 124,
   "metadata": {
    "execution": {
     "iopub.execute_input": "2022-05-07T00:29:56.195420Z",
     "iopub.status.busy": "2022-05-07T00:29:56.194950Z",
     "iopub.status.idle": "2022-05-07T00:29:57.025288Z",
     "shell.execute_reply": "2022-05-07T00:29:57.024643Z"
    }
   },
   "outputs": [
    {
     "data": {
      "text/plain": [
       "['1789-07-14', '2020-05-01']"
      ]
     },
     "execution_count": 124,
     "metadata": {},
     "output_type": "execute_result"
    }
   ],
   "source": [
    "tf.random.set_seed(42)\n",
    "\n",
    "creative_predict_date_strs([\"July 14, 1789\", \"May 01, 2020\"])"
   ]
  },
  {
   "cell_type": "markdown",
   "metadata": {},
   "source": [
    "Dates look good at room temperature. Now let's heat things up a bit:"
   ]
  },
  {
   "cell_type": "code",
   "execution_count": 125,
   "metadata": {
    "execution": {
     "iopub.execute_input": "2022-05-07T00:29:57.028765Z",
     "iopub.status.busy": "2022-05-07T00:29:57.028486Z",
     "iopub.status.idle": "2022-05-07T00:29:57.363859Z",
     "shell.execute_reply": "2022-05-07T00:29:57.363109Z"
    }
   },
   "outputs": [
    {
     "data": {
      "text/plain": [
       "['7479307-29', '200040?400']"
      ]
     },
     "execution_count": 125,
     "metadata": {},
     "output_type": "execute_result"
    }
   ],
   "source": [
    "tf.random.set_seed(42)\n",
    "\n",
    "creative_predict_date_strs([\"July 14, 1789\", \"May 01, 2020\"],\n",
    "                           temperature=5.)"
   ]
  },
  {
   "cell_type": "markdown",
   "metadata": {},
   "source": [
    "Oops, the dates are overcooked, now. Let's call them \"creative\" dates."
   ]
  },
  {
   "cell_type": "markdown",
   "metadata": {},
   "source": [
    "### Fifth version: using TFA seq2seq, the Keras subclassing API and attention mechanisms"
   ]
  },
  {
   "cell_type": "markdown",
   "metadata": {},
   "source": [
    "The sequences in this problem are pretty short, but if we wanted to tackle longer sequences, we would probably have to use attention mechanisms. While it's possible to code our own implementation, it's simpler and more efficient to use TF-Addons's implementation instead. Let's do that now, this time using Keras' subclassing API.\n",
    "\n",
    "**Warning**: due to a TensorFlow bug (see [this issue](https://github.com/tensorflow/addons/issues/1153) for details), the `get_initial_state()` method fails in eager mode, so for now we have to use the subclassing API, as Keras automatically calls `tf.function()` on the `call()` method (so it runs in graph mode)."
   ]
  },
  {
   "cell_type": "markdown",
   "metadata": {},
   "source": [
    "In this implementation, we've reverted back to using the `TrainingSampler`, for simplicity (but you can easily tweak it to use a `ScheduledEmbeddingTrainingSampler` instead). We also use a `GreedyEmbeddingSampler` during inference, so this class is pretty easy to use:"
   ]
  },
  {
   "cell_type": "code",
   "execution_count": 126,
   "metadata": {
    "execution": {
     "iopub.execute_input": "2022-05-07T00:29:57.367827Z",
     "iopub.status.busy": "2022-05-07T00:29:57.367521Z",
     "iopub.status.idle": "2022-05-07T00:29:57.384933Z",
     "shell.execute_reply": "2022-05-07T00:29:57.384242Z"
    }
   },
   "outputs": [],
   "source": [
    "class DateTranslation(keras.models.Model):\n",
    "    def __init__(self, units=128, encoder_embedding_size=32,\n",
    "                 decoder_embedding_size=32, **kwargs):\n",
    "        super().__init__(**kwargs)\n",
    "        self.encoder_embedding = keras.layers.Embedding(\n",
    "            input_dim=len(INPUT_CHARS) + 1,\n",
    "            output_dim=encoder_embedding_size)\n",
    "        self.encoder = keras.layers.LSTM(units,\n",
    "                                         return_sequences=True,\n",
    "                                         return_state=True)\n",
    "        self.decoder_embedding = keras.layers.Embedding(\n",
    "            input_dim=len(OUTPUT_CHARS) + 2,\n",
    "            output_dim=decoder_embedding_size)\n",
    "        self.attention = tfa.seq2seq.LuongAttention(units)\n",
    "        decoder_inner_cell = keras.layers.LSTMCell(units)\n",
    "        self.decoder_cell = tfa.seq2seq.AttentionWrapper(\n",
    "            cell=decoder_inner_cell,\n",
    "            attention_mechanism=self.attention)\n",
    "        output_layer = keras.layers.Dense(len(OUTPUT_CHARS) + 1)\n",
    "        self.decoder = tfa.seq2seq.BasicDecoder(\n",
    "            cell=self.decoder_cell,\n",
    "            sampler=tfa.seq2seq.sampler.TrainingSampler(),\n",
    "            output_layer=output_layer)\n",
    "        self.inference_decoder = tfa.seq2seq.BasicDecoder(\n",
    "            cell=self.decoder_cell,\n",
    "            sampler=tfa.seq2seq.sampler.GreedyEmbeddingSampler(\n",
    "                embedding_fn=self.decoder_embedding),\n",
    "            output_layer=output_layer,\n",
    "            maximum_iterations=max_output_length)\n",
    "\n",
    "    def call(self, inputs, training=None):\n",
    "        encoder_input, decoder_input = inputs\n",
    "        encoder_embeddings = self.encoder_embedding(encoder_input)\n",
    "        encoder_outputs, encoder_state_h, encoder_state_c = self.encoder(\n",
    "            encoder_embeddings,\n",
    "            training=training)\n",
    "        encoder_state = [encoder_state_h, encoder_state_c]\n",
    "\n",
    "        self.attention(encoder_outputs,\n",
    "                       setup_memory=True)\n",
    "        \n",
    "        decoder_embeddings = self.decoder_embedding(decoder_input)\n",
    "\n",
    "        decoder_initial_state = self.decoder_cell.get_initial_state(\n",
    "            decoder_embeddings)\n",
    "        decoder_initial_state = decoder_initial_state.clone(\n",
    "            cell_state=encoder_state)\n",
    "        \n",
    "        if training:\n",
    "            decoder_outputs, _, _ = self.decoder(\n",
    "                decoder_embeddings,\n",
    "                initial_state=decoder_initial_state,\n",
    "                training=training)\n",
    "        else:\n",
    "            start_tokens = tf.zeros_like(encoder_input[:, 0]) + sos_id\n",
    "            decoder_outputs, _, _ = self.inference_decoder(\n",
    "                decoder_embeddings,\n",
    "                initial_state=decoder_initial_state,\n",
    "                start_tokens=start_tokens,\n",
    "                end_token=0)\n",
    "\n",
    "        return tf.nn.softmax(decoder_outputs.rnn_output)"
   ]
  },
  {
   "cell_type": "code",
   "execution_count": 127,
   "metadata": {
    "execution": {
     "iopub.execute_input": "2022-05-07T00:29:57.388244Z",
     "iopub.status.busy": "2022-05-07T00:29:57.387971Z",
     "iopub.status.idle": "2022-05-07T00:39:01.800334Z",
     "shell.execute_reply": "2022-05-07T00:39:01.799587Z"
    }
   },
   "outputs": [
    {
     "name": "stdout",
     "output_type": "stream",
     "text": [
      "Epoch 1/40\n"
     ]
    },
    {
     "name": "stderr",
     "output_type": "stream",
     "text": [
      "2022-05-06 20:30:03.480723: W tensorflow/core/grappler/costs/op_level_cost_estimator.cc:689] Error in PredictCost() for the op: op: \"Softmax\" attr { key: \"T\" value { type: DT_FLOAT } } inputs { dtype: DT_FLOAT shape { unknown_rank: true } } device { type: \"GPU\" vendor: \"NVIDIA\" model: \"NVIDIA GeForce GTX 1080 Ti\" frequency: 1582 num_cores: 28 environment { key: \"architecture\" value: \"6.1\" } environment { key: \"cuda\" value: \"11020\" } environment { key: \"cudnn\" value: \"8100\" } num_registers: 65536 l1_cache_size: 24576 l2_cache_size: 2883584 shared_memory_size_per_multiprocessor: 98304 memory_size: 10919215104 bandwidth: 484440000 } outputs { dtype: DT_FLOAT shape { unknown_rank: true } }\n"
     ]
    },
    {
     "name": "stdout",
     "output_type": "stream",
     "text": [
      "313/313 [==============================] - ETA: 0s - loss: 2.1376 - accuracy: 0.2312"
     ]
    },
    {
     "name": "stderr",
     "output_type": "stream",
     "text": [
      "2022-05-06 20:30:17.447451: W tensorflow/core/grappler/costs/op_level_cost_estimator.cc:689] Error in PredictCost() for the op: op: \"Softmax\" attr { key: \"T\" value { type: DT_FLOAT } } inputs { dtype: DT_FLOAT shape { unknown_rank: true } } device { type: \"GPU\" vendor: \"NVIDIA\" model: \"NVIDIA GeForce GTX 1080 Ti\" frequency: 1582 num_cores: 28 environment { key: \"architecture\" value: \"6.1\" } environment { key: \"cuda\" value: \"11020\" } environment { key: \"cudnn\" value: \"8100\" } num_registers: 65536 l1_cache_size: 24576 l2_cache_size: 2883584 shared_memory_size_per_multiprocessor: 98304 memory_size: 10919215104 bandwidth: 484440000 } outputs { dtype: DT_FLOAT shape { unknown_rank: true } }\n"
     ]
    },
    {
     "name": "stdout",
     "output_type": "stream",
     "text": [
      "313/313 [==============================] - 21s 47ms/step - loss: 2.1376 - accuracy: 0.2312 - val_loss: 2.0235 - val_accuracy: 0.2657\n",
      "Epoch 2/40\n",
      "313/313 [==============================] - 13s 42ms/step - loss: 1.7422 - accuracy: 0.3605 - val_loss: 1.4431 - val_accuracy: 0.4703\n",
      "Epoch 3/40\n",
      "313/313 [==============================] - 14s 43ms/step - loss: 1.3418 - accuracy: 0.4973 - val_loss: 1.2711 - val_accuracy: 0.5283\n",
      "Epoch 4/40\n",
      "313/313 [==============================] - 15s 48ms/step - loss: 1.4473 - accuracy: 0.4808 - val_loss: 1.4074 - val_accuracy: 0.5432\n",
      "Epoch 5/40\n",
      "313/313 [==============================] - 15s 48ms/step - loss: 1.2235 - accuracy: 0.5479 - val_loss: 1.1647 - val_accuracy: 0.5513\n",
      "Epoch 6/40\n",
      "313/313 [==============================] - 15s 47ms/step - loss: 1.2167 - accuracy: 0.5384 - val_loss: 1.1645 - val_accuracy: 0.5494\n",
      "Epoch 7/40\n",
      "313/313 [==============================] - 13s 42ms/step - loss: 1.1543 - accuracy: 0.5535 - val_loss: 1.1480 - val_accuracy: 0.5584\n",
      "Epoch 8/40\n",
      "313/313 [==============================] - 12s 38ms/step - loss: 1.1580 - accuracy: 0.5568 - val_loss: 1.1439 - val_accuracy: 0.5592\n",
      "Epoch 9/40\n",
      "313/313 [==============================] - 12s 39ms/step - loss: 1.1355 - accuracy: 0.5639 - val_loss: 1.1213 - val_accuracy: 0.5711\n",
      "Epoch 10/40\n",
      "313/313 [==============================] - 12s 40ms/step - loss: 1.0763 - accuracy: 0.5900 - val_loss: 1.1439 - val_accuracy: 0.5825\n",
      "Epoch 11/40\n",
      "313/313 [==============================] - 14s 45ms/step - loss: 1.0002 - accuracy: 0.6052 - val_loss: 0.9470 - val_accuracy: 0.6088\n",
      "Epoch 12/40\n",
      "313/313 [==============================] - 14s 44ms/step - loss: 0.8824 - accuracy: 0.6245 - val_loss: 0.8095 - val_accuracy: 0.6392\n",
      "Epoch 13/40\n",
      "313/313 [==============================] - 14s 44ms/step - loss: 0.6697 - accuracy: 0.6742 - val_loss: 0.6872 - val_accuracy: 0.6898\n",
      "Epoch 14/40\n",
      "313/313 [==============================] - 13s 43ms/step - loss: 0.5823 - accuracy: 0.7198 - val_loss: 0.5708 - val_accuracy: 0.7372\n",
      "Epoch 15/40\n",
      "313/313 [==============================] - 13s 43ms/step - loss: 0.4485 - accuracy: 0.8064 - val_loss: 0.4822 - val_accuracy: 0.8393\n",
      "Epoch 16/40\n",
      "313/313 [==============================] - 13s 42ms/step - loss: 0.3009 - accuracy: 0.9101 - val_loss: 0.4022 - val_accuracy: 0.8616\n",
      "Epoch 17/40\n",
      "313/313 [==============================] - 13s 43ms/step - loss: 0.1938 - accuracy: 0.9585 - val_loss: 0.1848 - val_accuracy: 0.9625\n",
      "Epoch 18/40\n",
      "313/313 [==============================] - 13s 42ms/step - loss: 0.1196 - accuracy: 0.9804 - val_loss: 0.0816 - val_accuracy: 0.9939\n",
      "Epoch 19/40\n",
      "313/313 [==============================] - 12s 39ms/step - loss: 0.0853 - accuracy: 0.9873 - val_loss: 0.1583 - val_accuracy: 0.9832\n",
      "Epoch 20/40\n",
      "313/313 [==============================] - 12s 40ms/step - loss: 0.0613 - accuracy: 0.9915 - val_loss: 0.0512 - val_accuracy: 0.9965\n",
      "Epoch 21/40\n",
      "313/313 [==============================] - 13s 41ms/step - loss: 0.0547 - accuracy: 0.9918 - val_loss: 0.0378 - val_accuracy: 0.9986\n",
      "Epoch 22/40\n",
      "313/313 [==============================] - 15s 47ms/step - loss: 0.0221 - accuracy: 0.9998 - val_loss: 0.0191 - val_accuracy: 0.9995\n",
      "Epoch 23/40\n",
      "313/313 [==============================] - 13s 43ms/step - loss: 0.0397 - accuracy: 0.9944 - val_loss: 0.0160 - val_accuracy: 0.9998\n",
      "Epoch 24/40\n",
      "313/313 [==============================] - 15s 47ms/step - loss: 0.0127 - accuracy: 1.0000 - val_loss: 0.0124 - val_accuracy: 0.9998\n",
      "Epoch 25/40\n",
      "313/313 [==============================] - 15s 48ms/step - loss: 0.1978 - accuracy: 0.9672 - val_loss: 0.1154 - val_accuracy: 0.9696\n",
      "Epoch 26/40\n",
      "313/313 [==============================] - 15s 46ms/step - loss: 0.0242 - accuracy: 0.9991 - val_loss: 0.0157 - val_accuracy: 0.9997\n",
      "Epoch 27/40\n",
      "313/313 [==============================] - 13s 41ms/step - loss: 0.0126 - accuracy: 1.0000 - val_loss: 0.0121 - val_accuracy: 0.9998\n",
      "Epoch 28/40\n",
      "313/313 [==============================] - 12s 39ms/step - loss: 0.0548 - accuracy: 0.9914 - val_loss: 0.0208 - val_accuracy: 0.9997\n",
      "Epoch 29/40\n",
      "313/313 [==============================] - 12s 40ms/step - loss: 0.0112 - accuracy: 1.0000 - val_loss: 0.0091 - val_accuracy: 0.9998\n",
      "Epoch 30/40\n",
      "313/313 [==============================] - 13s 41ms/step - loss: 0.0076 - accuracy: 1.0000 - val_loss: 0.0074 - val_accuracy: 0.9997\n",
      "Epoch 31/40\n",
      "313/313 [==============================] - 15s 46ms/step - loss: 0.0061 - accuracy: 1.0000 - val_loss: 0.0064 - val_accuracy: 0.9998\n",
      "Epoch 32/40\n",
      "313/313 [==============================] - 14s 45ms/step - loss: 0.0528 - accuracy: 0.9910 - val_loss: 0.0104 - val_accuracy: 0.9997\n",
      "Epoch 33/40\n",
      "313/313 [==============================] - 14s 44ms/step - loss: 0.0068 - accuracy: 1.0000 - val_loss: 0.0061 - val_accuracy: 0.9999\n",
      "Epoch 34/40\n",
      "313/313 [==============================] - 13s 43ms/step - loss: 0.0049 - accuracy: 1.0000 - val_loss: 0.0044 - val_accuracy: 1.0000\n",
      "Epoch 35/40\n",
      "313/313 [==============================] - 13s 40ms/step - loss: 0.0039 - accuracy: 1.0000 - val_loss: 0.0037 - val_accuracy: 1.0000\n",
      "Epoch 36/40\n",
      "313/313 [==============================] - 12s 40ms/step - loss: 0.0033 - accuracy: 1.0000 - val_loss: 0.0031 - val_accuracy: 1.0000\n",
      "Epoch 37/40\n",
      "313/313 [==============================] - 13s 40ms/step - loss: 0.0028 - accuracy: 1.0000 - val_loss: 0.0028 - val_accuracy: 1.0000\n",
      "Epoch 38/40\n",
      "313/313 [==============================] - 14s 45ms/step - loss: 0.0024 - accuracy: 1.0000 - val_loss: 0.0023 - val_accuracy: 1.0000\n",
      "Epoch 39/40\n",
      "313/313 [==============================] - 13s 41ms/step - loss: 0.0020 - accuracy: 1.0000 - val_loss: 0.0019 - val_accuracy: 1.0000\n",
      "Epoch 40/40\n",
      "313/313 [==============================] - 13s 43ms/step - loss: 0.0017 - accuracy: 1.0000 - val_loss: 0.0017 - val_accuracy: 1.0000\n"
     ]
    }
   ],
   "source": [
    "np.random.seed(42)\n",
    "tf.random.set_seed(42)\n",
    "\n",
    "model = DateTranslation()\n",
    "optimizer = keras.optimizers.Nadam()\n",
    "model.compile(loss=\"sparse_categorical_crossentropy\", optimizer=optimizer,\n",
    "              metrics=[\"accuracy\"])\n",
    "history = model.fit([X_train, X_train_decoder], Y_train, epochs=40,\n",
    "                    validation_data=([X_valid, X_valid_decoder], Y_valid))"
   ]
  },
  {
   "cell_type": "markdown",
   "metadata": {},
   "source": [
    "Not quite 100% validation accuracy, but close. It took a bit longer to converge this time, but there were also more parameters and more computations per iteration. And we did not use a scheduled sampler.\n",
    "\n",
    "To use the model, we can write yet another little function:"
   ]
  },
  {
   "cell_type": "code",
   "execution_count": 128,
   "metadata": {
    "execution": {
     "iopub.execute_input": "2022-05-07T00:39:01.803751Z",
     "iopub.status.busy": "2022-05-07T00:39:01.803509Z",
     "iopub.status.idle": "2022-05-07T00:39:01.808397Z",
     "shell.execute_reply": "2022-05-07T00:39:01.807825Z"
    }
   },
   "outputs": [],
   "source": [
    "def fast_predict_date_strs_v2(date_strs):\n",
    "    X = prepare_date_strs_padded(date_strs)\n",
    "    X_decoder = tf.zeros(shape=(len(X), max_output_length), dtype=tf.int32)\n",
    "    Y_probas = model.predict([X, X_decoder])\n",
    "    Y_pred = tf.argmax(Y_probas, axis=-1)\n",
    "    return ids_to_date_strs(Y_pred)"
   ]
  },
  {
   "cell_type": "code",
   "execution_count": 129,
   "metadata": {
    "execution": {
     "iopub.execute_input": "2022-05-07T00:39:01.810898Z",
     "iopub.status.busy": "2022-05-07T00:39:01.810710Z",
     "iopub.status.idle": "2022-05-07T00:39:02.749060Z",
     "shell.execute_reply": "2022-05-07T00:39:02.748356Z"
    }
   },
   "outputs": [
    {
     "name": "stderr",
     "output_type": "stream",
     "text": [
      "2022-05-06 20:39:02.557000: W tensorflow/core/grappler/costs/op_level_cost_estimator.cc:689] Error in PredictCost() for the op: op: \"Softmax\" attr { key: \"T\" value { type: DT_FLOAT } } inputs { dtype: DT_FLOAT shape { unknown_rank: true } } device { type: \"GPU\" vendor: \"NVIDIA\" model: \"NVIDIA GeForce GTX 1080 Ti\" frequency: 1582 num_cores: 28 environment { key: \"architecture\" value: \"6.1\" } environment { key: \"cuda\" value: \"11020\" } environment { key: \"cudnn\" value: \"8100\" } num_registers: 65536 l1_cache_size: 24576 l2_cache_size: 2883584 shared_memory_size_per_multiprocessor: 98304 memory_size: 10919215104 bandwidth: 484440000 } outputs { dtype: DT_FLOAT shape { unknown_rank: true } }\n"
     ]
    },
    {
     "data": {
      "text/plain": [
       "['1789-07-14', '2020-05-01']"
      ]
     },
     "execution_count": 129,
     "metadata": {},
     "output_type": "execute_result"
    }
   ],
   "source": [
    "fast_predict_date_strs_v2([\"July 14, 1789\", \"May 01, 2020\"])"
   ]
  },
  {
   "cell_type": "markdown",
   "metadata": {},
   "source": [
    "There are still a few interesting features from TF-Addons that you may want to look at:\n",
    "* Using a `BeamSearchDecoder` rather than a `BasicDecoder` for inference. Instead of outputing the character with the highest probability, this decoder keeps track of the several candidates, and keeps only the most likely sequences of candidates (see chapter 16 in the book for more details).\n",
    "* Setting masks or specifying `sequence_length` if the input or target sequences may have very different lengths.\n",
    "* Using a `ScheduledOutputTrainingSampler`, which gives you more flexibility than the `ScheduledEmbeddingTrainingSampler` to decide how to feed the output at time _t_ to the cell at time _t_+1. By default it feeds the outputs directly to cell, without computing the argmax ID and passing it through an embedding layer. Alternatively, you specify a `next_inputs_fn` function that will be used to convert the cell outputs to inputs at the next step."
   ]
  },
  {
   "cell_type": "markdown",
   "metadata": {},
   "source": [
    "## 10.\n",
    "_Exercise: Go through TensorFlow's [Neural Machine Translation with Attention tutorial](https://homl.info/nmttuto)._"
   ]
  },
  {
   "cell_type": "markdown",
   "metadata": {},
   "source": [
    "Simply open the Colab and follow its instructions. Alternatively, if you want a simpler example of using TF-Addons's seq2seq implementation for Neural Machine Translation (NMT), look at the solution to the previous question. The last model implementation will give you a simpler example of using TF-Addons to build an NMT model using attention mechanisms."
   ]
  },
  {
   "cell_type": "markdown",
   "metadata": {},
   "source": [
    "## 11.\n",
    "_Exercise: Use one of the recent language models (e.g., GPT) to generate more convincing Shakespearean text._"
   ]
  },
  {
   "cell_type": "markdown",
   "metadata": {},
   "source": [
    "The simplest way to use recent language models is to use the excellent [transformers library](https://huggingface.co/transformers/), open sourced by Hugging Face. It provides many modern neural net architectures (including BERT, GPT-2, RoBERTa, XLM, DistilBert, XLNet and more) for Natural Language Processing (NLP), including many pretrained models. It relies on either TensorFlow or PyTorch. Best of all: it's amazingly simple to use."
   ]
  },
  {
   "cell_type": "markdown",
   "metadata": {},
   "source": [
    "First, let's load a pretrained model. In this example, we will use OpenAI's GPT model, with an additional Language Model on top (just a linear layer with weights tied to the input embeddings). Let's import it and load the pretrained weights (this will download about 445MB of data to `~/.cache/torch/transformers`):"
   ]
  },
  {
   "cell_type": "code",
   "execution_count": 130,
   "metadata": {
    "execution": {
     "iopub.execute_input": "2022-05-07T00:39:02.753477Z",
     "iopub.status.busy": "2022-05-07T00:39:02.753284Z",
     "iopub.status.idle": "2022-05-07T00:39:27.544915Z",
     "shell.execute_reply": "2022-05-07T00:39:27.543412Z"
    }
   },
   "outputs": [
    {
     "data": {
      "application/vnd.jupyter.widget-view+json": {
       "model_id": "078ffbc43f934f22966db4b09571ad3d",
       "version_major": 2,
       "version_minor": 0
      },
      "text/plain": [
       "Downloading:   0%|          | 0.00/656 [00:00<?, ?B/s]"
      ]
     },
     "metadata": {},
     "output_type": "display_data"
    },
    {
     "data": {
      "application/vnd.jupyter.widget-view+json": {
       "model_id": "62594fa8b4354bf1932fac7e13b6a377",
       "version_major": 2,
       "version_minor": 0
      },
      "text/plain": [
       "Downloading:   0%|          | 0.00/445M [00:00<?, ?B/s]"
      ]
     },
     "metadata": {},
     "output_type": "display_data"
    },
    {
     "name": "stderr",
     "output_type": "stream",
     "text": [
      "2022-05-06 20:39:26.326778: W tensorflow/python/util/util.cc:368] Sets are not currently considered sequences, but this may change in the future, so consider avoiding using them.\n",
      "All model checkpoint layers were used when initializing TFOpenAIGPTLMHeadModel.\n",
      "\n",
      "All the layers of TFOpenAIGPTLMHeadModel were initialized from the model checkpoint at openai-gpt.\n",
      "If your task is similar to the task the model of the checkpoint was trained on, you can already use TFOpenAIGPTLMHeadModel for predictions without further training.\n"
     ]
    }
   ],
   "source": [
    "from transformers import TFOpenAIGPTLMHeadModel\n",
    "\n",
    "model = TFOpenAIGPTLMHeadModel.from_pretrained(\"openai-gpt\")"
   ]
  },
  {
   "cell_type": "markdown",
   "metadata": {},
   "source": [
    "Next we will need a specialized tokenizer for this model. This one will try to use the [spaCy](https://spacy.io/) and [ftfy](https://pypi.org/project/ftfy/) libraries if they are installed, or else it will fall back to BERT's `BasicTokenizer` followed by Byte-Pair Encoding (which should be fine for most use cases)."
   ]
  },
  {
   "cell_type": "code",
   "execution_count": 131,
   "metadata": {
    "execution": {
     "iopub.execute_input": "2022-05-07T00:39:27.551416Z",
     "iopub.status.busy": "2022-05-07T00:39:27.550989Z",
     "iopub.status.idle": "2022-05-07T00:39:28.613225Z",
     "shell.execute_reply": "2022-05-07T00:39:28.612278Z"
    }
   },
   "outputs": [
    {
     "data": {
      "application/vnd.jupyter.widget-view+json": {
       "model_id": "e9638fdf1016467bba3bbbb402ce8d76",
       "version_major": 2,
       "version_minor": 0
      },
      "text/plain": [
       "Downloading:   0%|          | 0.00/797k [00:00<?, ?B/s]"
      ]
     },
     "metadata": {},
     "output_type": "display_data"
    },
    {
     "data": {
      "application/vnd.jupyter.widget-view+json": {
       "model_id": "711edb6e44bd4bad8435f28eba1731c8",
       "version_major": 2,
       "version_minor": 0
      },
      "text/plain": [
       "Downloading:   0%|          | 0.00/448k [00:00<?, ?B/s]"
      ]
     },
     "metadata": {},
     "output_type": "display_data"
    },
    {
     "name": "stderr",
     "output_type": "stream",
     "text": [
      "ftfy or spacy is not installed using BERT BasicTokenizer instead of SpaCy & ftfy.\n"
     ]
    }
   ],
   "source": [
    "from transformers import OpenAIGPTTokenizer\n",
    "\n",
    "tokenizer = OpenAIGPTTokenizer.from_pretrained(\"openai-gpt\")"
   ]
  },
  {
   "cell_type": "markdown",
   "metadata": {},
   "source": [
    "Now let's use the tokenizer to tokenize and encode the prompt text:"
   ]
  },
  {
   "cell_type": "code",
   "execution_count": 132,
   "metadata": {
    "execution": {
     "iopub.execute_input": "2022-05-07T00:39:28.618130Z",
     "iopub.status.busy": "2022-05-07T00:39:28.617728Z",
     "iopub.status.idle": "2022-05-07T00:39:28.630966Z",
     "shell.execute_reply": "2022-05-07T00:39:28.630124Z"
    }
   },
   "outputs": [
    {
     "data": {
      "text/plain": [
       "<tf.Tensor: shape=(1, 10), dtype=int32, numpy=\n",
       "array([[  616,  5751,  6404,   498,  9606,   240,   616, 26271,  7428,\n",
       "        16187]], dtype=int32)>"
      ]
     },
     "execution_count": 132,
     "metadata": {},
     "output_type": "execute_result"
    }
   ],
   "source": [
    "prompt_text = \"This royal throne of kings, this sceptred isle\"\n",
    "encoded_prompt = tokenizer.encode(prompt_text,\n",
    "                                  add_special_tokens=False,\n",
    "                                  return_tensors=\"tf\")\n",
    "encoded_prompt"
   ]
  },
  {
   "cell_type": "markdown",
   "metadata": {},
   "source": [
    "Easy! Next, let's use the model to generate text after the prompt. We will generate 5 different sentences, each starting with the prompt text, followed by 40 additional tokens. For an explanation of what all the hyperparameters do, make sure to check out this great [blog post](https://huggingface.co/blog/how-to-generate) by Patrick von Platen (from Hugging Face). You can play around with the hyperparameters to try to obtain better results."
   ]
  },
  {
   "cell_type": "code",
   "execution_count": 133,
   "metadata": {
    "execution": {
     "iopub.execute_input": "2022-05-07T00:39:28.635029Z",
     "iopub.status.busy": "2022-05-07T00:39:28.634679Z",
     "iopub.status.idle": "2022-05-07T00:39:34.764490Z",
     "shell.execute_reply": "2022-05-07T00:39:34.763524Z"
    }
   },
   "outputs": [
    {
     "data": {
      "text/plain": [
       "<tf.Tensor: shape=(5, 50), dtype=int32, numpy=\n",
       "array([[  616,  5751,  6404,   498,  9606,   240,   616, 26271,  7428,\n",
       "        16187,   240,   509,   481,  9313,  6640,   498,  1389, 11031,\n",
       "          239,   481,  2204,   544,   525,   481,  4906,  3659,   498,\n",
       "          481,   653,   911,   498,     8, 38648,   641,  1236,   481,\n",
       "         5018,   498,   481, 21368,   488,   481,  6404,   948, 35174,\n",
       "          715,  1076,   763,   641,  2520],\n",
       "       [  616,  5751,  6404,   498,  9606,   240,   616, 26271,  7428,\n",
       "        16187,   980,  1981,   557,   481,  2827,   498,   481,  1028,\n",
       "          498,  9606,   239,   244, 40477,   244,   862,  1256,   240,\n",
       "          547,  2185,   239,   244,  7395, 21800,   513,  2185,   239,\n",
       "          244,   599,   636,   512,   649,   485,   788,   257,   244,\n",
       "        40477,   481,  2228,   535,   741],\n",
       "       [  616,  5751,  6404,   498,  9606,   240,   616, 26271,  7428,\n",
       "        16187,   239,   481,  3549,   498,   589,   547, 16375,   240,\n",
       "         4258,  1076,   498,   547,  5080,   260,  2228,   240,  1485,\n",
       "         6945,  2034,   547, 13509,   239,   256, 40477,   256,  1504,\n",
       "          240,   256,   603,   481,   618,   240,   256,   249,  1259,\n",
       "        20024,   547, 11244,   240,   488],\n",
       "       [  616,  5751,  6404,   498,  9606,   240,   616, 26271,  7428,\n",
       "        16187,   487,   509,  3105,   500,   240,   616,   908,   487,\n",
       "          558,  2160,   781,   575,   240,   507,   544,  6322,   500,\n",
       "          481,  1279,   498,  2857, 24711,   504,   481,  7361,  2075,\n",
       "          498,   481, 16187,   240,   524,  1584,   759,   580,  1132,\n",
       "          822,   481,  4644,   498,  2857],\n",
       "       [  616,  5751,  6404,   498,  9606,   240,   616, 26271,  7428,\n",
       "        16187,   240, 40477,   488,   481,  1922,  4198,   535,  8908,\n",
       "          240,   834,   240,   481,  2185,   498,  1092,   239, 40477,\n",
       "          244,   500,   481,  1385,   498,   481,  2878, 13658,   240,\n",
       "         2122,  2821,  1085,   589,  8162,   240,   244, 40477,   655,\n",
       "          544,   597,  1203,  3126,   500]], dtype=int32)>"
      ]
     },
     "execution_count": 133,
     "metadata": {},
     "output_type": "execute_result"
    }
   ],
   "source": [
    "num_sequences = 5\n",
    "length = 40\n",
    "\n",
    "generated_sequences = model.generate(\n",
    "    input_ids=encoded_prompt,\n",
    "    do_sample=True,\n",
    "    max_length=length + len(encoded_prompt[0]),\n",
    "    temperature=1.0,\n",
    "    top_k=0,\n",
    "    top_p=0.9,\n",
    "    repetition_penalty=1.0,\n",
    "    num_return_sequences=num_sequences,\n",
    ")\n",
    "\n",
    "generated_sequences"
   ]
  },
  {
   "cell_type": "markdown",
   "metadata": {},
   "source": [
    "Now let's decode the generated sequences and print them:"
   ]
  },
  {
   "cell_type": "code",
   "execution_count": 134,
   "metadata": {
    "execution": {
     "iopub.execute_input": "2022-05-07T00:39:34.768477Z",
     "iopub.status.busy": "2022-05-07T00:39:34.768056Z",
     "iopub.status.idle": "2022-05-07T00:39:34.781702Z",
     "shell.execute_reply": "2022-05-07T00:39:34.780890Z"
    }
   },
   "outputs": [
    {
     "name": "stdout",
     "output_type": "stream",
     "text": [
      "this royal throne of kings, this sceptred isle, was the largest collection of such affairs. the problem is that the descendents of the earls of astoria were under the rule of the sages and the throne took precedence over those who were forced\n",
      "--------------------------------------------------------------------------------\n",
      "this royal throne of kings, this sceptred isle has passed as the beginning of the age of kings. \" \n",
      " \" well done, my lord. \" velvet complimented her lord. \" what would you like to see? \" \n",
      " the lady's eyes\n",
      "--------------------------------------------------------------------------------\n",
      "this royal throne of kings, this sceptred isle. the bones of all my comrades, including those of my ex - lady, lie crushed upon my battlefield.'\n",
      "'ah,'said the king,'i must consult my contacts, and\n",
      "--------------------------------------------------------------------------------\n",
      "this royal throne of kings, this sceptred isle he was born in, this door he had placed before him, it is located in the heart of galdir on the outer edge of the isle, his line can be found through the houses of gal\n",
      "--------------------------------------------------------------------------------\n",
      "this royal throne of kings, this sceptred isle, \n",
      " and the pendragon's portal, too, the lord of light. \n",
      " \" in the course of the seven pillars, ye shall find all treasure, \" \n",
      " there is now three bodies in\n",
      "--------------------------------------------------------------------------------\n"
     ]
    }
   ],
   "source": [
    "for sequence in generated_sequences:\n",
    "    text = tokenizer.decode(sequence, clean_up_tokenization_spaces=True)\n",
    "    print(text)\n",
    "    print(\"-\" * 80)"
   ]
  },
  {
   "cell_type": "markdown",
   "metadata": {},
   "source": [
    "You can try more recent (and larger) models, such as GPT-2, CTRL, Transformer-XL or XLNet, which are all available as pretrained models in the transformers library, including variants with Language Models on top. The preprocessing steps vary slightly between models, so make sure to check out this [generation example](https://github.com/huggingface/transformers/blob/master/examples/run_generation.py) from the transformers documentation (this example uses PyTorch, but it will work with very little tweaks, such as adding `TF` at the beginning of the model class name, removing the `.to()` method calls, and using `return_tensors=\"tf\"` instead of `\"pt\"`."
   ]
  },
  {
   "cell_type": "markdown",
   "metadata": {},
   "source": [
    "Hope you enjoyed this chapter! :)"
   ]
  }
 ],
 "metadata": {
  "kernelspec": {
   "display_name": "Python 3 (ipykernel)",
   "language": "python",
   "name": "python3"
  },
  "language_info": {
   "codemirror_mode": {
    "name": "ipython",
    "version": 3
   },
   "file_extension": ".py",
   "mimetype": "text/x-python",
   "name": "python",
   "nbconvert_exporter": "python",
   "pygments_lexer": "ipython3",
   "version": "3.8.5"
  },
  "nav_menu": {},
  "toc": {
   "navigate_menu": true,
   "number_sections": true,
   "sideBar": true,
   "threshold": 6,
   "toc_cell": false,
   "toc_section_display": "block",
   "toc_window_display": false
  },
  "widgets": {
   "application/vnd.jupyter.widget-state+json": {
    "state": {
     "055f804e364d4301ba6784bac69daac0": {
      "model_module": "@jupyter-widgets/controls",
      "model_module_version": "1.5.0",
      "model_name": "DescriptionStyleModel",
      "state": {
       "_model_module": "@jupyter-widgets/controls",
       "_model_module_version": "1.5.0",
       "_model_name": "DescriptionStyleModel",
       "_view_count": null,
       "_view_module": "@jupyter-widgets/base",
       "_view_module_version": "1.2.0",
       "_view_name": "StyleView",
       "description_width": ""
      }
     },
     "078ffbc43f934f22966db4b09571ad3d": {
      "model_module": "@jupyter-widgets/controls",
      "model_module_version": "1.5.0",
      "model_name": "HBoxModel",
      "state": {
       "_dom_classes": [],
       "_model_module": "@jupyter-widgets/controls",
       "_model_module_version": "1.5.0",
       "_model_name": "HBoxModel",
       "_view_count": null,
       "_view_module": "@jupyter-widgets/controls",
       "_view_module_version": "1.5.0",
       "_view_name": "HBoxView",
       "box_style": "",
       "children": [
        "IPY_MODEL_9099693b65a34da8bd92dc223f4259d7",
        "IPY_MODEL_d71488bbbb304bd09f5792c26f060ee8",
        "IPY_MODEL_224c2323008a48f790ae8e62665a9801"
       ],
       "layout": "IPY_MODEL_dbaec7539abe481b949245f0415484e1"
      }
     },
     "09f3a0fbda8747618e3eeec646e34b71": {
      "model_module": "@jupyter-widgets/controls",
      "model_module_version": "1.5.0",
      "model_name": "HTMLModel",
      "state": {
       "_dom_classes": [],
       "_model_module": "@jupyter-widgets/controls",
       "_model_module_version": "1.5.0",
       "_model_name": "HTMLModel",
       "_view_count": null,
       "_view_module": "@jupyter-widgets/controls",
       "_view_module_version": "1.5.0",
       "_view_name": "HTMLView",
       "description": "",
       "description_tooltip": null,
       "layout": "IPY_MODEL_caff118c8233452cab6a51de06ee9aeb",
       "placeholder": "​",
       "style": "IPY_MODEL_055f804e364d4301ba6784bac69daac0",
       "value": " 445M/445M [00:12&lt;00:00, 24.0MB/s]"
      }
     },
     "0c99acee0a2f40f7bfc65db09bdae2d9": {
      "model_module": "@jupyter-widgets/base",
      "model_module_version": "1.2.0",
      "model_name": "LayoutModel",
      "state": {
       "_model_module": "@jupyter-widgets/base",
       "_model_module_version": "1.2.0",
       "_model_name": "LayoutModel",
       "_view_count": null,
       "_view_module": "@jupyter-widgets/base",
       "_view_module_version": "1.2.0",
       "_view_name": "LayoutView",
       "align_content": null,
       "align_items": null,
       "align_self": null,
       "border": null,
       "bottom": null,
       "display": null,
       "flex": null,
       "flex_flow": null,
       "grid_area": null,
       "grid_auto_columns": null,
       "grid_auto_flow": null,
       "grid_auto_rows": null,
       "grid_column": null,
       "grid_gap": null,
       "grid_row": null,
       "grid_template_areas": null,
       "grid_template_columns": null,
       "grid_template_rows": null,
       "height": null,
       "justify_content": null,
       "justify_items": null,
       "left": null,
       "margin": null,
       "max_height": null,
       "max_width": null,
       "min_height": null,
       "min_width": null,
       "object_fit": null,
       "object_position": null,
       "order": null,
       "overflow": null,
       "overflow_x": null,
       "overflow_y": null,
       "padding": null,
       "right": null,
       "top": null,
       "visibility": null,
       "width": null
      }
     },
     "1410501181ca4c7e833f77c56f056bac": {
      "model_module": "@jupyter-widgets/controls",
      "model_module_version": "1.5.0",
      "model_name": "DescriptionStyleModel",
      "state": {
       "_model_module": "@jupyter-widgets/controls",
       "_model_module_version": "1.5.0",
       "_model_name": "DescriptionStyleModel",
       "_view_count": null,
       "_view_module": "@jupyter-widgets/base",
       "_view_module_version": "1.2.0",
       "_view_name": "StyleView",
       "description_width": ""
      }
     },
     "1b5a814d004e4566885a7bea6e785085": {
      "model_module": "@jupyter-widgets/controls",
      "model_module_version": "1.5.0",
      "model_name": "DescriptionStyleModel",
      "state": {
       "_model_module": "@jupyter-widgets/controls",
       "_model_module_version": "1.5.0",
       "_model_name": "DescriptionStyleModel",
       "_view_count": null,
       "_view_module": "@jupyter-widgets/base",
       "_view_module_version": "1.2.0",
       "_view_name": "StyleView",
       "description_width": ""
      }
     },
     "224c2323008a48f790ae8e62665a9801": {
      "model_module": "@jupyter-widgets/controls",
      "model_module_version": "1.5.0",
      "model_name": "HTMLModel",
      "state": {
       "_dom_classes": [],
       "_model_module": "@jupyter-widgets/controls",
       "_model_module_version": "1.5.0",
       "_model_name": "HTMLModel",
       "_view_count": null,
       "_view_module": "@jupyter-widgets/controls",
       "_view_module_version": "1.5.0",
       "_view_name": "HTMLView",
       "description": "",
       "description_tooltip": null,
       "layout": "IPY_MODEL_ba9fcec6e2934f7194c229667465ab20",
       "placeholder": "​",
       "style": "IPY_MODEL_612b8a9a537c4ba5887a556107e9b903",
       "value": " 656/656 [00:00&lt;00:00, 22.3kB/s]"
      }
     },
     "23aaa3c4ef1e4e359d9fce9ad86e805e": {
      "model_module": "@jupyter-widgets/base",
      "model_module_version": "1.2.0",
      "model_name": "LayoutModel",
      "state": {
       "_model_module": "@jupyter-widgets/base",
       "_model_module_version": "1.2.0",
       "_model_name": "LayoutModel",
       "_view_count": null,
       "_view_module": "@jupyter-widgets/base",
       "_view_module_version": "1.2.0",
       "_view_name": "LayoutView",
       "align_content": null,
       "align_items": null,
       "align_self": null,
       "border": null,
       "bottom": null,
       "display": null,
       "flex": null,
       "flex_flow": null,
       "grid_area": null,
       "grid_auto_columns": null,
       "grid_auto_flow": null,
       "grid_auto_rows": null,
       "grid_column": null,
       "grid_gap": null,
       "grid_row": null,
       "grid_template_areas": null,
       "grid_template_columns": null,
       "grid_template_rows": null,
       "height": null,
       "justify_content": null,
       "justify_items": null,
       "left": null,
       "margin": null,
       "max_height": null,
       "max_width": null,
       "min_height": null,
       "min_width": null,
       "object_fit": null,
       "object_position": null,
       "order": null,
       "overflow": null,
       "overflow_x": null,
       "overflow_y": null,
       "padding": null,
       "right": null,
       "top": null,
       "visibility": null,
       "width": null
      }
     },
     "2e3f1953ab5344f4bbaf85a6248abb02": {
      "model_module": "@jupyter-widgets/controls",
      "model_module_version": "1.5.0",
      "model_name": "FloatProgressModel",
      "state": {
       "_dom_classes": [],
       "_model_module": "@jupyter-widgets/controls",
       "_model_module_version": "1.5.0",
       "_model_name": "FloatProgressModel",
       "_view_count": null,
       "_view_module": "@jupyter-widgets/controls",
       "_view_module_version": "1.5.0",
       "_view_name": "ProgressView",
       "bar_style": "success",
       "description": "",
       "description_tooltip": null,
       "layout": "IPY_MODEL_76d12790b41749509ce16be8befe628b",
       "max": 458495,
       "min": 0,
       "orientation": "horizontal",
       "style": "IPY_MODEL_f038b4db96984b6c84bc099f55db347f",
       "value": 458495
      }
     },
     "303b47387a1444a4a30ce4c5158bf91c": {
      "model_module": "@jupyter-widgets/controls",
      "model_module_version": "1.5.0",
      "model_name": "HTMLModel",
      "state": {
       "_dom_classes": [],
       "_model_module": "@jupyter-widgets/controls",
       "_model_module_version": "1.5.0",
       "_model_name": "HTMLModel",
       "_view_count": null,
       "_view_module": "@jupyter-widgets/controls",
       "_view_module_version": "1.5.0",
       "_view_name": "HTMLView",
       "description": "",
       "description_tooltip": null,
       "layout": "IPY_MODEL_4e37a226d2ba42b6a0bc854b85ae7798",
       "placeholder": "​",
       "style": "IPY_MODEL_e072a0eb28754e01b2b874fcc6730391",
       "value": "Downloading: 100%"
      }
     },
     "421929687aff48bf9a862629c91dedbc": {
      "model_module": "@jupyter-widgets/controls",
      "model_module_version": "1.5.0",
      "model_name": "DescriptionStyleModel",
      "state": {
       "_model_module": "@jupyter-widgets/controls",
       "_model_module_version": "1.5.0",
       "_model_name": "DescriptionStyleModel",
       "_view_count": null,
       "_view_module": "@jupyter-widgets/base",
       "_view_module_version": "1.2.0",
       "_view_name": "StyleView",
       "description_width": ""
      }
     },
     "425fd8e2874746e89e0f6cf038a29bbb": {
      "model_module": "@jupyter-widgets/base",
      "model_module_version": "1.2.0",
      "model_name": "LayoutModel",
      "state": {
       "_model_module": "@jupyter-widgets/base",
       "_model_module_version": "1.2.0",
       "_model_name": "LayoutModel",
       "_view_count": null,
       "_view_module": "@jupyter-widgets/base",
       "_view_module_version": "1.2.0",
       "_view_name": "LayoutView",
       "align_content": null,
       "align_items": null,
       "align_self": null,
       "border": null,
       "bottom": null,
       "display": null,
       "flex": null,
       "flex_flow": null,
       "grid_area": null,
       "grid_auto_columns": null,
       "grid_auto_flow": null,
       "grid_auto_rows": null,
       "grid_column": null,
       "grid_gap": null,
       "grid_row": null,
       "grid_template_areas": null,
       "grid_template_columns": null,
       "grid_template_rows": null,
       "height": null,
       "justify_content": null,
       "justify_items": null,
       "left": null,
       "margin": null,
       "max_height": null,
       "max_width": null,
       "min_height": null,
       "min_width": null,
       "object_fit": null,
       "object_position": null,
       "order": null,
       "overflow": null,
       "overflow_x": null,
       "overflow_y": null,
       "padding": null,
       "right": null,
       "top": null,
       "visibility": null,
       "width": null
      }
     },
     "4e37a226d2ba42b6a0bc854b85ae7798": {
      "model_module": "@jupyter-widgets/base",
      "model_module_version": "1.2.0",
      "model_name": "LayoutModel",
      "state": {
       "_model_module": "@jupyter-widgets/base",
       "_model_module_version": "1.2.0",
       "_model_name": "LayoutModel",
       "_view_count": null,
       "_view_module": "@jupyter-widgets/base",
       "_view_module_version": "1.2.0",
       "_view_name": "LayoutView",
       "align_content": null,
       "align_items": null,
       "align_self": null,
       "border": null,
       "bottom": null,
       "display": null,
       "flex": null,
       "flex_flow": null,
       "grid_area": null,
       "grid_auto_columns": null,
       "grid_auto_flow": null,
       "grid_auto_rows": null,
       "grid_column": null,
       "grid_gap": null,
       "grid_row": null,
       "grid_template_areas": null,
       "grid_template_columns": null,
       "grid_template_rows": null,
       "height": null,
       "justify_content": null,
       "justify_items": null,
       "left": null,
       "margin": null,
       "max_height": null,
       "max_width": null,
       "min_height": null,
       "min_width": null,
       "object_fit": null,
       "object_position": null,
       "order": null,
       "overflow": null,
       "overflow_x": null,
       "overflow_y": null,
       "padding": null,
       "right": null,
       "top": null,
       "visibility": null,
       "width": null
      }
     },
     "5e140953cadc414f9bb466454317155d": {
      "model_module": "@jupyter-widgets/base",
      "model_module_version": "1.2.0",
      "model_name": "LayoutModel",
      "state": {
       "_model_module": "@jupyter-widgets/base",
       "_model_module_version": "1.2.0",
       "_model_name": "LayoutModel",
       "_view_count": null,
       "_view_module": "@jupyter-widgets/base",
       "_view_module_version": "1.2.0",
       "_view_name": "LayoutView",
       "align_content": null,
       "align_items": null,
       "align_self": null,
       "border": null,
       "bottom": null,
       "display": null,
       "flex": null,
       "flex_flow": null,
       "grid_area": null,
       "grid_auto_columns": null,
       "grid_auto_flow": null,
       "grid_auto_rows": null,
       "grid_column": null,
       "grid_gap": null,
       "grid_row": null,
       "grid_template_areas": null,
       "grid_template_columns": null,
       "grid_template_rows": null,
       "height": null,
       "justify_content": null,
       "justify_items": null,
       "left": null,
       "margin": null,
       "max_height": null,
       "max_width": null,
       "min_height": null,
       "min_width": null,
       "object_fit": null,
       "object_position": null,
       "order": null,
       "overflow": null,
       "overflow_x": null,
       "overflow_y": null,
       "padding": null,
       "right": null,
       "top": null,
       "visibility": null,
       "width": null
      }
     },
     "612b8a9a537c4ba5887a556107e9b903": {
      "model_module": "@jupyter-widgets/controls",
      "model_module_version": "1.5.0",
      "model_name": "DescriptionStyleModel",
      "state": {
       "_model_module": "@jupyter-widgets/controls",
       "_model_module_version": "1.5.0",
       "_model_name": "DescriptionStyleModel",
       "_view_count": null,
       "_view_module": "@jupyter-widgets/base",
       "_view_module_version": "1.2.0",
       "_view_name": "StyleView",
       "description_width": ""
      }
     },
     "62594fa8b4354bf1932fac7e13b6a377": {
      "model_module": "@jupyter-widgets/controls",
      "model_module_version": "1.5.0",
      "model_name": "HBoxModel",
      "state": {
       "_dom_classes": [],
       "_model_module": "@jupyter-widgets/controls",
       "_model_module_version": "1.5.0",
       "_model_name": "HBoxModel",
       "_view_count": null,
       "_view_module": "@jupyter-widgets/controls",
       "_view_module_version": "1.5.0",
       "_view_name": "HBoxView",
       "box_style": "",
       "children": [
        "IPY_MODEL_ae0934171914499faf9c4b95f739d5df",
        "IPY_MODEL_a1a1a249c51b4ca6b4cdb4009f586653",
        "IPY_MODEL_09f3a0fbda8747618e3eeec646e34b71"
       ],
       "layout": "IPY_MODEL_a44de7d75ea84ffb9a9942a9e1e6eff1"
      }
     },
     "711edb6e44bd4bad8435f28eba1731c8": {
      "model_module": "@jupyter-widgets/controls",
      "model_module_version": "1.5.0",
      "model_name": "HBoxModel",
      "state": {
       "_dom_classes": [],
       "_model_module": "@jupyter-widgets/controls",
       "_model_module_version": "1.5.0",
       "_model_name": "HBoxModel",
       "_view_count": null,
       "_view_module": "@jupyter-widgets/controls",
       "_view_module_version": "1.5.0",
       "_view_name": "HBoxView",
       "box_style": "",
       "children": [
        "IPY_MODEL_ae3812b671fa42fbb331b6ab5d024ccb",
        "IPY_MODEL_2e3f1953ab5344f4bbaf85a6248abb02",
        "IPY_MODEL_f80121d6395d4920804125fab6c9a165"
       ],
       "layout": "IPY_MODEL_b8103c932b0f46519cec5ed6a9bbbd81"
      }
     },
     "762c9b28c1654f5f93a63b1313ca3504": {
      "model_module": "@jupyter-widgets/base",
      "model_module_version": "1.2.0",
      "model_name": "LayoutModel",
      "state": {
       "_model_module": "@jupyter-widgets/base",
       "_model_module_version": "1.2.0",
       "_model_name": "LayoutModel",
       "_view_count": null,
       "_view_module": "@jupyter-widgets/base",
       "_view_module_version": "1.2.0",
       "_view_name": "LayoutView",
       "align_content": null,
       "align_items": null,
       "align_self": null,
       "border": null,
       "bottom": null,
       "display": null,
       "flex": null,
       "flex_flow": null,
       "grid_area": null,
       "grid_auto_columns": null,
       "grid_auto_flow": null,
       "grid_auto_rows": null,
       "grid_column": null,
       "grid_gap": null,
       "grid_row": null,
       "grid_template_areas": null,
       "grid_template_columns": null,
       "grid_template_rows": null,
       "height": null,
       "justify_content": null,
       "justify_items": null,
       "left": null,
       "margin": null,
       "max_height": null,
       "max_width": null,
       "min_height": null,
       "min_width": null,
       "object_fit": null,
       "object_position": null,
       "order": null,
       "overflow": null,
       "overflow_x": null,
       "overflow_y": null,
       "padding": null,
       "right": null,
       "top": null,
       "visibility": null,
       "width": null
      }
     },
     "76d12790b41749509ce16be8befe628b": {
      "model_module": "@jupyter-widgets/base",
      "model_module_version": "1.2.0",
      "model_name": "LayoutModel",
      "state": {
       "_model_module": "@jupyter-widgets/base",
       "_model_module_version": "1.2.0",
       "_model_name": "LayoutModel",
       "_view_count": null,
       "_view_module": "@jupyter-widgets/base",
       "_view_module_version": "1.2.0",
       "_view_name": "LayoutView",
       "align_content": null,
       "align_items": null,
       "align_self": null,
       "border": null,
       "bottom": null,
       "display": null,
       "flex": null,
       "flex_flow": null,
       "grid_area": null,
       "grid_auto_columns": null,
       "grid_auto_flow": null,
       "grid_auto_rows": null,
       "grid_column": null,
       "grid_gap": null,
       "grid_row": null,
       "grid_template_areas": null,
       "grid_template_columns": null,
       "grid_template_rows": null,
       "height": null,
       "justify_content": null,
       "justify_items": null,
       "left": null,
       "margin": null,
       "max_height": null,
       "max_width": null,
       "min_height": null,
       "min_width": null,
       "object_fit": null,
       "object_position": null,
       "order": null,
       "overflow": null,
       "overflow_x": null,
       "overflow_y": null,
       "padding": null,
       "right": null,
       "top": null,
       "visibility": null,
       "width": null
      }
     },
     "9099693b65a34da8bd92dc223f4259d7": {
      "model_module": "@jupyter-widgets/controls",
      "model_module_version": "1.5.0",
      "model_name": "HTMLModel",
      "state": {
       "_dom_classes": [],
       "_model_module": "@jupyter-widgets/controls",
       "_model_module_version": "1.5.0",
       "_model_name": "HTMLModel",
       "_view_count": null,
       "_view_module": "@jupyter-widgets/controls",
       "_view_module_version": "1.5.0",
       "_view_name": "HTMLView",
       "description": "",
       "description_tooltip": null,
       "layout": "IPY_MODEL_a7833e4b8c7b44c7887c060b4155591b",
       "placeholder": "​",
       "style": "IPY_MODEL_1b5a814d004e4566885a7bea6e785085",
       "value": "Downloading: 100%"
      }
     },
     "a1a1a249c51b4ca6b4cdb4009f586653": {
      "model_module": "@jupyter-widgets/controls",
      "model_module_version": "1.5.0",
      "model_name": "FloatProgressModel",
      "state": {
       "_dom_classes": [],
       "_model_module": "@jupyter-widgets/controls",
       "_model_module_version": "1.5.0",
       "_model_name": "FloatProgressModel",
       "_view_count": null,
       "_view_module": "@jupyter-widgets/controls",
       "_view_module_version": "1.5.0",
       "_view_name": "ProgressView",
       "bar_style": "success",
       "description": "",
       "description_tooltip": null,
       "layout": "IPY_MODEL_ec66d7c3cabc4efc896bcf17792bad43",
       "max": 466312920,
       "min": 0,
       "orientation": "horizontal",
       "style": "IPY_MODEL_f115e395948547599516bc665c0429d0",
       "value": 466312920
      }
     },
     "a2fed4a59deb4cb38c200c7ab9594c54": {
      "model_module": "@jupyter-widgets/base",
      "model_module_version": "1.2.0",
      "model_name": "LayoutModel",
      "state": {
       "_model_module": "@jupyter-widgets/base",
       "_model_module_version": "1.2.0",
       "_model_name": "LayoutModel",
       "_view_count": null,
       "_view_module": "@jupyter-widgets/base",
       "_view_module_version": "1.2.0",
       "_view_name": "LayoutView",
       "align_content": null,
       "align_items": null,
       "align_self": null,
       "border": null,
       "bottom": null,
       "display": null,
       "flex": null,
       "flex_flow": null,
       "grid_area": null,
       "grid_auto_columns": null,
       "grid_auto_flow": null,
       "grid_auto_rows": null,
       "grid_column": null,
       "grid_gap": null,
       "grid_row": null,
       "grid_template_areas": null,
       "grid_template_columns": null,
       "grid_template_rows": null,
       "height": null,
       "justify_content": null,
       "justify_items": null,
       "left": null,
       "margin": null,
       "max_height": null,
       "max_width": null,
       "min_height": null,
       "min_width": null,
       "object_fit": null,
       "object_position": null,
       "order": null,
       "overflow": null,
       "overflow_x": null,
       "overflow_y": null,
       "padding": null,
       "right": null,
       "top": null,
       "visibility": null,
       "width": null
      }
     },
     "a44de7d75ea84ffb9a9942a9e1e6eff1": {
      "model_module": "@jupyter-widgets/base",
      "model_module_version": "1.2.0",
      "model_name": "LayoutModel",
      "state": {
       "_model_module": "@jupyter-widgets/base",
       "_model_module_version": "1.2.0",
       "_model_name": "LayoutModel",
       "_view_count": null,
       "_view_module": "@jupyter-widgets/base",
       "_view_module_version": "1.2.0",
       "_view_name": "LayoutView",
       "align_content": null,
       "align_items": null,
       "align_self": null,
       "border": null,
       "bottom": null,
       "display": null,
       "flex": null,
       "flex_flow": null,
       "grid_area": null,
       "grid_auto_columns": null,
       "grid_auto_flow": null,
       "grid_auto_rows": null,
       "grid_column": null,
       "grid_gap": null,
       "grid_row": null,
       "grid_template_areas": null,
       "grid_template_columns": null,
       "grid_template_rows": null,
       "height": null,
       "justify_content": null,
       "justify_items": null,
       "left": null,
       "margin": null,
       "max_height": null,
       "max_width": null,
       "min_height": null,
       "min_width": null,
       "object_fit": null,
       "object_position": null,
       "order": null,
       "overflow": null,
       "overflow_x": null,
       "overflow_y": null,
       "padding": null,
       "right": null,
       "top": null,
       "visibility": null,
       "width": null
      }
     },
     "a7833e4b8c7b44c7887c060b4155591b": {
      "model_module": "@jupyter-widgets/base",
      "model_module_version": "1.2.0",
      "model_name": "LayoutModel",
      "state": {
       "_model_module": "@jupyter-widgets/base",
       "_model_module_version": "1.2.0",
       "_model_name": "LayoutModel",
       "_view_count": null,
       "_view_module": "@jupyter-widgets/base",
       "_view_module_version": "1.2.0",
       "_view_name": "LayoutView",
       "align_content": null,
       "align_items": null,
       "align_self": null,
       "border": null,
       "bottom": null,
       "display": null,
       "flex": null,
       "flex_flow": null,
       "grid_area": null,
       "grid_auto_columns": null,
       "grid_auto_flow": null,
       "grid_auto_rows": null,
       "grid_column": null,
       "grid_gap": null,
       "grid_row": null,
       "grid_template_areas": null,
       "grid_template_columns": null,
       "grid_template_rows": null,
       "height": null,
       "justify_content": null,
       "justify_items": null,
       "left": null,
       "margin": null,
       "max_height": null,
       "max_width": null,
       "min_height": null,
       "min_width": null,
       "object_fit": null,
       "object_position": null,
       "order": null,
       "overflow": null,
       "overflow_x": null,
       "overflow_y": null,
       "padding": null,
       "right": null,
       "top": null,
       "visibility": null,
       "width": null
      }
     },
     "a88c2b74decb4f8ca9e5257192205584": {
      "model_module": "@jupyter-widgets/controls",
      "model_module_version": "1.5.0",
      "model_name": "ProgressStyleModel",
      "state": {
       "_model_module": "@jupyter-widgets/controls",
       "_model_module_version": "1.5.0",
       "_model_name": "ProgressStyleModel",
       "_view_count": null,
       "_view_module": "@jupyter-widgets/base",
       "_view_module_version": "1.2.0",
       "_view_name": "StyleView",
       "bar_color": null,
       "description_width": ""
      }
     },
     "ae0934171914499faf9c4b95f739d5df": {
      "model_module": "@jupyter-widgets/controls",
      "model_module_version": "1.5.0",
      "model_name": "HTMLModel",
      "state": {
       "_dom_classes": [],
       "_model_module": "@jupyter-widgets/controls",
       "_model_module_version": "1.5.0",
       "_model_name": "HTMLModel",
       "_view_count": null,
       "_view_module": "@jupyter-widgets/controls",
       "_view_module_version": "1.5.0",
       "_view_name": "HTMLView",
       "description": "",
       "description_tooltip": null,
       "layout": "IPY_MODEL_b5d3b5ff51c848f784b7dbbc23671442",
       "placeholder": "​",
       "style": "IPY_MODEL_f1c95fa964dc47e6bc6ee7f02d027c3b",
       "value": "Downloading: 100%"
      }
     },
     "ae3812b671fa42fbb331b6ab5d024ccb": {
      "model_module": "@jupyter-widgets/controls",
      "model_module_version": "1.5.0",
      "model_name": "HTMLModel",
      "state": {
       "_dom_classes": [],
       "_model_module": "@jupyter-widgets/controls",
       "_model_module_version": "1.5.0",
       "_model_name": "HTMLModel",
       "_view_count": null,
       "_view_module": "@jupyter-widgets/controls",
       "_view_module_version": "1.5.0",
       "_view_name": "HTMLView",
       "description": "",
       "description_tooltip": null,
       "layout": "IPY_MODEL_425fd8e2874746e89e0f6cf038a29bbb",
       "placeholder": "​",
       "style": "IPY_MODEL_1410501181ca4c7e833f77c56f056bac",
       "value": "Downloading: 100%"
      }
     },
     "b5d3b5ff51c848f784b7dbbc23671442": {
      "model_module": "@jupyter-widgets/base",
      "model_module_version": "1.2.0",
      "model_name": "LayoutModel",
      "state": {
       "_model_module": "@jupyter-widgets/base",
       "_model_module_version": "1.2.0",
       "_model_name": "LayoutModel",
       "_view_count": null,
       "_view_module": "@jupyter-widgets/base",
       "_view_module_version": "1.2.0",
       "_view_name": "LayoutView",
       "align_content": null,
       "align_items": null,
       "align_self": null,
       "border": null,
       "bottom": null,
       "display": null,
       "flex": null,
       "flex_flow": null,
       "grid_area": null,
       "grid_auto_columns": null,
       "grid_auto_flow": null,
       "grid_auto_rows": null,
       "grid_column": null,
       "grid_gap": null,
       "grid_row": null,
       "grid_template_areas": null,
       "grid_template_columns": null,
       "grid_template_rows": null,
       "height": null,
       "justify_content": null,
       "justify_items": null,
       "left": null,
       "margin": null,
       "max_height": null,
       "max_width": null,
       "min_height": null,
       "min_width": null,
       "object_fit": null,
       "object_position": null,
       "order": null,
       "overflow": null,
       "overflow_x": null,
       "overflow_y": null,
       "padding": null,
       "right": null,
       "top": null,
       "visibility": null,
       "width": null
      }
     },
     "b8103c932b0f46519cec5ed6a9bbbd81": {
      "model_module": "@jupyter-widgets/base",
      "model_module_version": "1.2.0",
      "model_name": "LayoutModel",
      "state": {
       "_model_module": "@jupyter-widgets/base",
       "_model_module_version": "1.2.0",
       "_model_name": "LayoutModel",
       "_view_count": null,
       "_view_module": "@jupyter-widgets/base",
       "_view_module_version": "1.2.0",
       "_view_name": "LayoutView",
       "align_content": null,
       "align_items": null,
       "align_self": null,
       "border": null,
       "bottom": null,
       "display": null,
       "flex": null,
       "flex_flow": null,
       "grid_area": null,
       "grid_auto_columns": null,
       "grid_auto_flow": null,
       "grid_auto_rows": null,
       "grid_column": null,
       "grid_gap": null,
       "grid_row": null,
       "grid_template_areas": null,
       "grid_template_columns": null,
       "grid_template_rows": null,
       "height": null,
       "justify_content": null,
       "justify_items": null,
       "left": null,
       "margin": null,
       "max_height": null,
       "max_width": null,
       "min_height": null,
       "min_width": null,
       "object_fit": null,
       "object_position": null,
       "order": null,
       "overflow": null,
       "overflow_x": null,
       "overflow_y": null,
       "padding": null,
       "right": null,
       "top": null,
       "visibility": null,
       "width": null
      }
     },
     "ba9fcec6e2934f7194c229667465ab20": {
      "model_module": "@jupyter-widgets/base",
      "model_module_version": "1.2.0",
      "model_name": "LayoutModel",
      "state": {
       "_model_module": "@jupyter-widgets/base",
       "_model_module_version": "1.2.0",
       "_model_name": "LayoutModel",
       "_view_count": null,
       "_view_module": "@jupyter-widgets/base",
       "_view_module_version": "1.2.0",
       "_view_name": "LayoutView",
       "align_content": null,
       "align_items": null,
       "align_self": null,
       "border": null,
       "bottom": null,
       "display": null,
       "flex": null,
       "flex_flow": null,
       "grid_area": null,
       "grid_auto_columns": null,
       "grid_auto_flow": null,
       "grid_auto_rows": null,
       "grid_column": null,
       "grid_gap": null,
       "grid_row": null,
       "grid_template_areas": null,
       "grid_template_columns": null,
       "grid_template_rows": null,
       "height": null,
       "justify_content": null,
       "justify_items": null,
       "left": null,
       "margin": null,
       "max_height": null,
       "max_width": null,
       "min_height": null,
       "min_width": null,
       "object_fit": null,
       "object_position": null,
       "order": null,
       "overflow": null,
       "overflow_x": null,
       "overflow_y": null,
       "padding": null,
       "right": null,
       "top": null,
       "visibility": null,
       "width": null
      }
     },
     "caff118c8233452cab6a51de06ee9aeb": {
      "model_module": "@jupyter-widgets/base",
      "model_module_version": "1.2.0",
      "model_name": "LayoutModel",
      "state": {
       "_model_module": "@jupyter-widgets/base",
       "_model_module_version": "1.2.0",
       "_model_name": "LayoutModel",
       "_view_count": null,
       "_view_module": "@jupyter-widgets/base",
       "_view_module_version": "1.2.0",
       "_view_name": "LayoutView",
       "align_content": null,
       "align_items": null,
       "align_self": null,
       "border": null,
       "bottom": null,
       "display": null,
       "flex": null,
       "flex_flow": null,
       "grid_area": null,
       "grid_auto_columns": null,
       "grid_auto_flow": null,
       "grid_auto_rows": null,
       "grid_column": null,
       "grid_gap": null,
       "grid_row": null,
       "grid_template_areas": null,
       "grid_template_columns": null,
       "grid_template_rows": null,
       "height": null,
       "justify_content": null,
       "justify_items": null,
       "left": null,
       "margin": null,
       "max_height": null,
       "max_width": null,
       "min_height": null,
       "min_width": null,
       "object_fit": null,
       "object_position": null,
       "order": null,
       "overflow": null,
       "overflow_x": null,
       "overflow_y": null,
       "padding": null,
       "right": null,
       "top": null,
       "visibility": null,
       "width": null
      }
     },
     "d71488bbbb304bd09f5792c26f060ee8": {
      "model_module": "@jupyter-widgets/controls",
      "model_module_version": "1.5.0",
      "model_name": "FloatProgressModel",
      "state": {
       "_dom_classes": [],
       "_model_module": "@jupyter-widgets/controls",
       "_model_module_version": "1.5.0",
       "_model_name": "FloatProgressModel",
       "_view_count": null,
       "_view_module": "@jupyter-widgets/controls",
       "_view_module_version": "1.5.0",
       "_view_name": "ProgressView",
       "bar_style": "success",
       "description": "",
       "description_tooltip": null,
       "layout": "IPY_MODEL_a2fed4a59deb4cb38c200c7ab9594c54",
       "max": 656,
       "min": 0,
       "orientation": "horizontal",
       "style": "IPY_MODEL_f2d526e6807540abaf977ff5312d7449",
       "value": 656
      }
     },
     "dbaec7539abe481b949245f0415484e1": {
      "model_module": "@jupyter-widgets/base",
      "model_module_version": "1.2.0",
      "model_name": "LayoutModel",
      "state": {
       "_model_module": "@jupyter-widgets/base",
       "_model_module_version": "1.2.0",
       "_model_name": "LayoutModel",
       "_view_count": null,
       "_view_module": "@jupyter-widgets/base",
       "_view_module_version": "1.2.0",
       "_view_name": "LayoutView",
       "align_content": null,
       "align_items": null,
       "align_self": null,
       "border": null,
       "bottom": null,
       "display": null,
       "flex": null,
       "flex_flow": null,
       "grid_area": null,
       "grid_auto_columns": null,
       "grid_auto_flow": null,
       "grid_auto_rows": null,
       "grid_column": null,
       "grid_gap": null,
       "grid_row": null,
       "grid_template_areas": null,
       "grid_template_columns": null,
       "grid_template_rows": null,
       "height": null,
       "justify_content": null,
       "justify_items": null,
       "left": null,
       "margin": null,
       "max_height": null,
       "max_width": null,
       "min_height": null,
       "min_width": null,
       "object_fit": null,
       "object_position": null,
       "order": null,
       "overflow": null,
       "overflow_x": null,
       "overflow_y": null,
       "padding": null,
       "right": null,
       "top": null,
       "visibility": null,
       "width": null
      }
     },
     "e072a0eb28754e01b2b874fcc6730391": {
      "model_module": "@jupyter-widgets/controls",
      "model_module_version": "1.5.0",
      "model_name": "DescriptionStyleModel",
      "state": {
       "_model_module": "@jupyter-widgets/controls",
       "_model_module_version": "1.5.0",
       "_model_name": "DescriptionStyleModel",
       "_view_count": null,
       "_view_module": "@jupyter-widgets/base",
       "_view_module_version": "1.2.0",
       "_view_name": "StyleView",
       "description_width": ""
      }
     },
     "e22420cc672a4c01848bcd2a9e9abfbc": {
      "model_module": "@jupyter-widgets/controls",
      "model_module_version": "1.5.0",
      "model_name": "FloatProgressModel",
      "state": {
       "_dom_classes": [],
       "_model_module": "@jupyter-widgets/controls",
       "_model_module_version": "1.5.0",
       "_model_name": "FloatProgressModel",
       "_view_count": null,
       "_view_module": "@jupyter-widgets/controls",
       "_view_module_version": "1.5.0",
       "_view_name": "ProgressView",
       "bar_style": "success",
       "description": "",
       "description_tooltip": null,
       "layout": "IPY_MODEL_0c99acee0a2f40f7bfc65db09bdae2d9",
       "max": 815973,
       "min": 0,
       "orientation": "horizontal",
       "style": "IPY_MODEL_a88c2b74decb4f8ca9e5257192205584",
       "value": 815973
      }
     },
     "e9638fdf1016467bba3bbbb402ce8d76": {
      "model_module": "@jupyter-widgets/controls",
      "model_module_version": "1.5.0",
      "model_name": "HBoxModel",
      "state": {
       "_dom_classes": [],
       "_model_module": "@jupyter-widgets/controls",
       "_model_module_version": "1.5.0",
       "_model_name": "HBoxModel",
       "_view_count": null,
       "_view_module": "@jupyter-widgets/controls",
       "_view_module_version": "1.5.0",
       "_view_name": "HBoxView",
       "box_style": "",
       "children": [
        "IPY_MODEL_303b47387a1444a4a30ce4c5158bf91c",
        "IPY_MODEL_e22420cc672a4c01848bcd2a9e9abfbc",
        "IPY_MODEL_feed281523ff4fcea3e4165761aecfe4"
       ],
       "layout": "IPY_MODEL_762c9b28c1654f5f93a63b1313ca3504"
      }
     },
     "ec66d7c3cabc4efc896bcf17792bad43": {
      "model_module": "@jupyter-widgets/base",
      "model_module_version": "1.2.0",
      "model_name": "LayoutModel",
      "state": {
       "_model_module": "@jupyter-widgets/base",
       "_model_module_version": "1.2.0",
       "_model_name": "LayoutModel",
       "_view_count": null,
       "_view_module": "@jupyter-widgets/base",
       "_view_module_version": "1.2.0",
       "_view_name": "LayoutView",
       "align_content": null,
       "align_items": null,
       "align_self": null,
       "border": null,
       "bottom": null,
       "display": null,
       "flex": null,
       "flex_flow": null,
       "grid_area": null,
       "grid_auto_columns": null,
       "grid_auto_flow": null,
       "grid_auto_rows": null,
       "grid_column": null,
       "grid_gap": null,
       "grid_row": null,
       "grid_template_areas": null,
       "grid_template_columns": null,
       "grid_template_rows": null,
       "height": null,
       "justify_content": null,
       "justify_items": null,
       "left": null,
       "margin": null,
       "max_height": null,
       "max_width": null,
       "min_height": null,
       "min_width": null,
       "object_fit": null,
       "object_position": null,
       "order": null,
       "overflow": null,
       "overflow_x": null,
       "overflow_y": null,
       "padding": null,
       "right": null,
       "top": null,
       "visibility": null,
       "width": null
      }
     },
     "eebae9c56b354204b34ad54d277faf7a": {
      "model_module": "@jupyter-widgets/controls",
      "model_module_version": "1.5.0",
      "model_name": "DescriptionStyleModel",
      "state": {
       "_model_module": "@jupyter-widgets/controls",
       "_model_module_version": "1.5.0",
       "_model_name": "DescriptionStyleModel",
       "_view_count": null,
       "_view_module": "@jupyter-widgets/base",
       "_view_module_version": "1.2.0",
       "_view_name": "StyleView",
       "description_width": ""
      }
     },
     "f038b4db96984b6c84bc099f55db347f": {
      "model_module": "@jupyter-widgets/controls",
      "model_module_version": "1.5.0",
      "model_name": "ProgressStyleModel",
      "state": {
       "_model_module": "@jupyter-widgets/controls",
       "_model_module_version": "1.5.0",
       "_model_name": "ProgressStyleModel",
       "_view_count": null,
       "_view_module": "@jupyter-widgets/base",
       "_view_module_version": "1.2.0",
       "_view_name": "StyleView",
       "bar_color": null,
       "description_width": ""
      }
     },
     "f115e395948547599516bc665c0429d0": {
      "model_module": "@jupyter-widgets/controls",
      "model_module_version": "1.5.0",
      "model_name": "ProgressStyleModel",
      "state": {
       "_model_module": "@jupyter-widgets/controls",
       "_model_module_version": "1.5.0",
       "_model_name": "ProgressStyleModel",
       "_view_count": null,
       "_view_module": "@jupyter-widgets/base",
       "_view_module_version": "1.2.0",
       "_view_name": "StyleView",
       "bar_color": null,
       "description_width": ""
      }
     },
     "f1c95fa964dc47e6bc6ee7f02d027c3b": {
      "model_module": "@jupyter-widgets/controls",
      "model_module_version": "1.5.0",
      "model_name": "DescriptionStyleModel",
      "state": {
       "_model_module": "@jupyter-widgets/controls",
       "_model_module_version": "1.5.0",
       "_model_name": "DescriptionStyleModel",
       "_view_count": null,
       "_view_module": "@jupyter-widgets/base",
       "_view_module_version": "1.2.0",
       "_view_name": "StyleView",
       "description_width": ""
      }
     },
     "f2d526e6807540abaf977ff5312d7449": {
      "model_module": "@jupyter-widgets/controls",
      "model_module_version": "1.5.0",
      "model_name": "ProgressStyleModel",
      "state": {
       "_model_module": "@jupyter-widgets/controls",
       "_model_module_version": "1.5.0",
       "_model_name": "ProgressStyleModel",
       "_view_count": null,
       "_view_module": "@jupyter-widgets/base",
       "_view_module_version": "1.2.0",
       "_view_name": "StyleView",
       "bar_color": null,
       "description_width": ""
      }
     },
     "f80121d6395d4920804125fab6c9a165": {
      "model_module": "@jupyter-widgets/controls",
      "model_module_version": "1.5.0",
      "model_name": "HTMLModel",
      "state": {
       "_dom_classes": [],
       "_model_module": "@jupyter-widgets/controls",
       "_model_module_version": "1.5.0",
       "_model_name": "HTMLModel",
       "_view_count": null,
       "_view_module": "@jupyter-widgets/controls",
       "_view_module_version": "1.5.0",
       "_view_name": "HTMLView",
       "description": "",
       "description_tooltip": null,
       "layout": "IPY_MODEL_23aaa3c4ef1e4e359d9fce9ad86e805e",
       "placeholder": "​",
       "style": "IPY_MODEL_eebae9c56b354204b34ad54d277faf7a",
       "value": " 448k/448k [00:00&lt;00:00, 5.10MB/s]"
      }
     },
     "feed281523ff4fcea3e4165761aecfe4": {
      "model_module": "@jupyter-widgets/controls",
      "model_module_version": "1.5.0",
      "model_name": "HTMLModel",
      "state": {
       "_dom_classes": [],
       "_model_module": "@jupyter-widgets/controls",
       "_model_module_version": "1.5.0",
       "_model_name": "HTMLModel",
       "_view_count": null,
       "_view_module": "@jupyter-widgets/controls",
       "_view_module_version": "1.5.0",
       "_view_name": "HTMLView",
       "description": "",
       "description_tooltip": null,
       "layout": "IPY_MODEL_5e140953cadc414f9bb466454317155d",
       "placeholder": "​",
       "style": "IPY_MODEL_421929687aff48bf9a862629c91dedbc",
       "value": " 797k/797k [00:00&lt;00:00, 9.67MB/s]"
      }
     }
    },
    "version_major": 2,
    "version_minor": 0
   }
  }
 },
 "nbformat": 4,
 "nbformat_minor": 4
}
